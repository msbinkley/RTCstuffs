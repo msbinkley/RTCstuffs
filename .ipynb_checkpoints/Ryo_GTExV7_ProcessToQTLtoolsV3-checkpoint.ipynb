{
 "cells": [
  {
   "cell_type": "code",
   "execution_count": 1,
   "metadata": {
    "collapsed": false
   },
   "outputs": [],
   "source": [
    "#### REMEMBER TO GIT PULL!  ####\n",
    "#### Add this block to all jupyter files ####\n",
    "\n",
    "#Loading and importing necessary tools. \n",
    "%load_ext autoreload \n",
    "%autoreload 2\n",
    "import sys, os\n",
    "sys.path.append(\"scripts\")\n",
    "import load_params as LP\n",
    "\n",
    "\n",
    "# Comment and uncomment these two lines for when you are working on this notebook. \n",
    "#param_file = \"param_files/ryo_local.csv\"\n",
    "param_file = \"param_files/binkley_local.csv\" \n",
    "\n",
    "paramDict = LP.load_param_file(param_file)\n",
    "\n",
    "import seaborn as sns\n",
    "import matplotlib as mpl\n",
    "import matplotlib.pyplot as plt\n",
    "%matplotlib inline\n",
    "import scipy\n",
    "from scipy import stats\n",
    "import sys\n",
    "import numpy as np\n",
    "import pandas as pd\n",
    "from pandas import Series,DataFrame\n",
    "import sys\n",
    "import codecs\n",
    " \n",
    "import random\n",
    "random.seed(0)\n",
    "from random import sample\n",
    "\n",
    "\n",
    "import seaborn as sns\n",
    "sns.set_style('whitegrid')\n",
    "\n",
    "# guarantee unicode string\n",
    "_u = lambda t: t.decode('UTF-8', 'replace') if isinstance(t, str) else t\n",
    "_uu = lambda *tt: tuple(_u(t) for t in tt) \n",
    "# guarantee byte string in UTF8 encoding\n",
    "_u8 = lambda t: t.encode('UTF-8', 'replace') if isinstance(t, unicode) else t\n",
    "_uu8 = lambda *tt: tuple(_u8(t) for t in tt) "
   ]
  },
  {
   "cell_type": "code",
   "execution_count": 10,
   "metadata": {
    "collapsed": false
   },
   "outputs": [
    {
     "name": "stdout",
     "output_type": "stream",
     "text": [
      "RUNNING\n",
      "eqtl ['22_40496656_C_T_b37']\n",
      "gwas ['22_40504286_G_A_b37']\n",
      "\tGetting dosage vector for : 22 40407887 /Users/michaelbinkley/Desktop/GTEx/\n",
      "\tGetting header\n",
      "\tStillok\n",
      "\t calculate residuals\n",
      "\tGetting dosage vector for : 22 40407887 /Users/michaelbinkley/Desktop/GTEx/\n",
      "\tGetting header\n",
      "\tStillok\n",
      "\t calculate residuals\n",
      "\tGetting dosage vector for : 22 40419816 /Users/michaelbinkley/Desktop/GTEx/\n",
      "\tGetting header\n",
      "\tStillok\n",
      "RUNNING\n",
      "eqtl ['22_40497367_A_G_b37']\n",
      "gwas ['22_40502076_T_A_b37']\n",
      "\tGetting dosage vector for : 22 40407887 /Users/michaelbinkley/Desktop/GTEx/\n",
      "\tGetting header\n",
      "\tStillok\n",
      "\t calculate residuals\n",
      "\tGetting dosage vector for : 22 40407887 /Users/michaelbinkley/Desktop/GTEx/\n",
      "\tGetting header\n",
      "\tStillok\n",
      "\t calculate residuals\n",
      "\tGetting dosage vector for : 22 40489667 /Users/michaelbinkley/Desktop/GTEx/\n",
      "\tGetting header\n",
      "\tStillok\n",
      "['0.0223325']\n"
     ]
    }
   ],
   "source": [
    "###Running this step requires running the RTC step below\n",
    "\n",
    "import os\n",
    "import load_params as LP\n",
    "import prepsteps as PS\n",
    "import allstepsH as AS\n",
    "import eqtl_funcs as EF\n",
    "import gtex_funcs as GF\n",
    "import deprecated_funcs as DF\n",
    "import allstepslist as ASL\n",
    "\n",
    "geneName = \"ENSG00000172404.4\"\n",
    "chrNum = \"22\"\n",
    "pos = \"40407887\"\n",
    "tissue = \"Breast_Mammary_Tissue\"\n",
    "\n",
    "def run_perm_H1():\n",
    "    numperm = 2\n",
    "    outlist = list()\n",
    "\n",
    "    for i in range(numperm):\n",
    "      \n",
    "        ASL.run_all_steps_H1(paramDict)\n",
    "        run_RTC(paramDict)\n",
    "        \n",
    "        fileIN = open('/users/michaelbinkley/desktop/RTCstuffs/rtc_results2.txt')\n",
    "        fileIN.readline()\n",
    "        genes = list()\n",
    "        for j in fileIN:\n",
    "            g = j.rstrip().split(\" \")\n",
    "            name = g[19]\n",
    "\n",
    "            genes.append(name)\n",
    "            outlist.append(str((genes)))\n",
    "            #first = (j[0]) \n",
    "        \n",
    "        fileIN.close()\n",
    "    print((genes))                         \n",
    "    fileOUT = open(\"RTCperm_H1\" + str(numperm) + \".txt\", \"w\")\n",
    "    for k in outlist:\n",
    "        fileOUT.write(k + \"\\n\")       \n",
    "    fileOUT.close()\n",
    "run_perm_H1()"
   ]
  },
  {
   "cell_type": "code",
   "execution_count": 11,
   "metadata": {
    "collapsed": false
   },
   "outputs": [
    {
     "name": "stdout",
     "output_type": "stream",
     "text": [
      "eqtl ['22_40401895_A_C_b37']\n",
      "gwas ['22_40404823_T_C_b37']\n",
      "\tGetting dosage vector for : 22 40407887 /Users/michaelbinkley/Desktop/GTEx/\n",
      "\tGetting header\n",
      "\tStillok\n",
      "\t calculate residuals\n",
      "\tGetting dosage vector for : 22 40407887 /Users/michaelbinkley/Desktop/GTEx/\n",
      "\tGetting header\n",
      "\tStillok\n",
      "\t calculate residuals\n",
      "\tGetting dosage vector for : 22 40419154 /Users/michaelbinkley/Desktop/GTEx/\n",
      "\tGetting header\n",
      "\tStillok\n",
      "eqtl ['22_40455474_G_T_b37']\n",
      "gwas ['22_40507705_G_C_b37']\n",
      "\tGetting dosage vector for : 22 40407887 /Users/michaelbinkley/Desktop/GTEx/\n",
      "\tGetting header\n",
      "\tStillok\n",
      "\t calculate residuals\n",
      "\tGetting dosage vector for : 22 40407887 /Users/michaelbinkley/Desktop/GTEx/\n",
      "\tGetting header\n",
      "\tStillok\n",
      "\t calculate residuals\n",
      "\tGetting dosage vector for : 22 40503116 /Users/michaelbinkley/Desktop/GTEx/\n",
      "\tGetting header\n",
      "\tStillok\n",
      "['0.712159']\n"
     ]
    }
   ],
   "source": [
    "####Use this to complete the iterations. This uses the step below that runs all steps\n",
    "###Running this step requires running the RTC step below\n",
    "\n",
    "\n",
    "import os\n",
    "import load_params as LP\n",
    "import prepsteps as PS\n",
    "import allstepsH as AS\n",
    "import eqtl_funcs as EF\n",
    "import gtex_funcs as GF\n",
    "import deprecated_funcs as DF\n",
    "import allstepslist as ASL\n",
    "\n",
    "def run_perm_H0():\n",
    "    numperm = 2\n",
    "    outlist = list()\n",
    "\n",
    "    for i in range(numperm):\n",
    "      \n",
    "        ASL.run_all_steps_H0(paramDict)\n",
    "        run_RTC(paramDict)\n",
    "        \n",
    "        fileIN = open('/users/michaelbinkley/desktop/RTCstuffs/rtc_results2.txt')\n",
    "        fileIN.readline()\n",
    "        genes = list()\n",
    "        for j in fileIN:\n",
    "            g = j.rstrip().split(\" \")\n",
    "            name = g[19]\n",
    "\n",
    "            genes.append(name)\n",
    "            outlist.append(str((genes)))\n",
    "            #first = (j[0]) \n",
    "        \n",
    "        fileIN.close()\n",
    "    print((genes))                         \n",
    "    fileOUT = open(\"RTCperm_H0\" + str(numperm) + \".txt\", \"w\")\n",
    "    for k in outlist:\n",
    "        fileOUT.write(k + \"\\n\")       \n",
    "    fileOUT.close()\n",
    "run_perm_H0()\n"
   ]
  },
  {
   "cell_type": "code",
   "execution_count": 51,
   "metadata": {
    "collapsed": true
   },
   "outputs": [],
   "source": [
    "def run_real_eQTL():\n",
    "    \n",
    "    import os\n",
    "\n",
    "    prep_real_GWAS(\"bestGWAS_var.txt\")\n",
    "    os.system(\"QTLtools rtc --vcf /users/michaelbinkley/desktop/GTEx/chr22_subset_gtex.vcf.gz --bed /users/michaelbinkley/desktop/RTCstuffs/tmpsmall/GTExExpfile_realeQTL.bed.gz --hotspot /users/michaelbinkley/desktop/qtltools_test/hotspots.bed --gwas-cis /users/michaelbinkley/desktop/RTCstuffs/bestGWAS_var.txt /users/michaelbinkley/desktop/RTCstuffs/tmpSmall/permutations_real.txt --normal --out rtc_results_realeQTL.txt\")\n",
    "\n",
    "\n",
    "\n",
    "run_real_eQTL()"
   ]
  },
  {
   "cell_type": "code",
   "execution_count": 35,
   "metadata": {
    "collapsed": false
   },
   "outputs": [],
   "source": [
    "#####This will be the iterative step, run this for a given eQTL, you pick the best GWAS and run it for H0\n",
    "# The input eQTL is under /users/michaelbinkley/desktop/RTCstuffs/besteQTLs.txt\n",
    "\n",
    "import os\n",
    "import load_params as LP\n",
    "import prepsteps as PS\n",
    "import allstepsH as AS\n",
    "import eqtl_funcs as EF\n",
    "import gtex_funcs as GF\n",
    "import deprecated_funcs as DF\n",
    "#param_file = \"param_files/ryo_local.csv\"\n",
    "param_file = \"param_files/binkley_local.csv\" \n",
    "\n",
    "paramDict = LP.load_param_file(param_file)\n",
    "\n",
    "#this step works and takes ~2 min to run\n",
    "def prep_step():\n",
    "    #This step takes the given input eQTL from above and outputs the cold spot coordinates and the best GWAS\n",
    "    PS.find_variant_coldspot('eQTLcoldspot.txt')\n",
    "    PS.output_selected_coldspots('selectedcoldspots.txt')\n",
    "    PS.find_variant_coldspot_gwas(\"gwasColdSpot.txt\")    \n",
    "    PS.sort_combined_gwas('sortedGWAS.txt')\n",
    "    PS.output_header(\"bestGWAS.txt\")    \n",
    "    PS.output_selected_coldspots('preVCF.txt')\n",
    "    PS.filter_vcf('filteredgenotype.txt')\n",
    "#prep_step()\n"
   ]
  },
  {
   "cell_type": "code",
   "execution_count": 2,
   "metadata": {
    "collapsed": false
   },
   "outputs": [],
   "source": [
    "###Leave more blank space\n",
    "  \n",
    "geneName = \"ENSG00000172404.4\"\n",
    "\n",
    "def run_RTC(paramDict):\n",
    "    ### RUn this for the real eQTL\n",
    "    import load_params as LP\n",
    "    import eqtl_funcs as EF\n",
    "    import allstepsH as AS\n",
    "    \n",
    "    geneName = \"ENSG00000172404.4\"\n",
    "    chrNum = \"22\"\n",
    "    pos = \"40407887\"\n",
    "    tissue = \"Breast_Mammary_Tissue\"\n",
    "\n",
    "    slope, intercept,  residuals, indivVector = EF.get_eqtl_stats(chrNum, pos, geneName, tissue, paramDict)  \n",
    "\n",
    "\n",
    "    \n",
    "    def calculate_pp(slope_r, intercept, residuals, chrNum, pos, indivVector, paramDict):\n",
    " \n",
    "        permutedResiduals = random.sample(list(residuals), len(residuals))\n",
    "        genoVector, indivGenoVector = GF.get_dos_vector(chrNum, pos, paramDict[\"vcfDir\"])\n",
    "        filteredGenoVector, indivVector = GF.filter_and_sort_genotype_vector(genoVector, indivGenoVector, indivVector)\n",
    "        pp = float(slope_r)*np.array(filteredGenoVector) + permutedResiduals + intercept   \n",
    "        return pp\n",
    "\n",
    "\n",
    "\n",
    "   # random.seed(0)\n",
    "\n",
    "    param_file = \"param_files/binkley_local.csv\" \n",
    "\n",
    "    paramDict = LP.load_param_file(param_file)\n",
    "\n",
    "    geneName = \"ENSG00000172404.4\"\n",
    "    chrNum = \"22\"\n",
    "    pos = \"40407887\"\n",
    "    tissue = \"Breast_Mammary_Tissue\"\n",
    "\n",
    "    #print(pos)\n",
    "    slope_r, intercept,  residuals, indivVector = EF.get_eqtl_stats(chrNum, pos, geneName, tissue, paramDict)  \n",
    "\n",
    "\n",
    "    chrNumLinked = \"22\"\n",
    "    ### THIS is the position of the randomly selected\n",
    "    #posLinked = output_pos_rand_variant(paramDict[\"gtexDir\"] + \"linkedeQTLpos.txt\", paramDict)\n",
    "    posLinked = AS.output_pos_rand_variant2(paramDict[\"gtexDir\"] + \"linkedeQTLpos.txt\", paramDict)\n",
    "\n",
    "    #print(\"position\", posLinked, posLinked[0])\n",
    "    posLinked = posLinked[0]\n",
    "\n",
    "    pp = calculate_pp(slope_r, intercept, residuals, chrNumLinked, posLinked, indivVector, paramDict)\n",
    "\n",
    "\n",
    "    def output_bed(indivVector, expVector, filepath, geneName, paramDict):\n",
    "        selected = output_gene_info(geneName, paramDict)\n",
    "        header = output_header2(indivVector)\n",
    "        with open(filepath, 'w') as outfile:\n",
    "            outfile.write(header + \"\\n\")\n",
    "            geneLocation = selected\n",
    "            outfile.write(\"\\t\".join([str(x) for x in geneLocation]) + \"\\t\" + \"\\t\".join([str(x) for x in expVector]) + \"\\n\")\n",
    "    #print(geneName)        \n",
    "    output_bed(indivVector, pp, paramDict[\"tmpSmall\"] + \"/GTExExpfile.bed\", geneName, paramDict)\n",
    "\n",
    "\n",
    "    #This prepares the index files for the pseudophenotype\n",
    "    os.system(\"bgzip /users/michaelbinkley/desktop/RTCstuffs/tmpsmall/GTExExpfile.bed\")\n",
    "    os.system(\"tabix -p bed /users/michaelbinkley/desktop/RTCstuffs/tmpsmall/GTExExpfile.bed.gz\")\n",
    "    #This calculates the RTC score\n",
    "    os.system(\"QTLtools rtc --vcf /users/michaelbinkley/desktop/GTEx/chr22_subset_gtex.vcf.gz --bed /users/michaelbinkley/desktop/RTCstuffs/tmpsmall/GTExExpfile.bed.gz --hotspot /users/michaelbinkley/desktop/qtltools_test/hotspots.bed --gwas-cis /users/michaelbinkley/desktop/GTEx/linkedGWAS.txt /users/michaelbinkley/desktop/RTCstuffs/tmpSmall/permutations.txt --normal --out rtc_results2.txt\")\n",
    "\n",
    "#run_RTC(paramDict)"
   ]
  },
  {
   "cell_type": "code",
   "execution_count": 2,
   "metadata": {
    "collapsed": true
   },
   "outputs": [],
   "source": [
    "# import custom functions\n",
    "import deprecated_funcs as DF\n"
   ]
  },
  {
   "cell_type": "code",
   "execution_count": 3,
   "metadata": {
    "collapsed": false
   },
   "outputs": [],
   "source": [
    "# Potentially deprecated functions. \n",
    "# import custom functions\n",
    "import deprecated_funcs as DF\n",
    "#param_file = \"param_files/ryo_local.csv\"\n",
    "param_file = \"param_files/binkley_local.csv\" \n",
    "\n",
    "paramDict = LP.load_param_file(param_file)\n",
    "\n",
    "DF.output_coldspot('coldspotlist.txt', paramDict)\n",
    "DF.extract_best_eqtl(paramDict)"
   ]
  },
  {
   "cell_type": "code",
   "execution_count": null,
   "metadata": {
    "collapsed": false
   },
   "outputs": [],
   "source": [
    "\n",
    "### RUn this for the real eQTL\n",
    "import load_params as LP\n",
    "import eqtl_funcs as EF\n",
    "\n",
    "geneName = \"ENSG00000172404.4\"\n",
    "chrNum = \"22\"\n",
    "pos = \"40407887\"\n",
    "tissue = \"Breast_Mammary_Tissue\"\n",
    "#22_40407887_G_A_b37\n",
    "\n",
    "slope, intercept,  residuals, indivVector = EF.get_eqtl_stats(chrNum, pos, geneName, tissue, paramDict)  \n",
    "\n",
    "#print(slope)\n",
    "#print(intercept)\n",
    "print(residuals)\n",
    "#print(indivVector)"
   ]
  },
  {
   "cell_type": "code",
   "execution_count": null,
   "metadata": {
    "collapsed": false
   },
   "outputs": [],
   "source": [
    "\n",
    "\n",
    "def calculate_pp(slope_r, intercept, residuals, chrNum, pos, indivVector, paramDict):\n",
    "    '''\n",
    "    Calculates pseudophenotype for SNP at chrnum and pos, given slope,intersect, residuals. \n",
    "    IndivVector - ensures that the we are using the same individuals for this calculation as when the slope, intercept, and residuals were calculated.\n",
    "    \n",
    "    '''\n",
    "    permutedResiduals = random.sample(list(residuals), len(residuals))\n",
    "    genoVector, indivGenoVector = GF.get_dos_vector(chrNum, pos, paramDict[\"vcfDir\"])\n",
    "    print(\"Genovector Length\", len(genoVector))\n",
    "    print(len(indivGenoVector))\n",
    "    print(len(indivVector))\n",
    "    filteredGenoVector, indivVector = GF.filter_and_sort_genotype_vector(genoVector, indivGenoVector, indivVector)\n",
    "    pp = float(slope_r)*np.array(filteredGenoVector) + permutedResiduals + intercept   \n",
    "    return pp\n",
    "\n",
    "\n",
    "\n"
   ]
  },
  {
   "cell_type": "code",
   "execution_count": null,
   "metadata": {
    "collapsed": false
   },
   "outputs": [],
   "source": [
    "### run this for the simulated, use the position from the rand_linked functions\n",
    "import eqtl_funcs as EF\n",
    "import gtex_funcs as GF\n",
    "#random.seed(0)\n",
    "\n",
    "param_file = \"param_files/binkley_local.csv\" \n",
    "\n",
    "paramDict = LP.load_param_file(param_file)\n",
    "\n",
    "geneName = \"ENSG00000172404.4\"\n",
    "chrNum = \"22\"\n",
    "pos = \"40407887\"\n",
    "tissue = \"Breast_Mammary_Tissue\"\n",
    "\n",
    "print(pos)\n",
    "slope_r, intercept,  residuals, indivVector = EF.get_eqtl_stats(chrNum, pos, geneName, tissue, paramDict)  \n",
    "\n",
    "\n",
    "chrNumLinked = \"22\"\n",
    "### THIS is the position of the randomly selected\n",
    "#posLinked = output_pos_rand_variant(paramDict[\"gtexDir\"] + \"linkedeQTLpos.txt\", paramDict)\n",
    "posLinked = output_pos_rand_variant2(paramDict[\"gtexDir\"] + \"linkedeQTLpos.txt\", paramDict)\n",
    "\n",
    "print(\"position\", posLinked, posLinked[0])\n",
    "posLinked = posLinked[0]\n",
    "\n",
    "pp = calculate_pp(slope_r, intercept, residuals, chrNumLinked, posLinked, indivVector, paramDict)\n",
    "\n"
   ]
  },
  {
   "cell_type": "code",
   "execution_count": 7,
   "metadata": {
    "collapsed": false
   },
   "outputs": [],
   "source": [
    "\n",
    "\n",
    "def output_gene_info(geneName, paramDict):\n",
    "    \n",
    "    fileIN = open(paramDict[\"tmpDir\"] + '/chrname.txt')\n",
    "    selected = list()\n",
    "    for i in fileIN: \n",
    "        i = i.rstrip().split('\\t')\n",
    "        \n",
    "        if i[3]== geneName:\n",
    "            selected = i\n",
    "            break\n",
    "            \n",
    "    return selected\n",
    "\n",
    "  \n",
    "def output_header2(indVector): \n",
    "\n",
    "            \n",
    "            \n",
    "    header = \"\\t\".join(['#chr',  'start', 'end' , 'gene' , 'length' , 'strand'] + [str(x) for x in indVector] )\n",
    "    return header\n",
    "\n",
    "    fileIN.close()\n",
    "\n",
    "def output_bed(indivVector, expVector, filepath, geneName, paramDict):\n",
    "    selected = output_gene_info(geneName, paramDict)\n",
    "    header = output_header2(indivVector)\n",
    "    with open(filepath, 'w') as outfile:\n",
    "        outfile.write(header + \"\\n\")\n",
    "        geneLocation = selected\n",
    "        outfile.write(\"\\t\".join([str(x) for x in geneLocation]) + \"\\t\" + \"\\t\".join([str(x) for x in expVector]) + \"\\n\")\n",
    "print(geneName)        \n",
    "output_bed(indivVector, pp, paramDict[\"tmpSmall\"] + \"/GTExExpfile.bed\", geneName, paramDict)\n",
    "\n",
    "\n",
    "\n",
    "\n"
   ]
  },
  {
   "cell_type": "code",
   "execution_count": 26,
   "metadata": {
    "collapsed": false
   },
   "outputs": [],
   "source": [
    "def ID_hotspots(outfilename): \n",
    "    fileIN = open(paramDict[\"tmpDir\"] + '/chrname2.txt')\n",
    "    hotspots2 = list()\n",
    "    fileOUT = open(outfilename, \"w\")\n",
    "    for i in fileIN: \n",
    "        i = i.rstrip().split('\\t')\n",
    "\n",
    "        \n",
    "        Chr = i[0]\n",
    "        for num in i[0]: #Get rid of \"chr in the file\"\n",
    "            if num in \"chr\":\n",
    "                Chr = Chr.replace(num, '')       \n",
    "        start = int(i[1])\n",
    "        end = int(i[2])\n",
    "        middle = str(i[3])\n",
    "        bound = str(i[4])\n",
    "        five = str(i[5])\n",
    "\n",
    "        hotspots2.append([Chr, start, end, middle, bound, five])\n",
    "        #hotspots.append(start)\n",
    "        #hotspots.append(end)\n",
    "        #hotspots.append(middle)\n",
    "        fileOUT.write(Chr + \"\\t\" + str(start) + \"\\t\" + str(end) + \"\\t\" + str(middle)  +  \"\\t\" + str(bound) + \"\\t\" + str(five) + \"\\n\")\n",
    "    fileIN.close()\n",
    "    fileOUT.close()\n",
    "\n",
    "ID_hotspots(paramDict[\"tmpDir\"] + '/chrname.txt')"
   ]
  },
  {
   "cell_type": "code",
   "execution_count": null,
   "metadata": {
    "collapsed": false
   },
   "outputs": [],
   "source": [
    "\n"
   ]
  },
  {
   "cell_type": "code",
   "execution_count": null,
   "metadata": {
    "collapsed": false
   },
   "outputs": [],
   "source": [
    "\n"
   ]
  },
  {
   "cell_type": "code",
   "execution_count": null,
   "metadata": {
    "collapsed": false
   },
   "outputs": [],
   "source": []
  },
  {
   "cell_type": "code",
   "execution_count": 13,
   "metadata": {
    "collapsed": false
   },
   "outputs": [],
   "source": [
    "#### For a given eQTL (the best eqtl for a given gene) run simulation with the most sign gwas hit in coldspot\n",
    "#### TRIAL 1 - use the best overall eQTL within any coldspot for a given gene\n",
    "\n",
    "\n",
    "\n",
    "# This outputs the GWAS file in the format for QTLtools\n",
    "\n",
    "def output_gwas(outfilename):\n",
    "    fileIN = open(paramDict[\"gtexDir\"] +'/oncoarray_bcac_public_release_oct17.txt')\n",
    "    fileIN.readline()\n",
    "    fileOUT = open(outfilename, \"w\")\n",
    "    for i in fileIN: \n",
    "        i = i.rstrip().split('\\t')\n",
    "        Chr = i[2] \n",
    "        Pos = i[3]\n",
    "        fileOUT.write(str(Chr) + '_' + str(Pos) + '\\t' + 'Cancer' + '\\n')\n",
    "#output_gwas(paramDict[\"gtexDir\"] + 'gwasQTLtools.txt')\n"
   ]
  },
  {
   "cell_type": "code",
   "execution_count": 47,
   "metadata": {
    "collapsed": false
   },
   "outputs": [],
   "source": [
    "dframe3 = pd.read_csv(\"/users/michaelbinkley/desktop/RTCstuffs/RTCperm25.txt\", sep =' ',header=(0))\n",
    "#dframe3 = pd.read_csv(\"/users/michaelbinkley/desktop/qtltools_test/rtc_results.txt\", sep=\"\\t\", encoding=\"utf8\")\n"
   ]
  },
  {
   "cell_type": "code",
   "execution_count": 48,
   "metadata": {
    "collapsed": false
   },
   "outputs": [
    {
     "data": {
      "text/html": [
       "<div>\n",
       "<table border=\"1\" class=\"dataframe\">\n",
       "  <thead>\n",
       "    <tr style=\"text-align: right;\">\n",
       "      <th></th>\n",
       "      <th>Value</th>\n",
       "    </tr>\n",
       "  </thead>\n",
       "  <tbody>\n",
       "    <tr>\n",
       "      <th>0</th>\n",
       "      <td>0.952854</td>\n",
       "    </tr>\n",
       "    <tr>\n",
       "      <th>1</th>\n",
       "      <td>1.000000</td>\n",
       "    </tr>\n",
       "    <tr>\n",
       "      <th>2</th>\n",
       "      <td>1.000000</td>\n",
       "    </tr>\n",
       "    <tr>\n",
       "      <th>3</th>\n",
       "      <td>1.000000</td>\n",
       "    </tr>\n",
       "    <tr>\n",
       "      <th>4</th>\n",
       "      <td>0.831266</td>\n",
       "    </tr>\n",
       "  </tbody>\n",
       "</table>\n",
       "</div>"
      ],
      "text/plain": [
       "      Value\n",
       "0  0.952854\n",
       "1  1.000000\n",
       "2  1.000000\n",
       "3  1.000000\n",
       "4  0.831266"
      ]
     },
     "execution_count": 48,
     "metadata": {},
     "output_type": "execute_result"
    }
   ],
   "source": [
    "dframe3.head()"
   ]
  },
  {
   "cell_type": "code",
   "execution_count": 49,
   "metadata": {
    "collapsed": false
   },
   "outputs": [
    {
     "data": {
      "text/plain": [
       "(array([  2.,   0.,   0.,   2.,   0.,   0.,   3.,   0.,   2.,  16.]),\n",
       " array([ 0.0248139 ,  0.12233251,  0.21985112,  0.31736973,  0.41488834,\n",
       "         0.51240695,  0.60992556,  0.70744417,  0.80496278,  0.90248139,  1.        ]),\n",
       " <a list of 10 Patch objects>)"
      ]
     },
     "execution_count": 49,
     "metadata": {},
     "output_type": "execute_result"
    },
    {
     "data": {
      "image/png": "[encoded data removed]",
      "text/plain": [
       "<matplotlib.figure.Figure at 0x1258cb240>"
      ]
     },
     "metadata": {},
     "output_type": "display_data"
    }
   ],
   "source": [
    "plt.hist(dframe3.Value,bins=10)"
   ]
  },
  {
   "cell_type": "code",
   "execution_count": 71,
   "metadata": {
    "collapsed": false
   },
   "outputs": [
    {
     "name": "stdout",
     "output_type": "stream",
     "text": [
      "\n"
     ]
    }
   ],
   "source": [
    "fileIN = open(\"/users/michaelbinkley/desktop/GTEx/eQTLQTLtools.txt\")\n",
    "\n",
    "\n",
    "print(fileIN.readline())\n",
    "#print(fileIN.readline())"
   ]
  },
  {
   "cell_type": "code",
   "execution_count": 92,
   "metadata": {
    "collapsed": false
   },
   "outputs": [
    {
     "name": "stdout",
     "output_type": "stream",
     "text": [
      "#chr\tstart\tend\tgene\tlength\tstrand\tHG00096\tHG00097\tHG00099\tHG00100\tHG00101\tHG00102\tHG00103\tHG00105\tHG00106\tHG00108\tHG00109\tHG00110\tHG00111\tHG00112\tHG00114\tHG00115\tHG00116\tHG00117\tHG00118\tHG00119\tHG00120\tHG00121\tHG00122\tHG00123\tHG00125\tHG00126\tHG00127\tHG00128\tHG00129\tHG00130\tHG00131\tHG00132\tHG00133\tHG00136\tHG00137\tHG00138\tHG00139\tHG00141\tHG00142\tHG00143\tHG00145\tHG00146\tHG00148\tHG00149\tHG00150\tHG00151\tHG00154\tHG00155\tHG00157\tHG00158\tHG00159\tHG00160\tHG00171\tHG00173\tHG00174\tHG00176\tHG00177\tHG00178\tHG00179\tHG00180\tHG00181\tHG00182\tHG00183\tHG00185\tHG00186\tHG00187\tHG00188\tHG00189\tHG00231\tHG00232\tHG00233\tHG00234\tHG00235\tHG00236\tHG00238\tHG00239\tHG00240\tHG00242\tHG00243\tHG00244\tHG00245\tHG00246\tHG00250\tHG00251\tHG00252\tHG00253\tHG00255\tHG00256\tHG00257\tHG00258\tHG00259\tHG00260\tHG00261\tHG00262\tHG00263\tHG00264\tHG00265\tHG00266\tHG00267\tHG00268\tHG00269\tHG00271\tHG00272\tHG00273\tHG00274\tHG00275\tHG00276\tHG00277\tHG00278\tHG00280\tHG00281\tHG00282\tHG00284\tHG00285\tHG00306\tHG00308\tHG00309\tHG00310\tHG00311\tHG00313\tHG00315\tHG00319\tHG00320\tHG00321\tHG00323\tHG00324\tHG00325\tHG00326\tHG00327\tHG00328\tHG00329\tHG00330\tHG00331\tHG00332\tHG00334\tHG00335\tHG00336\tHG00337\tHG00338\tHG00339\tHG00341\tHG00342\tHG00343\tHG00344\tHG00345\tHG00346\tHG00349\tHG00350\tHG00351\tHG00353\tHG00355\tHG00356\tHG00358\tHG00360\tHG00361\tHG00362\tHG00364\tHG00365\tHG00366\tHG00367\tHG00369\tHG00371\tHG00372\tHG00373\tHG00375\tHG00376\tHG00378\tHG00379\tHG00380\tHG00381\tHG00382\tHG00383\tHG00384\tHG01334\tHG01789\tHG01790\tHG01791\tHG02215\tNA06984\tNA06985\tNA06986\tNA06989\tNA06994\tNA07037\tNA07048\tNA07051\tNA07056\tNA07347\tNA07357\tNA10847\tNA10851\tNA11829\tNA11830\tNA11831\tNA11832\tNA11840\tNA11843\tNA11881\tNA11892\tNA11893\tNA11894\tNA11918\tNA11920\tNA11930\tNA11931\tNA11992\tNA11994\tNA11995\tNA12004\tNA12005\tNA12006\tNA12043\tNA12044\tNA12045\tNA12058\tNA12144\tNA12154\tNA12155\tNA12156\tNA12234\tNA12249\tNA12272\tNA12273\tNA12275\tNA12282\tNA12283\tNA12286\tNA12287\tNA12340\tNA12341\tNA12342\tNA12347\tNA12348\tNA12383\tNA12399\tNA12400\tNA12413\tNA12489\tNA12546\tNA12716\tNA12717\tNA12718\tNA12749\tNA12750\tNA12751\tNA12760\tNA12761\tNA12762\tNA12763\tNA12775\tNA12776\tNA12777\tNA12778\tNA12812\tNA12813\tNA12814\tNA12815\tNA12827\tNA12829\tNA12830\tNA12842\tNA12843\tNA12872\tNA12873\tNA12874\tNA12889\tNA12890\tNA20502\tNA20503\tNA20504\tNA20505\tNA20506\tNA20507\tNA20508\tNA20509\tNA20510\tNA20512\tNA20513\tNA20514\tNA20515\tNA20516\tNA20517\tNA20518\tNA20519\tNA20520\tNA20521\tNA20524\tNA20525\tNA20527\tNA20528\tNA20529\tNA20530\tNA20531\tNA20532\tNA20534\tNA20535\tNA20536\tNA20538\tNA20539\tNA20540\tNA20541\tNA20542\tNA20543\tNA20544\tNA20581\tNA20582\tNA20585\tNA20586\tNA20588\tNA20589\tNA20752\tNA20754\tNA20756\tNA20757\tNA20758\tNA20759\tNA20760\tNA20761\tNA20765\tNA20766\tNA20768\tNA20769\tNA20770\tNA20771\tNA20772\tNA20773\tNA20774\tNA20778\tNA20783\tNA20785\tNA20786\tNA20787\tNA20790\tNA20792\tNA20795\tNA20796\tNA20797\tNA20798\tNA20799\tNA20800\tNA20801\tNA20802\tNA20803\tNA20804\tNA20805\tNA20806\tNA20807\tNA20808\tNA20809\tNA20810\tNA20811\tNA20812\tNA20813\tNA20814\tNA20815\tNA20819\tNA20826\tNA20828\n",
      "\n",
      "chr22\t16122719\t16122720\tENSG00000215270.3\t1049\t+\t0.7878783927\t1.603063305\t1.283920617\t1.873394383\t1.861195888\t0.5027008822\t1.779123094\t1.855340101\t0.5956879117\t1.18315683\t1.127989007\t1.297336929\t2.625895633\t1.352879202\t1.392315491\t1.643580343\t1.451051193\t0.9937712034\t1.408133185\t1.436711044\t1.430861734\t2.006651624\t1.974313201\t1.12623148\t0.9749171751\t1.940862156\t1.610221625\t1.920729746\t0.7370989669\t1.677376682\t0.8866292517\t1.887072203\t1.375436492\t0.8844728766\t1.184420007\t1.37376604\t2.310772853\t1.463302418\t1.349153465\t1.058716409\t1.468445116\t0.5280155001\t1.424267037\t0.7420657635\t1.09904745\t1.166288249\t1.169525028\t1.147066276\t2.016821022\t1.494242321\t1.303503597\t1.335164754\t1.031607788\t1.280255982\t2.350107546\t1.118704131\t0.9516274552\t1.247124858\t2.988904583\t2.383454393\t1.1249126\t0.5164356153\t1.071014112\t1.775930625\t1.477534681\t0.8334841295\t1.826085053\t0.926221025\t1.363503222\t1.171629647\t0.4534730609\t1.415195186\t1.276151509\t1.157765578\t1.004870782\t1.345686327\t1.341656346\t1.404736103\t1.330485897\t2.220873787\t1.17927559\t1.636921942\t1.580813309\t2.370663312\t1.496975309\t1.457047678\t1.018667976\t1.974158255\t1.027632152\t1.252807027\t1.712339822\t0.7288197097\t1.296179909\t1.226586475\t1.460839329\t2.040438206\t1.827635912\t1.340497438\t1.450775156\t1.372060968\t1.725644025\t1.606643186\t1.269528166\t2.182427843\t1.601231916\t0.9019833442\t1.244051888\t1.028224429\t1.776553045\t1.297577576\t1.37037534\t2.011090512\t0.8145045942\t1.741533917\t0.749613784\t0.9330449842\t1.164934226\t1.379816881\t1.612978142\t1.133945926\t0.9886592381\t0.9018747697\t1.297555427\t1.274680203\t1.048943008\t1.096587227\t1.488616944\t1.734124074\t1.508552109\t1.032669286\t0.9321110504\t1.15872034\t0.7660192655\t0.6921628506\t1.10819043\t1.070314341\t0.5014793817\t1.779449692\t2.090950608\t1.294304405\t2.8139023\t1.719341319\t1.153706744\t0.8660824129\t1.210720234\t0.9631708591\t0.9609613219\t1.147163492\t1.957456333\t1.952563401\t2.164943493\t1.331011652\t1.200242013\t0.7062636846\t0.7077871626\t1.365832579\t1.238344959\t1.191939437\t0.7071532107\t1.534126542\t1.467086201\t1.847820691\t1.520719351\t1.494653387\t0.9408099434\t1.452621769\t1.799491222\t1.631987867\t1.068494413\t1.389477005\t1.42942114\t2.298808081\t1.374294625\t1.607138986\t1.522788584\t0.5678804515\t1.192618075\t1.680320815\t1.357023661\t2.009620398\t1.607254678\t1.933754536\t1.0054552\t1.399382173\t1.880853727\t1.649513068\t1.468894492\t1.38156441\t1.092562504\t1.130663189\t1.133078708\t1.760231094\t1.583093036\t1.4262014\t1.279082287\t1.764378899\t0.7517015768\t1.138148925\t0.8985394551\t1.025194124\t1.412312757\t1.529005257\t0.871224497\t0.9963213163\t1.740708377\t2.419273752\t2.019691492\t1.735713904\t1.666608626\t1.391051439\t1.263294413\t1.423953469\t0.7859013385\t0.3786373608\t0.842971507\t0.7517945601\t1.328735647\t1.016578896\t1.186413676\t0.9009396211\t1.449847897\t0.9073410935\t1.231321527\t1.045235528\t1.132089114\t1.12427344\t1.725414406\t0.7155122641\t1.596702616\t1.136617725\t1.383196258\t0.9399631863\t0.7925694366\t1.366035022\t1.494134355\t0.9232764193\t1.299483058\t1.703600776\t1.349825513\t1.452634608\t2.201923273\t1.129053308\t0.9371965332\t0.8926823325\t1.284033766\t0.3508801478\t1.00251809\t1.114704043\t1.19859381\t0.5655874003\t0.9599348871\t0.7591308334\t1.308909014\t0.8531062989\t1.534361708\t0.9349599583\t0.8161993753\t0.8672040097\t1.423505112\t1.942415888\t1.384506319\t1.212847783\t1.064460082\t0.8263376672\t0.7909228735\t1.483423877\t0.5579252703\t2.605304164\t1.058584015\t1.619202406\t0.7852503712\t1.963997382\t1.210083743\t1.330285592\t1.932546907\t0.656678761\t1.706249868\t1.621123573\t1.273782786\t1.62507276\t1.649591916\t1.408362439\t1.94437513\t1.376730882\t1.675387606\t1.503756927\t1.301011725\t0.833252369\t1.153324906\t0.9203597995\t2.044427343\t1.08689919\t1.872250791\t1.209779322\t1.636582172\t1.558917308\t1.659132946\t1.387541922\t1.162810763\t1.546470576\t2.035624246\t0.5661936036\t1.535863041\t1.132619535\t1.819160037\t0.9414813861\t1.227823826\t2.134583197\t0.7096019026\t1.389005268\t1.647302973\t1.558736944\t0.9105983275\t2.449209057\t1.774860643\t1.408623122\t1.048012045\t1.848739918\t1.075183785\t2.517705966\t0.7772916687\t1.361010604\t1.992237056\t1.955160083\t1.098384892\t0.9731627767\t1.033883743\t0.6123363133\t0.669774473\t0.9915171196\t2.062134971\t1.582186117\t1.95763626\t1.295061546\t1.499218569\t0.9629728812\t2.309138557\t1.900153732\t1.197759993\t1.242100584\t1.068139165\t2.944028788\t1.788920612\t1.538606622\t0.7827865792\t1.704408587\t1.313561661\t1.219497927\t2.728293384\t2.243184734\t1.377223183\t2.63579979\t1.511198401\t1.706367437\t2.902024246\t0.6397074044\t1.815349972\t0.7595047531\n",
      "\n",
      "chr22\t17517459\t17517460\tENSG00000237438.2\t4354\t+\t0.4609959767\t1.29599155\t0.03093322755\t0.9327960794\t1.441330663\t0.121114659\t1.839581543\t0.3576025294\t0.1435178272\t1.774700182\t0.7316723156\t0.9823460084\t0.7837324233\t0.9527661701\t1.277895706\t0.638684406\t0.7956384008\t0.4564080841\t0.3166413101\t2.055228512\t0.3447344876\t0.3334195355\t1.218171838\t0.6783514138\t0.5536568648\t1.482416246\t0.1363058033\t0.07011475007\t0.1775876932\t0.3932044657\t0.03560228468\t0.6776833296\t1.50395993\t0.4853811814\t0.2989483663\t0.673370139\t0.7210104787\t0.8587765007\t3.31820535\t0.5866708956\t0.8905732476\t0.6615110128\t0.3431456412\t0.9296785316\t0.02206593124\t0.9942771132\t1.788163311\t1.342321208\t0.3921366181\t0.4560058752\t0.9421510837\t2.343657037\t0.4473775435\t2.776044265\t1.348903564\t0.7007702451\t2.60647868\t2.782103252\t2.287409671\t0.3615589087\t0.2845739511\t3.663587876\t1.974545241\t0.6795601489\t0.8899482549\t1.164695485\t0.8594465956\t4.210143271\t1.044179608\t0.2419527855\t0.7320038387\t0.3772323176\t0.5764884015\t2.048751584\t0.462193562\t0.5743208042\t0.960491769\t2.338313382\t0.2342489171\t0.9569528639\t1.219349924\t0.9859503426\t0.4967765256\t0.1765400211\t0.8716024704\t0.9829215527\t2.501002901\t1.052457359\t0.2338305029\t0.5282132523\t0.7870192383\t2.140039557\t0.4349696197\t0.3582047053\t0.2611293322\t1.014912942\t1.422599608\t3.683799104\t2.253879959\t1.64143983\t2.052794068\t1.590415034\t1.470503523\t0.5468400274\t1.763572182\t1.776852838\t1.99532404\t0\t2.904429321\t2.262792281\t0.2049279075\t1.363438633\t1.177421203\t1.216793828\t3.090315632\t1.698462839\t1.178793572\t1.12739287\t0.7772228165\t0.7415406602\t2.200927128\t0.2811946545\t1.079950608\t0.3838825025\t2.729371872\t0.3842886376\t2.258521443\t0.2748676585\t3.738366157\t1.270651139\t1.600072234\t0.7889531507\t1.73277014\t1.334090639\t0.08009819212\t1.91057166\t1.208203655\t1.098592556\t2.302940811\t0.63722604\t1.973311538\t1.569080542\t4.159474695\t1.578016976\t0.4667140194\t0.3480820732\t1.157611882\t1.685940392\t1.048012909\t2.936604694\t2.839796368\t2.877192652\t0.6747341219\t3.573330893\t2.717752743\t2.603922674\t2.386814628\t3.369478284\t1.825424203\t0.4643866435\t3.191256659\t0.7150045722\t0.7827287986\t1.521438029\t1.246670411\t1.298302096\t0.810545531\t0.7258917803\t1.39012252\t0.8216928468\t1.492345436\t0.8579198053\t2.301185963\t1.153009231\t1.312309511\t1.299773229\t0.3757457004\t0.2150691971\t3.115591977\t1.538596065\t2.700436935\t3.347544621\t0.009689687692\t0\t1.076231501\t1.682384623\t3.595600016\t2.652121767\t3.823744246\t0.7264221009\t1.559944306\t3.664126801\t1.511518668\t1.907044842\t0.9940857636\t0.05313600899\t0.9779716932\t3.040174419\t4.61275759\t4.028620095\t1.000780947\t0.8399063973\t3.214819026\t0\t0.08387703663\t2.546223772\t0.4709032204\t3.075660245\t0.1642632902\t2.080198413\t0.02099054122\t0.1106677722\t1.737523827\t3.238462563\t3.29465774\t3.713129563\t0\t0.8068025434\t0.5030786371\t0.7545470325\t0.5563065814\t0.4372075366\t3.681277039\t0\t1.272841888\t3.150632055\t4.275775945\t2.093268949\t3.485526178\t0\t1.906193119\t0.1072721084\t0.0238690095\t0\t5.099697205\t2.40516529\t2.62436132\t3.488781882\t0\t3.064826433\t1.29391393\t5.095151764\t0.01736898278\t0.1897694683\t0.2062396908\t3.409651377\t1.833466891\t1.937492268\t3.850328915\t5.274287043\t2.907458144\t1.659126042\t0.4730290154\t0.1370247294\t5.875120721\t0.6918636203\t3.331400817\t4.596539765\t4.758598753\t1.722174299\t0.9485788122\t1.045800088\t1.228861793\t0.03513313841\t4.71306956\t0.04204684392\t1.911747611\t1.112723918\t0.01594015032\t0.3510999061\t0.7702683156\t1.466863364\t0.490322173\t2.218866167\t2.340115791\t2.900557427\t1.074120535\t0.9350101727\t2.961486466\t1.117279625\t1.498888992\t0.33931378\t3.044952188\t1.813254279\t1.866870096\t1.388805059\t4.022608331\t1.219964967\t1.328556984\t2.361534595\t2.657530598\t0.1163841423\t2.486708845\t1.360191328\t2.123144568\t1.502346584\t1.106948457\t4.769311526\t0.6090294236\t1.453092736\t2.121432252\t1.714891526\t2.143634989\t0.4837411554\t2.598412082\t0.7629706652\t1.879307964\t4.907094149\t1.173945135\t1.325729234\t1.955365996\t0.8287849736\t1.133507388\t0.9152303902\t1.10192688\t4.052555702\t2.932830286\t0.3308782237\t2.231101546\t3.202207528\t0.7865391901\t0.2787195923\t3.177046584\t1.298266863\t1.046497477\t1.448147938\t1.092170076\t0.7007622336\t1.42003264\t0.09289938\t0.01013930228\t3.166017568\t1.947064475\t0.5117069547\t0.07224071102\t0.8577229116\t4.664662233\t1.183965556\t0.01254668604\t1.476332873\t0.1239066146\t0.2163961896\t0.1163018179\t1.469533897\t1.376744324\t1.026598879\t1.483470138\t1.065065068\t1.605382449\t1.192707857\t1.357410539\t1.160586072\t0.6706917934\t0.912466973\t2.644718887\t0.684992668\t0.6485118019\t1.227530224\n",
      "\n",
      "chr22\t17548710\t17548711\tENSG00000273203.1\t2855\t+\t0.330841905\t0.641362576\t0.02358726318\t0.1147221663\t0.4640417218\t0.2110916089\t0.844356449\t0.1636078543\t0.036478495\t0.4767919496\t0.2550473865\t0.517532596\t0.4176091751\t0.6309122908\t0.5602934843\t0.3506478057\t0.220615163\t0.2852632422\t0.2241997928\t0.725841013\t0.2830881776\t0.07627190845\t0.2653950554\t0.1591562471\t0.3070367126\t0.2275922497\t0.07995089151\t0.02138561273\t0.145831004\t0.1665705627\t0.01809834764\t0.3532204077\t0.5442451926\t0.2166519667\t0.2072315216\t0.313297305\t0.1113491188\t0.3308644455\t0.8674985896\t0.1944997396\t0.558149258\t0.5044166287\t0.1308280317\t0.4907770839\t0.01682575562\t0.4944509119\t0.8263719212\t0.7827141756\t0.3770160833\t0.2196091342\t0.2626448182\t0.9461063628\t0.3032312628\t1.447380871\t0.4571415543\t0.4726965774\t1.840275049\t1.120106926\t0.9259333061\t0.1946093526\t0.04133216522\t0.6535890163\t1.728057172\t0.03838366593\t0.6786050266\t0.5053015781\t0.4368978958\t1.815025532\t0.1431388422\t0.2459923942\t0.7664409485\t0.2655211388\t0.351668021\t0.9241289179\t0.2349551394\t0.339044273\t0.3521134617\t1.173036278\t0.1692188785\t0.4393877466\t0.3249720036\t0.6014469761\t0.5050706345\t0.07918566515\t0.36668467\t0.6883155932\t1.461492485\t0.3395284435\t0.1468360166\t0.09589861148\t0.2710216637\t1.539775231\t0.136071326\t0.1775403041\t0.1731450715\t0.483683335\t1.067544878\t1.185157613\t0.7536250821\t1.251633804\t0.7727432432\t0.6929864458\t0.6638043475\t0.3207519169\t0.5379049584\t0.8187819548\t0.5354558686\t0.02361224663\t1.3521271\t1.135150428\t0.2257118003\t0.5498984753\t0.3913528339\t0.7252019694\t1.560754537\t0.4951910663\t0.5421670534\t0.2865539146\t0.4543645493\t0.4166407271\t1.118836744\t0.1559396944\t0.5200964085\t0.2509018388\t0.9763681541\t0.2014570929\t1.50782445\t0.1676740855\t1.926785004\t0.5691436504\t0.4709119707\t0.5923387556\t0.9381835488\t1.017273317\t0.02035887498\t1.304911022\t0.5322961143\t0.9602912453\t0.7682687174\t0.5169136227\t1.292374568\t0.746589956\t1.377679411\t1.531437713\t0.200182307\t0.1916923673\t0.5100069876\t0.8851441176\t0.2663775953\t1.152222761\t1.363638163\t0.8558334991\t0.482999567\t0.5661803701\t1.365310281\t1.265514137\t1.000999123\t1.625277497\t0.8351555494\t0.2890652912\t1.078089965\t0.4526243793\t0.3555689283\t1.002242315\t0.4666647991\t0.3443421809\t0.4599506689\t0.4766322103\t0.6019746572\t0.4641176175\t0.8169869181\t0.3477932984\t0.6690600551\t0.5511370262\t0.7962278498\t0.1564903486\t0.1685378366\t0.07717410398\t2.023750482\t0.4102143993\t2.206778896\t1.052608683\t0\t0\t0.3671329303\t1.01012213\t1.511186305\t0.4748722775\t0.8239989789\t0.5885323015\t0.9714182078\t1.371118293\t0.9263615172\t1.493465154\t0.6367302116\t0.1215521102\t0.4419110076\t0.6363685034\t2.184045222\t1.220970974\t0.7783797281\t0.3146055511\t1.078265791\t0\t0\t0.7251577393\t0.4189196833\t0.8434700786\t0.08350290313\t0.6873519589\t0\t0.0337546396\t1.307914058\t1.008627597\t2.254140913\t1.001328472\t0.01952845805\t0.6371761943\t0.2615512322\t0.2364487522\t0.4340609687\t0.2727657145\t1.233870035\t0.01828791709\t0.8319169745\t1.282743248\t1.485280924\t0.713578931\t0.8177815428\t0\t0.9757856108\t0.03635436934\t0\t0\t2.195932664\t1.865794501\t0.4212911489\t1.178252206\t0\t0.5108607362\t1.045835959\t1.595550209\t0\t0.1350564823\t0.02859314165\t1.203275155\t1.205511643\t0.9654168092\t1.745265163\t1.76028372\t0.8061819938\t1.852852807\t0.2186030179\t0.1306054448\t1.671156753\t0.2699150102\t1.164288607\t2.19502683\t1.268353027\t0.599502341\t0.6040848392\t0.4456312872\t0.7170347275\t0.0357197162\t2.770437069\t0.08015409739\t0.7060973678\t0.7832089354\t0\t0.2578057584\t0.2885210646\t1.130542475\t0.1212588294\t0.5075802079\t0.9406084288\t0.9651222701\t0.5460269478\t0.4692938952\t1.33385804\t0.6844727887\t0.5714678344\t0.2328607668\t1.026968887\t0.9442461052\t0.3462638878\t0.9669078032\t0.9719841126\t1.130430373\t0.6886117226\t1.149756659\t1.118027729\t0.1331181845\t1.181798934\t0.8890077122\t1.356829435\t0.360643087\t0.6330543236\t2.039273521\t0.7058853674\t0.9091405303\t1.234971353\t1.010450891\t0.8562026032\t0.4729015651\t0.9071223089\t0.4088196676\t1.804535472\t1.225469447\t1.738172553\t0.4514688145\t0.9595604904\t0.3554812607\t0.2974018745\t0.3122109089\t0.4765559406\t1.248242956\t0.7405123501\t0.2134862137\t1.185150042\t0.7529635852\t0.4379151451\t0.02500350479\t1.080569708\t0.3153845003\t1.614298776\t0.6309968597\t0.2922117866\t0.5062230415\t0.7054644987\t0.04047874911\t0\t1.32415339\t0.8668313847\t0.2284025883\t0.0275425618\t0.5682577432\t1.618555877\t0.6981650665\t0\t0.9888222802\t0.08721369794\t0.1466727394\t0.08346605383\t0.5451332917\t0.4314237066\t0.9706771074\t0.8446132466\t0.7654609799\t0.8289446968\t0.1705248471\t0.7590405176\t0.4174397578\t0.1753430314\t0.4128780909\t0.3090660609\t0.3656253334\t0.322002895\t0.755791471\n",
      "\n",
      "chr22\t17561590\t17561591\tENSG00000273442.1\t756\t+\t0.1561761969\t0.2965808478\t0\t0.08664862028\t0.2766998989\t0.09964724592\t0.8228836531\t0\t0\t0.1588750019\t0\t0.2571629702\t0.3262928831\t0.3610018018\t0.2759899754\t0.2207009447\t0.2082858103\t0.1723654088\t0\t0.5606807608\t0\t0.1920249547\t0.267267331\t0.1202092819\t0.1932517227\t0\t0\t0\t0.1573497795\t0.06290462388\t0\t0.1482134427\t0.2202125886\t0.1363627348\t0.07826005212\t0.197192197\t0.05256311741\t0.1041245582\t0.3120066104\t0\t0.3513042618\t0.5128594996\t0.09881323557\t0.4118661301\t0\t0.1244847754\t0.3744907675\t0.2273757602\t0.2945760585\t0\t0.05834507906\t0\t0\t0.9565445338\t0.5754581736\t0.07761379851\t0.8339659152\t0.2563656626\t0.5692376376\t0\t0.07804453155\t0.4777257147\t1.292263405\t0\t0.3844082046\t0.2891285886\t0.1767777058\t0.5140771721\t0\t0.1161224017\t0.1887671591\t0.08356071993\t0.3320146164\t0.4985616138\t0.06337839409\t0.3200963622\t0.1063792522\t0.2657951249\t0\t0.1185234332\t0.1363602396\t0.4184042682\t0.1907376537\t0\t0.08654801031\t0.231057145\t0.8076966793\t0.1748473496\t0.07921708759\t0\t0.1096608347\t0.9480802027\t0.06423340538\t0.05157484415\t0.1961623727\t0.2739912543\t0.9103466628\t0.5812590164\t0.416492375\t0.7221406455\t0.2244792389\t0.09692711654\t0.1355041765\t0.1211305189\t0.3174021694\t0.5153488715\t0.09864024421\t0\t0.2641162335\t0.4286844538\t0\t0.1297916788\t0.08693684568\t0.2416493491\t0.346712901\t0.5754051666\t0.3951256918\t0.08324292087\t0.2984151802\t0.07492499848\t0.2743660161\t0.07361240533\t0.1636767247\t0.06316796735\t0.388127413\t0.2074891776\t0.6140837592\t0\t0.8970924959\t0.05117489046\t0.1616707163\t0.06990439597\t0.1771503989\t0.4432715691\t0\t0.7425659679\t0.1546301797\t0.5401165298\t0.2486856223\t0.3123361678\t0.8366733312\t0.3614696657\t0.2858650734\t1.276855793\t0\t0\t0.2222328983\t0.1591765215\t0.1005963009\t0.82100329\t0.2860954553\t0.8208296431\t0\t0.3563591174\t0.1227626874\t0.4119963123\t0.2863809218\t0.7350643562\t0.3504363747\t0.272910518\t0.05816226095\t0.388480821\t0.2877407286\t0.3629378247\t0.3916308058\t0.130039276\t0.1085614385\t0.1161277488\t0.1976808887\t0\t0.1469197311\t0.18763225\t0.2383655857\t0.1982232564\t0.3250722882\t0\t0.063647556\t0.07286113322\t1.550673007\t0.0619662492\t0.9977086007\t0.1987564676\t0\t0\t0.08155652941\t0.3051744635\t0.5706927118\t0.1855172896\t0.3989480879\t0.5883262327\t0.6738092768\t0.8792773418\t0.6508581596\t0.494737192\t0.2862598819\t0\t0.06953571024\t0.343316719\t1.918127571\t0.5395783159\t0.3458254161\t0.339455347\t0.4453774353\t0\t0\t0.2650186054\t0.04520089553\t0.310763592\t0\t0.3327889436\t0\t0\t0.5131718046\t0\t0.779785812\t0.521582337\t0.07374834357\t0.08297473247\t0.0658490977\t0\t0.1490192479\t0.1144541615\t0.9319309394\t0\t0.6545202166\t0.6568436863\t0.889247024\t0.2836630253\t0.6042355861\t0\t0.2303131547\t0.06864532042\t0\t0\t0.3455350394\t0.5604843541\t0.1060658051\t0.4171515438\t0\t0.1727679936\t0.8197184361\t0.5422971248\t0\t0\t0\t0.4868694114\t1.074910119\t0.3314411965\t0.9239601023\t0.4616411321\t0.2537091702\t1.429538609\t0.1651088932\t0\t0.5322570874\t0.09266562701\t0.1998583438\t1.069602594\t0.4444216853\t0.1078092204\t0.3602051412\t0.2657220812\t0.1230840637\t0\t1.536440915\t0\t0.6881406333\t0.3286392579\t0\t0.2246750428\t0.1556552607\t0.3633568349\t0\t0.2129837586\t0.6268527228\t0.455592606\t0.3054883277\t0.3408206326\t1.060474716\t0.3849822324\t0.06539765381\t0\t0.2529327271\t0.7004452223\t0.1452944444\t0.08694009127\t0.2406986418\t0.9783169603\t0.6001179695\t0.8939420645\t0.5937442644\t0\t0.7327330714\t0.5595496072\t0.873410001\t0.08011484698\t0.08854448823\t0.7701224739\t0.7015116694\t0.3218745305\t0.6568751796\t0.3366990307\t0.0734866051\t0.0714356597\t0.4507508688\t0.1781410487\t0.9019518162\t0.1234114734\t0.7220543522\t0.2223850009\t0.390248604\t0.2983242208\t0\t0\t0.3788825426\t0.344921955\t0.1118604635\t0\t0.8181324644\t0.4062190166\t0.07190290656\t0\t0.5265448908\t0.1323372646\t1.177699481\t0.5560172946\t0.2207049341\t0.8496571331\t0.4336996433\t0\t0\t0.5488469698\t0\t0.1437586838\t0\t0.2429433748\t0.5422293408\t0.454584306\t0\t0.2297995613\t0.1097862027\t0\t0\t0.1524941748\t0.21723363\t0.9459918558\t0.3987054926\t0.3525279226\t0.2184050489\t0.1073299027\t0.5211786142\t0.2522307954\t0.05518125602\t0.1732461713\t0.05835870397\t0\t0.173718493\t0.4830205768\n",
      "\n",
      "chr22\t17565843\t17565844\tENSG00000177663.9\t9035\t+\t3.064441454\t2.75874351\t3.167702873\t2.225838581\t3.434325031\t2.151189377\t2.883280492\t3.136405724\t2.979719722\t3.327881777\t2.810690654\t2.552035791\t3.176182234\t3.08712279\t2.840482107\t3.010131269\t3.049940532\t3.803962445\t3.155356063\t2.444779109\t3.450367961\t3.952632316\t3.147660751\t2.801282066\t4.46299186\t5.039029274\t5.487330108\t2.527384141\t3.107218401\t2.431745854\t3.591505414\t2.906131782\t3.832649599\t2.983740398\t3.267640853\t2.447496732\t2.682900634\t2.997127736\t1.762224386\t4.148592259\t3.227597699\t2.967149061\t2.348156827\t3.566892885\t2.42447313\t2.468642633\t1.901012126\t3.405578016\t2.637393085\t2.741103606\t2.621634581\t3.16679673\t2.048132522\t3.224407341\t1.452562159\t2.714618842\t2.430731424\t1.984244691\t3.286520435\t2.398315259\t2.951715879\t3.30447662\t2.276128541\t3.159600211\t1.726199189\t2.714423032\t2.273007155\t2.30131326\t3.414934729\t2.574871273\t2.927343021\t2.912130396\t4.009751731\t2.614261762\t2.837191508\t3.82563867\t3.342416088\t2.787450988\t2.507244629\t2.290919565\t4.113264746\t1.880526898\t3.966034316\t1.911691827\t3.490581359\t2.170198161\t2.962418656\t3.194278199\t2.551956338\t3.860643526\t3.603041146\t3.310714956\t4.074025953\t2.882756933\t3.578210108\t2.766417065\t3.166615929\t4.05629369\t2.427871656\t2.499390645\t2.416773052\t2.692632079\t2.619137506\t2.148736084\t2.448693624\t2.981551324\t2.740222709\t2.387620202\t2.556212499\t2.984383973\t2.918774212\t2.291516263\t2.640609262\t2.547708953\t3.713416049\t2.082348947\t2.756167189\t2.416965348\t2.12243049\t2.344725376\t2.300338125\t1.829368079\t2.889768281\t2.463068315\t3.85657316\t3.182955176\t2.44770938\t3.412163\t2.969192474\t3.005990976\t2.759657393\t3.790296041\t3.85891802\t2.818883373\t2.946437337\t2.603975659\t2.962943579\t1.633441512\t1.900525163\t2.378248921\t1.744373607\t2.758419627\t2.856005651\t2.363058174\t2.930874289\t2.758424686\t1.735556536\t2.011173768\t3.493202372\t2.46622664\t2.190411403\t1.708479452\t2.428722781\t1.423819345\t1.956838596\t2.806153167\t2.362732941\t2.641691938\t2.087770761\t2.13741947\t2.905422198\t2.606979342\t2.849063152\t2.568322386\t1.9880194\t2.720246061\t2.657021681\t2.288340027\t1.869118203\t2.170539658\t1.794843635\t3.223744264\t2.600846875\t3.420914362\t3.175634241\t3.197760907\t3.003685613\t3.682362158\t3.558910402\t1.934005388\t2.072339401\t2.818932072\t2.432807638\t2.955775611\t3.439401778\t1.94068666\t2.339871701\t3.347811949\t1.435418311\t2.33012351\t2.186319066\t1.888378256\t2.505173587\t2.943322152\t2.146160197\t2.919134131\t1.536050381\t3.263374559\t1.950057442\t2.610433039\t2.247425028\t2.890085629\t1.91125334\t2.148285839\t2.00082242\t2.269274974\t2.662645426\t3.165867548\t1.926204489\t1.659620488\t2.473220103\t2.469235013\t1.556554876\t3.198186556\t1.826951419\t2.531305181\t1.783379424\t2.159234887\t2.187429042\t2.744576383\t1.83296149\t2.10691933\t2.638287722\t2.236418957\t1.916835078\t2.49386136\t1.997552184\t3.678985424\t1.848218556\t2.886037066\t2.241901641\t2.803008386\t1.656369242\t2.296283803\t3.816450764\t2.003227533\t3.030817175\t2.001219315\t2.481403089\t1.231194248\t2.475461424\t2.83350998\t2.862600603\t2.621584164\t1.987753433\t2.919599857\t2.894037769\t1.913591431\t2.257510133\t2.058853026\t2.706699161\t2.178271583\t2.984130804\t3.541004886\t3.327505182\t2.942551601\t3.322315923\t2.159152951\t2.87577968\t1.587677215\t3.199865527\t2.052956741\t2.435715781\t1.540701859\t1.793733124\t1.843890229\t3.015746812\t2.323645055\t2.834516873\t3.252329773\t4.60412239\t2.895955985\t3.276102204\t3.68307498\t1.82123785\t3.608838033\t4.01317328\t3.290980626\t3.445867926\t1.941997811\t2.91116914\t2.272880305\t3.336864344\t3.410005699\t2.771899589\t3.935600395\t2.074457315\t2.939528205\t3.255581866\t1.944806333\t2.108695734\t2.210721185\t3.171458358\t1.900895609\t2.504284463\t2.011073303\t2.837618094\t2.019110256\t3.334086585\t3.366590275\t2.654749951\t3.446516121\t2.619457896\t2.205642211\t3.907418843\t2.817211467\t3.203301591\t2.602254192\t2.400226799\t3.560326023\t2.304432044\t2.477494329\t2.537379468\t3.197633659\t2.536227579\t2.42434132\t2.377409368\t3.40367503\t3.217474568\t4.017643204\t3.128552366\t2.931249285\t2.213936232\t3.991912941\t2.394028149\t2.552202462\t3.407234711\t3.057072948\t3.291989102\t3.229731516\t4.705379171\t3.663758544\t3.49093327\t2.959121745\t2.71977082\t3.645521968\t2.569638404\t3.910219988\t3.603591535\t3.576479812\t2.884503368\t3.221159008\t2.594612955\t2.443518723\t2.490240346\t2.899069784\t3.269429168\t2.141528118\t2.79606809\t2.882832481\t3.263437622\t3.176349247\t2.802682561\t3.392135107\t3.012898083\t4.365579199\t3.808386204\t3.949799495\n",
      "\n"
     ]
    }
   ],
   "source": [
    "fileIN = open(\"/users/michaelbinkley/desktop/qtltools_test/genes.50percent.chr22.bed\")\n",
    "\n",
    "print(fileIN.readline())\n",
    "print(fileIN.readline())\n",
    "print(fileIN.readline())\n",
    "print(fileIN.readline())\n",
    "print(fileIN.readline())\n",
    "print(fileIN.readline())"
   ]
  },
  {
   "cell_type": "code",
   "execution_count": 5,
   "metadata": {
    "collapsed": false,
    "scrolled": false
   },
   "outputs": [],
   "source": [
    "def filter_plink_output(outfilename, paramDict):\n",
    "    fileIN = open('/users/michaelbinkley/desktop/RTCstuffs/plink.tags')\n",
    "    fileOUT = open(outfilename, \"w\") \n",
    "    pos = filter_genov_output(paramDict[\"gtexDir\"] + \"filteredSNPs.txt\", paramDict)\n",
    "    for i in fileIN: \n",
    "        i = i.rstrip().split('\\t') \n",
    "        var = str(i[0])\n",
    "\n",
    "            \n",
    "        if var in pos: \n",
    "            fileOUT.write(str(var) + \"\\n\")\n",
    "\n",
    "        else: \n",
    "            continue\n",
    "\n",
    "    fileOUT.close()\n",
    "    fileIN.close()\n",
    "filter_plink_output(paramDict[\"gtexDir\"] + \"filteredplink.txt\", paramDict) "
   ]
  },
  {
   "cell_type": "code",
   "execution_count": 159,
   "metadata": {
    "collapsed": false
   },
   "outputs": [
    {
     "name": "stdout",
     "output_type": "stream",
     "text": [
      "\tGetting dosage vector for : 22 40407887 /Users/michaelbinkley/Desktop/GTEx/\n",
      "\tGetting header\n",
      "\tStillok\n",
      "[0.6620541667499952, 0.1901311651846145, -0.43072729929545756, -0.712443032389489, -0.5312607573635746, 1.2418667918433206, -0.06968492031845568, -1.332975991985993, -0.6013317483706249, 0.21042839424792484, 0.6132931230857989, 1.4949762716640178, -0.2718800053992609, 1.2636680250691246, 2.147593883556041, 0.5312607573635744, 0.4637077514571792, 0.16991197283324513, -0.452659911230046, 0.24104039388602685, 0.41983885990487646, 0.2512933688732672, -1.8557299227201098, 0.029845242919239425, 0.23081269611355665, 0.33437680758881416, 0.07965966955253276, -1.1999500758833568, 0.28221614706250825, -0.12967268178277752, -0.3982089211336604, -0.890838396496015, -0.22060908646341357, 0.8053202128239452, -0.20026946614337313, 0.04975520920829814, -0.463707751457179, 1.1797611176118612, 1.4367337867138037, -0.9516592123227108, 0.6744897501960817, -1.1219004674623523, 0.06968492031845568, -0.441667047158058, 1.0162217327405565, -0.649720134224582, -0.9361298239726299, 1.526103353763713, 0.08964235107576254, 0.5427505169302943, -0.3449143925332653, -0.6620541667499952, 0.7647096737863871, -0.24104039388602685, -1.286087006152469, -0.2104283942479247, 2.05703832289668, 0.27188000539926077, 0.18001236979270496, 0.967421566101701, 0.9834280199496832, 1.382994127100638, -0.28221614706250814, -0.09963397403659778, 0.8331468660796099, -0.967421566101701, 1.3575605292840327, -2.260188991329375, 1.0501464321596574, -0.019895187598079702, -0.725322886830771, -1.309171716785777, -0.13971029888186212, -1.1600419029553108, -1.1797611176118612, -1.526103353763713, -1.7098068965379007, 0.819154251121989, 0.20026946614337326, 0.3767637174864514, 0.5776624083836064, -0.6132931230857991, -1.754381965883599, 0.4526599112300461, -0.5427505169302942, -0.36610635680056963, 0.44166704715805777, -0.7781036069292223, 0.5659488219328631, 0.6374841609623771, -2.147593883556042, 0.7124430323894889, 1.6296541958303505, 0.3661063568005698, 0.4748124827500927, -2.514954877802528, 1.1999500758833568, -0.8616341201741723, -0.14976201244462692, 0.30298044805620655, -0.48597607790223374, -0.2925825285624372, 0.890838396496015, 0.5084880591093566, -0.16991197283324513, -1.4367337867138037, -0.8331468660796096, 0.5543123797466221, -0.41983885990487646, -1.3575605292840327, 0.0, 0.8616341201741723, 0.22060908646341357, -0.7647096737863871, -0.6744897501960817, -1.2636680250691246, -0.32387622276879213, -2.514954877802528, 0.1598288807032709, 0.9057288940619034, 0.7383242062666205, 0.6253428964607912, -0.30298044805620655, -0.19013116518461465, -0.5198407089408869, -1.5932188180230507, -0.5776624083836064, 1.332975991985993, 1.59321881802305, -2.0570383228966804, 0.12967268178277766, 0.32387622276879213, 2.6547590333403273, -0.7514515438490051, 0.8761428492468408, 0.4089999708509596, 0.7781036069292223, -1.5587835495029956, 0.019895187598079563, 0.2615728296513017, 0.49720057068155404, -0.7916386077433746, -0.3767637174864512, 1.465233792685523, 0.7253228868307712, 1.7543819658835997, -1.22064034884735, 0.7514515438490051, 0.48597607790223374, 0.14976201244462692, 0.7916386077433746, -0.23081269611355665, 1.0330354662092913, 1.409355218118507, 1.309171716785777, 0.5894557978497783, 1.0675705238781412, -1.8027430907391904, -1.6296541958303505, -0.6996802965145729, -1.465233792685523, -0.49720057068155404, 0.3982089211336604, 0.9208229763683788, 0.11964811303984217, 1.8027430907391908, 0.009947101631022222, 1.7098068965379012, 0.6013317483706249, 0.5198407089408866, -0.33437680758881416, -0.05971709978532289, -0.8191542511219893, -0.5084880591093566, 0.31341122924989406, -0.5894557978497783, 1.9145058250555569, 1.140763739234598, 0.43072729929545744, -1.1034281680166917, 1.558783549502995, -0.7383242062666205, 0.9516592123227111, -0.8473045398955408, -0.1598288807032709, 1.8557299227201098, 0.2925825285624374, -0.07965966955253276, -1.4949762716640178, 0.13971029888186212, 0.9361298239726298, -0.9834280199496832, -0.554312379746622, -0.8761428492468408, -0.6374841609623769, -1.2418667918433202, -0.387464044551579, 0.03979825397785931, -1.382994127100638, 0.8473045398955408, 2.411822295883333, 1.0853249080767586, -0.2512933688732672, 0.6497201342245823, -0.039798253977859174, -0.08964235107576254, 0.9996904864891372, 1.9807523966472789, -0.31341122924989406, -0.029845242919239564, -1.6683911939470795, -1.0853249080767589, -0.9208229763683788, 0.05971709978532289, 1.286087006152469, -0.10963555387076616, -0.35549041783953095, -0.4748124827500927, 0.387464044551579, 1.1219004674623523, 0.09963397403659764, -0.4089999708509596, -1.9145058250555573, 1.1600419029553108, 1.668391193947079, 0.6996802965145729, -1.0675705238781414, 0.3449143925332651, -0.11964811303984203, 0.10963555387076603, -0.6870305263016266, -0.9996904864891372, -1.0162217327405565, -0.1800123697927051, -0.8053202128239452, -0.26157282965130185, 2.2601889913293767, 0.3554904178395308, -0.9057288940619034, -0.5659488219328631, -1.9807523966472789, 1.1034281680166922, 0.6870305263016266, -1.4093552181185076, 1.2206403488473496, -1.140763739234598, -0.009947101631022222, -1.0501464321596574, -1.0330354662092913, -0.049755209208298, -0.6253428964607914]\n",
      "ENSG00000172404.4\n"
     ]
    }
   ],
   "source": [
    "### RUn this for the real eQTL, this does not use residuals or calculate residuals.\n",
    "import load_params as LP\n",
    "import eqtl_funcs as EF\n",
    "\n",
    "geneName = \"ENSG00000172404.4\"\n",
    "chrNum = \"22\"\n",
    "pos = \"40407887\"\n",
    "tissue = \"Breast_Mammary_Tissue\"\n",
    "#22_40407887_G_A_b37\n",
    "\n",
    "expV2, indivVector2 = EF.get_eqtl_stats_real(chrNum, pos, geneName, tissue, paramDict)  \n",
    "\n",
    "#print(slope)\n",
    "#print(intercept)\n",
    "#print(residuals)\n",
    "print(expV2)\n",
    "\n",
    "def output_gene_info(geneName, paramDict):\n",
    "    \n",
    "    fileIN = open(paramDict[\"tmpDir\"] + '/chrname.txt')\n",
    "    selected = list()\n",
    "    for i in fileIN: \n",
    "        i = i.rstrip().split('\\t')\n",
    "        \n",
    "        if i[3]== geneName:\n",
    "            selected = i\n",
    "            break\n",
    "            \n",
    "    return selected\n",
    "\n",
    "  \n",
    "def output_header2(indivVector2): \n",
    "\n",
    "            \n",
    "            \n",
    "    header = \"\\t\".join(['#chr',  'start', 'end' , 'gene' , 'length' , 'strand'] + [str(x) for x in indivVector2] )\n",
    "    return header\n",
    "\n",
    "    fileIN.close()\n",
    "\n",
    "def output_bed(indivVector2, expV2, filepath, geneName, paramDict):\n",
    "    selected = output_gene_info(geneName, paramDict)\n",
    "    header = output_header2(indivVector2)\n",
    "    with open(filepath, 'w') as outfile:\n",
    "        outfile.write(header + \"\\n\")\n",
    "        geneLocation = selected\n",
    "        outfile.write(\"\\t\".join([str(x) for x in geneLocation]) + \"\\t\" + \"\\t\".join([str(x) for x in expV2]) + \"\\n\")\n",
    "print(geneName)        \n",
    "output_bed(indivVector2, expV2, paramDict[\"tmpSmall\"] + \"/GTExExpfile_realeQTL.bed\", geneName, paramDict)\n",
    "\n",
    "\n",
    "\n"
   ]
  },
  {
   "cell_type": "code",
   "execution_count": 13,
   "metadata": {
    "collapsed": false
   },
   "outputs": [
    {
     "data": {
      "text/plain": [
       "0"
      ]
     },
     "execution_count": 13,
     "metadata": {},
     "output_type": "execute_result"
    }
   ],
   "source": [
    "##not sure we even need to index the PP file\n",
    "\n",
    "import os\n",
    "\n",
    "os.system(\"bgzip /users/michaelbinkley/desktop/RTCstuffs/tmpsmall/GTExExpfile_realeQTL.bed\")\n",
    "os.system(\"tabix -p bed /users/michaelbinkley/desktop/RTCstuffs/tmpsmall/GTExExpfile_realeQTL.bed.gz\")\n",
    "\n"
   ]
  },
  {
   "cell_type": "code",
   "execution_count": 52,
   "metadata": {
    "collapsed": false
   },
   "outputs": [
    {
     "data": {
      "text/plain": [
       "0"
      ]
     },
     "execution_count": 52,
     "metadata": {},
     "output_type": "execute_result"
    }
   ],
   "source": [
    "import os\n",
    "\n",
    "\n",
    "os.system(\"QTLtools rtc --vcf /users/michaelbinkley/desktop/GTEx/chr22_subset_gtex.vcf.gz --bed /users/michaelbinkley/desktop/RTCstuffs/tmpsmall/GTExExpfile_realeQTL.bed.gz --hotspot /users/michaelbinkley/desktop/qtltools_test/hotspots.bed --gwas-cis /users/michaelbinkley/desktop/RTCstuffs/bestGWAS_var.txt /users/michaelbinkley/desktop/RTCstuffs/tmpSmall/permutations_real.txt --normal --out rtc_results_realeQTL.txt\")\n",
    "\n"
   ]
  },
  {
   "cell_type": "code",
   "execution_count": 31,
   "metadata": {
    "collapsed": false
   },
   "outputs": [],
   "source": [
    "def prep_real_GWAS(outfilename):\n",
    "    fileIN = open(\"bestGWAS.txt\")\n",
    "    fileOUT = open(outfilename, \"w\")\n",
    "    for i in fileIN:\n",
    "        i=i.rstrip().split(\"\\t\")\n",
    "        varG = str(i[3]) \n",
    "        \n",
    "        fileOUT.write(str(varG) + \"\\t\" + \"Cancer\" \"\\n\")\n",
    "\n",
    "    fileOUT.close()\n",
    "    fileIN.close()\n",
    "#prep_real_GWAS(\"bestGWAS_var.txt\")\n",
    "\n",
    "def prep_real_eQTL(outfilename):\n",
    "    fileIN = open(\"/users/michaelbinkley/desktop/RTCstuffs/besteQTLs.txt\" )\n",
    "    fileOUT = open(outfilename, \"w\")\n",
    "    for i in fileIN:\n",
    "        i=i.rstrip().split(\"\\t\")\n",
    "        varG = str(i[0])\n",
    "        fileOUT.write(str(varG) + \"\\n\")\n",
    "\n",
    "    fileOUT.close()\n",
    "    fileIN.close()\n",
    "#prep_real_eQTL(\"besteQTL_var.txt\")"
   ]
  },
  {
   "cell_type": "code",
   "execution_count": 32,
   "metadata": {
    "collapsed": true
   },
   "outputs": [],
   "source": [
    "def prepare_perm_file(outfilename):  \n",
    "    fileIN = open('/users/michaelbinkley/desktop/RTCstuffs/tmpsmall/GTExExpfile.bed')\n",
    "    causalvar = open(\"besteQTL_var.txt\")\n",
    "    fileIN.readline()\n",
    "    fileOUT = open(outfilename, \"w\")\n",
    "    for j in causalvar: \n",
    "        j = j.rstrip().split('\\t')\n",
    "        cvar = j[0]\n",
    "    for i in fileIN: \n",
    "        i = i.rstrip().split('\\t')\n",
    "        gene = i[3]\n",
    "        chrn = i[0]\n",
    "        start = i[1]\n",
    "        end = i[2]\n",
    "        dist = i[4]\n",
    "        sense = i[5]\n",
    "        \n",
    "        fileOUT.write(\"\\t\".join([ str(gene), str(chrn),  str(start) , str(end), sense, dist, dist, str(cvar), chrn , 'NA', 'NA', 'NA', 'NA', 'NA', 'NA', 'NA', 'NA', 'NA', 'NA', 'NA' ] ) + \"\\n\")\n",
    "\n",
    "    fileIN.close()\n",
    "    fileOUT.close()\n",
    "\n",
    "    \n",
    "#prepare_perm_file( \"/users/michaelbinkley/desktop/RTCstuffs/tmpSmall/permutations_real.txt\")\n",
    "  "
   ]
  },
  {
   "cell_type": "code",
   "execution_count": 130,
   "metadata": {
    "collapsed": false
   },
   "outputs": [],
   "source": [
    "# Script to filter a vcf file for SNPs with ANY missing genotypes. \n",
    "# Perhaps too stringent of a filter, but will edit out later. \n",
    "def fix_vcf():\n",
    "    vcf_file_path_unzipped= \"\"\n",
    "    new_vcf_file_path_unzipped = \"\"\n",
    "    fileOUT = open(paramDict[\"gtexDir\"] +'/chr22_subset_gtex_copy2.vcf', \"w\")\n",
    "\n",
    "    fileIN = open(paramDict[\"gtexDir\"] +'/chr22_subset_gtex_copy.vcf')\n",
    "    for i in fileIN:\n",
    "        if i[0]==\"#\": fileOUT.write(i)\n",
    "        else:\n",
    "            isplit = i.rstrip().split('\\t')\n",
    "            genotypes = isplit[9:]\n",
    "            genotypes_with_missing = [x for x in genotypes if \".\" in x.split('/') ]\n",
    "            if len(genotypes_with_missing)>0: continue\n",
    "            else:\n",
    "                fileOUT.write(i)\n",
    "fix_vcf()"
   ]
  },
  {
   "cell_type": "code",
   "execution_count": null,
   "metadata": {
    "collapsed": true
   },
   "outputs": [],
   "source": []
  },
  {
   "cell_type": "code",
   "execution_count": null,
   "metadata": {
    "collapsed": true
   },
   "outputs": [],
   "source": []
  },
  {
   "cell_type": "code",
   "execution_count": null,
   "metadata": {
    "collapsed": true
   },
   "outputs": [],
   "source": []
  }
 ],
 "metadata": {
  "kernelspec": {
   "display_name": "Python 3",
   "language": "python",
   "name": "python3"
  },
  "language_info": {
   "codemirror_mode": {
    "name": "ipython",
    "version": 3
   },
   "file_extension": ".py",
   "mimetype": "text/x-python",
   "name": "python",
   "nbconvert_exporter": "python",
   "pygments_lexer": "ipython3",
   "version": "3.5.4"
  }
 },
 "nbformat": 4,
 "nbformat_minor": 1
}
