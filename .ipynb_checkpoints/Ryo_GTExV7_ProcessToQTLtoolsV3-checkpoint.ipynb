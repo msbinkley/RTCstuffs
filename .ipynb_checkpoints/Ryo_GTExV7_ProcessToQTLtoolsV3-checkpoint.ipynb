{
 "cells": [
  {
   "cell_type": "code",
   "execution_count": 1,
   "metadata": {
    "collapsed": false
   },
   "outputs": [],
   "source": [
    "#### REMEMBER TO GIT PULL!  ####\n",
    "#### Add this block to all jupyter files ####\n",
    "\n",
    "#Loading and importing necessary tools. \n",
    "%load_ext autoreload \n",
    "%autoreload 2\n",
    "import sys, os\n",
    "sys.path.append(\"scripts\")\n",
    "import load_params as LP\n",
    "\n",
    "\n",
    "# Comment and uncomment these two lines for when you are working on this notebook. \n",
    "#param_file = \"param_files/ryo_local.csv\"\n",
    "param_file = \"param_files/binkley_local.csv\" \n",
    "\n",
    "paramDict = LP.load_param_file(param_file)\n",
    "\n",
    "import seaborn as sns\n",
    "import matplotlib as mpl\n",
    "import matplotlib.pyplot as plt\n",
    "%matplotlib inline\n",
    "import scipy\n",
    "from scipy import stats\n",
    "import sys\n",
    "import numpy as np\n",
    "import pandas as pd\n",
    "from pandas import Series,DataFrame\n",
    "import sys\n",
    "import codecs\n",
    " \n",
    "import random\n",
    "random.seed(0)\n",
    "from random import sample\n",
    "\n",
    "\n",
    "import seaborn as sns\n",
    "sns.set_style('whitegrid')\n",
    "\n",
    "# guarantee unicode string\n",
    "_u = lambda t: t.decode('UTF-8', 'replace') if isinstance(t, str) else t\n",
    "_uu = lambda *tt: tuple(_u(t) for t in tt) \n",
    "# guarantee byte string in UTF8 encoding\n",
    "_u8 = lambda t: t.encode('UTF-8', 'replace') if isinstance(t, unicode) else t\n",
    "_uu8 = lambda *tt: tuple(_u8(t) for t in tt) "
   ]
  },
  {
   "cell_type": "code",
   "execution_count": 8,
   "metadata": {
    "collapsed": false
   },
   "outputs": [
    {
     "name": "stdout",
     "output_type": "stream",
     "text": [
      "eqtl ['22_40401895_A_C_b37']\n",
      "gwas ['22_40404823_T_C_b37']\n",
      "Start\n",
      "\tGetting dosage vector for : 22 40407887.0 /Users/michaelbinkley/Desktop/GTEx/\n",
      "\tGetting header\n",
      "\tStillok\n",
      "\t calculate residuals\n",
      "RTC1\n",
      "RTC2\n",
      "\tGetting dosage vector for : 22 40407887.0 /Users/michaelbinkley/Desktop/GTEx/\n",
      "\tGetting header\n",
      "\tStillok\n",
      "\t calculate residuals\n",
      "RTC3\n",
      "RTC4\n",
      "\tGetting dosage vector for : 22 40419154 /Users/michaelbinkley/Desktop/GTEx/\n",
      "\tGetting header\n",
      "\tStillok\n",
      "RTC5\n",
      "RTC6\n",
      "RTC6A\n",
      "RTC6B\n",
      "RTC6C\n",
      "RTC7\n",
      "eqtl ['22_40455474_G_T_b37']\n",
      "gwas ['22_40507705_G_C_b37']\n",
      "Start\n",
      "\tGetting dosage vector for : 22 40407887.0 /Users/michaelbinkley/Desktop/GTEx/\n",
      "\tGetting header\n",
      "\tStillok\n",
      "\t calculate residuals\n",
      "RTC1\n",
      "RTC2\n",
      "\tGetting dosage vector for : 22 40407887.0 /Users/michaelbinkley/Desktop/GTEx/\n",
      "\tGetting header\n",
      "\tStillok\n",
      "\t calculate residuals\n",
      "RTC3\n",
      "RTC4\n",
      "\tGetting dosage vector for : 22 40503116 /Users/michaelbinkley/Desktop/GTEx/\n",
      "\tGetting header\n",
      "\tStillok\n",
      "RTC5\n",
      "RTC6\n",
      "RTC6A\n",
      "RTC6B\n",
      "RTC6C\n",
      "RTC7\n",
      "eqtl ['22_40420786_C_G_b37']\n",
      "gwas ['22_40401779_A_C_b37']\n",
      "Start\n",
      "\tGetting dosage vector for : 22 40407887.0 /Users/michaelbinkley/Desktop/GTEx/\n",
      "\tGetting header\n",
      "\tStillok\n",
      "\t calculate residuals\n",
      "RTC1\n",
      "RTC2\n",
      "\tGetting dosage vector for : 22 40407887.0 /Users/michaelbinkley/Desktop/GTEx/\n",
      "\tGetting header\n",
      "\tStillok\n",
      "\t calculate residuals\n",
      "RTC3\n",
      "RTC4\n",
      "\tGetting dosage vector for : 22 40420786 /Users/michaelbinkley/Desktop/GTEx/\n",
      "\tGetting header\n",
      "\tStillok\n",
      "RTC5\n",
      "RTC6\n",
      "RTC6A\n",
      "RTC6B\n",
      "RTC6C\n",
      "RTC7\n",
      "eqtl ['22_40417571_G_A_b37']\n",
      "gwas ['22_40501379_A_G_b37']\n",
      "Start\n",
      "\tGetting dosage vector for : 22 40407887.0 /Users/michaelbinkley/Desktop/GTEx/\n",
      "\tGetting header\n",
      "\tStillok\n",
      "\t calculate residuals\n",
      "RTC1\n",
      "RTC2\n",
      "\tGetting dosage vector for : 22 40407887.0 /Users/michaelbinkley/Desktop/GTEx/\n",
      "\tGetting header\n",
      "\tStillok\n",
      "\t calculate residuals\n",
      "RTC3\n",
      "RTC4\n",
      "\tGetting dosage vector for : 22 40481736 /Users/michaelbinkley/Desktop/GTEx/\n",
      "\tGetting header\n",
      "\tStillok\n",
      "RTC5\n",
      "RTC6\n",
      "RTC6A\n",
      "RTC6B\n",
      "RTC6C\n",
      "RTC7\n",
      "eqtl ['22_40512398_A_G_b37']\n",
      "gwas ['22_40419956_C_T_b37']\n",
      "Start\n",
      "\tGetting dosage vector for : 22 40407887.0 /Users/michaelbinkley/Desktop/GTEx/\n",
      "\tGetting header\n",
      "\tStillok\n",
      "\t calculate residuals\n",
      "RTC1\n",
      "RTC2\n",
      "\tGetting dosage vector for : 22 40407887.0 /Users/michaelbinkley/Desktop/GTEx/\n",
      "\tGetting header\n",
      "\tStillok\n",
      "\t calculate residuals\n",
      "RTC3\n",
      "RTC4\n",
      "\tGetting dosage vector for : 22 40384382 /Users/michaelbinkley/Desktop/GTEx/\n",
      "\tGetting header\n",
      "\tStillok\n",
      "RTC5\n",
      "RTC6\n",
      "RTC6A\n",
      "RTC6B\n",
      "RTC6C\n",
      "RTC7\n",
      "eqtl ['22_40503145_A_G_b37']\n",
      "gwas ['22_40507282_T_C_b37']\n",
      "Start\n",
      "\tGetting dosage vector for : 22 40407887.0 /Users/michaelbinkley/Desktop/GTEx/\n",
      "\tGetting header\n",
      "\tStillok\n",
      "\t calculate residuals\n",
      "RTC1\n",
      "RTC2\n",
      "\tGetting dosage vector for : 22 40407887.0 /Users/michaelbinkley/Desktop/GTEx/\n",
      "\tGetting header\n",
      "\tStillok\n",
      "\t calculate residuals\n",
      "RTC3\n",
      "RTC4\n",
      "\tGetting dosage vector for : 22 40499447 /Users/michaelbinkley/Desktop/GTEx/\n",
      "\tGetting header\n",
      "\tStillok\n",
      "RTC5\n",
      "RTC6\n",
      "RTC6A\n",
      "RTC6B\n",
      "RTC6C\n",
      "RTC7\n",
      "eqtl ['22_40514102_G_A_b37']\n",
      "gwas ['22_40498229_A_G_b37']\n",
      "Start\n",
      "\tGetting dosage vector for : 22 40407887.0 /Users/michaelbinkley/Desktop/GTEx/\n",
      "\tGetting header\n",
      "\tStillok\n",
      "\t calculate residuals\n",
      "RTC1\n",
      "RTC2\n",
      "\tGetting dosage vector for : 22 40407887.0 /Users/michaelbinkley/Desktop/GTEx/\n",
      "\tGetting header\n",
      "\tStillok\n",
      "\t calculate residuals\n",
      "RTC3\n",
      "RTC4\n",
      "\tGetting dosage vector for : 22 40499447 /Users/michaelbinkley/Desktop/GTEx/\n",
      "\tGetting header\n",
      "\tStillok\n",
      "RTC5\n",
      "RTC6\n",
      "RTC6A\n",
      "RTC6B\n",
      "RTC6C\n",
      "RTC7\n",
      "eqtl ['22_40426295_T_C_b37']\n",
      "gwas ['22_40481736_G_A_b37']\n",
      "Start\n",
      "\tGetting dosage vector for : 22 40407887.0 /Users/michaelbinkley/Desktop/GTEx/\n",
      "\tGetting header\n",
      "\tStillok\n",
      "\t calculate residuals\n",
      "RTC1\n",
      "RTC2\n",
      "\tGetting dosage vector for : 22 40407887.0 /Users/michaelbinkley/Desktop/GTEx/\n",
      "\tGetting header\n",
      "\tStillok\n",
      "\t calculate residuals\n",
      "RTC3\n",
      "RTC4\n",
      "\tGetting dosage vector for : 22 40425874 /Users/michaelbinkley/Desktop/GTEx/\n",
      "\tGetting header\n",
      "\tStillok\n",
      "RTC5\n",
      "RTC6\n",
      "RTC6A\n",
      "RTC6B\n",
      "RTC6C\n",
      "RTC7\n",
      "eqtl ['22_40461961_C_T_b37']\n",
      "gwas ['22_40445733_A_G_b37']\n",
      "Start\n",
      "\tGetting dosage vector for : 22 40407887.0 /Users/michaelbinkley/Desktop/GTEx/\n",
      "\tGetting header\n",
      "\tStillok\n",
      "\t calculate residuals\n",
      "RTC1\n",
      "RTC2\n",
      "\tGetting dosage vector for : 22 40407887.0 /Users/michaelbinkley/Desktop/GTEx/\n",
      "\tGetting header\n",
      "\tStillok\n",
      "\t calculate residuals\n",
      "RTC3\n",
      "RTC4\n",
      "\tGetting dosage vector for : 22 40523213 /Users/michaelbinkley/Desktop/GTEx/\n",
      "\tGetting header\n",
      "\tStillok\n",
      "RTC5\n",
      "RTC6\n",
      "RTC6A\n",
      "RTC6B\n",
      "RTC6C\n",
      "RTC7\n",
      "eqtl ['22_40453650_C_G_b37']\n",
      "gwas ['22_40498229_A_G_b37']\n",
      "Start\n",
      "\tGetting dosage vector for : 22 40407887.0 /Users/michaelbinkley/Desktop/GTEx/\n",
      "\tGetting header\n",
      "\tStillok\n",
      "\t calculate residuals\n",
      "RTC1\n",
      "RTC2\n",
      "\tGetting dosage vector for : 22 40407887.0 /Users/michaelbinkley/Desktop/GTEx/\n",
      "\tGetting header\n",
      "\tStillok\n",
      "\t calculate residuals\n",
      "RTC3\n",
      "RTC4\n",
      "\tGetting dosage vector for : 22 40518761 /Users/michaelbinkley/Desktop/GTEx/\n",
      "\tGetting header\n",
      "\tStillok\n",
      "RTC5\n",
      "RTC6\n",
      "RTC6A\n",
      "RTC6B\n",
      "RTC6C\n",
      "RTC7\n"
     ]
    }
   ],
   "source": [
    "#### If you want to run this without the prep step, just put a pound sign in front, it will work just fine.\n",
    "\n",
    "import prepstepsCopy1 as PS\n",
    "import allprepsteps as aps\n",
    "\n",
    "def permutate_eQTL_list():\n",
    "    fileIN = open(\"/users/michaelbinkley/desktop/RTCstuffs/besteQTLs.txt\")\n",
    "    outlist2 = list()\n",
    "    for i in fileIN: \n",
    "        i = i.rstrip().split('\\t')\n",
    "        geneName = i[0]  \n",
    "        chrNum = i[1]  \n",
    "        pos = i[2]  \n",
    "        tissue = \"Breast_Mammary_Tissue\"\n",
    "        #aps.prep_step(paramDict, geneName, chrNum, pos, tissue)\n",
    "\n",
    "        #permlist = run_perm_H0(paramDict, geneName, chrNum, pos, tissue)\n",
    "        permlist = run_perm_H1(paramDict, geneName, chrNum, pos, tissue)\n",
    "\n",
    "\n",
    "        outlist2 = outlist2 + permlist\n",
    "                        \n",
    "    fileOUT = open(\"RTCperm_all_eQTLs.txt\", \"w\")\n",
    "    for k in outlist2:\n",
    "        fileOUT.write(\"\\t\".join([str(x) for x in k]) + \"\\n\")       \n",
    "    fileOUT.close()\n",
    "    fileIN.close()    \n",
    "permutate_eQTL_list()"
   ]
  },
  {
   "cell_type": "code",
   "execution_count": 7,
   "metadata": {
    "collapsed": false
   },
   "outputs": [],
   "source": [
    "###Running this step requires running the RTC step below. But will soon not require that.\n",
    "\n",
    "import os\n",
    "import load_params as LP\n",
    "import prepsteps as PS\n",
    "import allstepsH as AS\n",
    "import eqtl_funcs as EF\n",
    "import gtex_funcs as GF\n",
    "import deprecated_funcs as DF\n",
    "import allstepslist as ASL\n",
    "import runRTC as rrtc\n",
    "import numpy as np\n",
    "\n",
    "#geneName = \"ENSG00000172404.4\"\n",
    "#chrNum = \"22\"\n",
    "#pos = \"40407887\"\n",
    "#tissue = \"Breast_Mammary_Tissue\"\n",
    "\n",
    "def run_perm_H1(paramDict, geneName, chrNum, pos, tissue):\n",
    "    numperm = 10\n",
    "    outlist = list()\n",
    "\n",
    "    for i in range(numperm):\n",
    "      \n",
    "        ASL.run_all_steps_H1(paramDict)\n",
    "        rrtc.run_RTC(paramDict, geneName, chrNum, pos, tissue)\n",
    "        \n",
    "        fileIN = open('/users/michaelbinkley/desktop/RTCstuffs/rtc_results2.txt')\n",
    "        fileIN.readline()\n",
    "        genes = list()\n",
    "        for j in fileIN:\n",
    "            g = j.rstrip().split(\" \")\n",
    "            name = g[19]\n",
    "\n",
    "            #genes.append(name)\n",
    "            outlist.append([geneName, chrNum, pos, tissue, name])\n",
    "            #first = (j[0]) \n",
    "        \n",
    "        fileIN.close()\n",
    "    return outlist\n",
    "    #print((genes))                         \n",
    "    #fileOUT = open(\"RTCperm_H1\" + str(numperm) + \".txt\", \"w\")\n",
    "    #for k in outlist:\n",
    "        #fileOUT.write(k + \"\\n\")       \n",
    "    #fileOUT.close()\n",
    "#run_perm_H1(paramDict, geneName, chrNum, pos, tissue)"
   ]
  },
  {
   "cell_type": "code",
   "execution_count": 3,
   "metadata": {
    "collapsed": false
   },
   "outputs": [],
   "source": [
    "####Use this to complete the iterations. This uses the step below that runs all steps\n",
    "###Running this step requires running the RTC step below\n",
    "\n",
    "\n",
    "import os\n",
    "import load_params as LP\n",
    "import prepsteps as PS\n",
    "import allstepsH as AS\n",
    "import eqtl_funcs as EF\n",
    "import gtex_funcs as GF\n",
    "import deprecated_funcs as DF\n",
    "import allstepslist as ASL\n",
    "import runRTC as rrtc\n",
    "import numpy as np\n",
    "\n",
    "def run_perm_H0(paramDict, geneName, chrNum, pos, tissue):\n",
    "    numperm = 1\n",
    "    outlist = list()\n",
    "\n",
    "    for i in range(numperm):\n",
    "      \n",
    "        ASL.run_all_steps_H0(paramDict)\n",
    "        rrtc.run_RTC(paramDict, geneName, chrNum, pos, tissue)\n",
    "\n",
    "        \n",
    "        fileIN = open('/users/michaelbinkley/desktop/RTCstuffs/rtc_results2.txt')\n",
    "        fileIN.readline()\n",
    "        genes = list()\n",
    "        for j in fileIN:\n",
    "            g = j.rstrip().split(\" \")\n",
    "            name = g[19]\n",
    "\n",
    "            #genes.append(name)\n",
    "            outlist.append([geneName, chrNum, pos, tissue, name])\n",
    "            #first = (j[0]) \n",
    "        \n",
    "        fileIN.close()\n",
    "    return outlist\n",
    "\n",
    "\n"
   ]
  },
  {
   "cell_type": "code",
   "execution_count": 7,
   "metadata": {
    "collapsed": false
   },
   "outputs": [
    {
     "name": "stdout",
     "output_type": "stream",
     "text": [
      "['22', '40382500', '40525500', '22_40469249_G_C', '40469249.0', '8.312e-15']\n"
     ]
    }
   ],
   "source": [
    "def run_real_eQTL():\n",
    "    \n",
    "    import os\n",
    "\n",
    "    prep_real_GWAS(\"bestGWAS_var.txt\")\n",
    "    os.system(\"QTLtools rtc --vcf /users/michaelbinkley/desktop/GTEx/chr22_subset_gtex.vcf.gz --bed /users/michaelbinkley/desktop/RTCstuffs/tmpsmall/GTExExpfile_realeQTL.bed.gz --hotspot /users/michaelbinkley/desktop/qtltools_test/hotspots.bed --gwas-cis /users/michaelbinkley/desktop/RTCstuffs/bestGWAS_var.txt /users/michaelbinkley/desktop/RTCstuffs/tmpSmall/permutations_real.txt --normal --out rtc_results_realeQTL.txt\")\n",
    "\n",
    "\n",
    "\n",
    "run_real_eQTL()"
   ]
  },
  {
   "cell_type": "code",
   "execution_count": null,
   "metadata": {
    "collapsed": false
   },
   "outputs": [],
   "source": []
  },
  {
   "cell_type": "code",
   "execution_count": null,
   "metadata": {
    "collapsed": false
   },
   "outputs": [],
   "source": []
  },
  {
   "cell_type": "code",
   "execution_count": 3,
   "metadata": {
    "collapsed": true
   },
   "outputs": [],
   "source": [
    "# import custom functions\n",
    "import deprecated_funcs as DF\n"
   ]
  },
  {
   "cell_type": "code",
   "execution_count": 4,
   "metadata": {
    "collapsed": false
   },
   "outputs": [],
   "source": [
    "# Potentially deprecated functions. \n",
    "# import custom functions\n",
    "import deprecated_funcs as DF\n",
    "#param_file = \"param_files/ryo_local.csv\"\n",
    "param_file = \"param_files/binkley_local.csv\" \n",
    "\n",
    "paramDict = LP.load_param_file(param_file)\n",
    "\n",
    "DF.output_coldspot('coldspotlist.txt', paramDict)\n",
    "DF.extract_best_eqtl(paramDict)"
   ]
  },
  {
   "cell_type": "code",
   "execution_count": null,
   "metadata": {
    "collapsed": false
   },
   "outputs": [],
   "source": []
  },
  {
   "cell_type": "code",
   "execution_count": 37,
   "metadata": {
    "collapsed": false,
    "scrolled": true
   },
   "outputs": [
    {
     "name": "stdout",
     "output_type": "stream",
     "text": [
      "['22', '40382500', '40525500', '22_40469249_G_C', '40469249.0', '8.312e-15']\n"
     ]
    },
    {
     "ename": "TypeError",
     "evalue": "output_bed_real() missing 3 required positional arguments: 'chrNum', 'pos', and 'tissue'",
     "output_type": "error",
     "traceback": [
      "\u001b[0;31m---------------------------------------------------------------------------\u001b[0m",
      "\u001b[0;31mTypeError\u001b[0m                                 Traceback (most recent call last)",
      "\u001b[0;32m<ipython-input-37-76c56dcee34c>\u001b[0m in \u001b[0;36m<module>\u001b[0;34m()\u001b[0m\n\u001b[1;32m     40\u001b[0m     \u001b[0;31m#fileOUT.close()\u001b[0m\u001b[0;34m\u001b[0m\u001b[0;34m\u001b[0m\u001b[0m\n\u001b[1;32m     41\u001b[0m     \u001b[0;31m#fileIN.close()\u001b[0m\u001b[0;34m\u001b[0m\u001b[0;34m\u001b[0m\u001b[0m\n\u001b[0;32m---> 42\u001b[0;31m \u001b[0mpermutate_eQTL_real\u001b[0m\u001b[0;34m(\u001b[0m\u001b[0;34m)\u001b[0m\u001b[0;34m\u001b[0m\u001b[0m\n\u001b[0m",
      "\u001b[0;32m<ipython-input-37-76c56dcee34c>\u001b[0m in \u001b[0;36mpermutate_eQTL_real\u001b[0;34m()\u001b[0m\n\u001b[1;32m     17\u001b[0m         \u001b[0mprep_real_GWAS\u001b[0m\u001b[0;34m(\u001b[0m\u001b[0;34m\"bestGWAS_var.txt\"\u001b[0m\u001b[0;34m)\u001b[0m\u001b[0;34m\u001b[0m\u001b[0m\n\u001b[1;32m     18\u001b[0m         \u001b[0mprep_real_eQTL\u001b[0m\u001b[0;34m(\u001b[0m\u001b[0;34m\"besteQTL_var.txt\"\u001b[0m\u001b[0;34m)\u001b[0m\u001b[0;34m\u001b[0m\u001b[0m\n\u001b[0;32m---> 19\u001b[0;31m         \u001b[0moutput_bed_real\u001b[0m\u001b[0;34m(\u001b[0m\u001b[0mindivVector2\u001b[0m\u001b[0;34m,\u001b[0m \u001b[0mexpV2\u001b[0m\u001b[0;34m,\u001b[0m \u001b[0mparamDict\u001b[0m\u001b[0;34m[\u001b[0m\u001b[0;34m\"tmpSmall\"\u001b[0m\u001b[0;34m]\u001b[0m \u001b[0;34m+\u001b[0m \u001b[0;34m\"/GTExExpfile_realeQTL.bed\"\u001b[0m\u001b[0;34m,\u001b[0m \u001b[0mgeneName\u001b[0m\u001b[0;34m,\u001b[0m \u001b[0mparamDict\u001b[0m\u001b[0;34m)\u001b[0m\u001b[0;34m\u001b[0m\u001b[0m\n\u001b[0m\u001b[1;32m     20\u001b[0m         \u001b[0mprepare_perm_file_real\u001b[0m\u001b[0;34m(\u001b[0m \u001b[0;34m\"/users/michaelbinkley/desktop/RTCstuffs/tmpSmall/permutations_real.txt\"\u001b[0m\u001b[0;34m)\u001b[0m\u001b[0;34m\u001b[0m\u001b[0m\n\u001b[1;32m     21\u001b[0m         \u001b[0mos\u001b[0m\u001b[0;34m.\u001b[0m\u001b[0msystem\u001b[0m\u001b[0;34m(\u001b[0m\u001b[0;34m\"bgzip /users/michaelbinkley/desktop/RTCstuffs/tmpsmall/GTExExpfile_realeQTL.bed\"\u001b[0m\u001b[0;34m)\u001b[0m\u001b[0;34m\u001b[0m\u001b[0m\n",
      "\u001b[0;31mTypeError\u001b[0m: output_bed_real() missing 3 required positional arguments: 'chrNum', 'pos', and 'tissue'"
     ]
    }
   ],
   "source": [
    "import allsteps_real as ASR\n",
    "import prepstepsCopy1 as PS\n",
    "import allprepsteps as aps\n",
    "\n",
    "def permutate_eQTL_real():\n",
    "    fileIN = open(\"/users/michaelbinkley/desktop/RTCstuffs/besteQTLs.txt\")\n",
    "    outlist2 = list()\n",
    "    for i in fileIN: \n",
    "        i = i.rstrip().split('\\t')\n",
    "        geneName = i[0]  \n",
    "        chrNum = i[1]  \n",
    "        pos = i[2]  \n",
    "        tissue = \"Breast_Mammary_Tissue\"\n",
    "        #aps.prep_step(paramDict, geneName, chrNum, pos, tissue)\n",
    "\n",
    "\n",
    "        prep_real_GWAS(\"bestGWAS_var.txt\")\n",
    "        prep_real_eQTL(\"besteQTL_var.txt\")\n",
    "        output_bed_real(indivVector2, expV2, paramDict[\"tmpSmall\"] + \"/GTExExpfile_realeQTL.bed\", geneName, paramDict, chrNum, pos, tissue)\n",
    "        prepare_perm_file_real( \"/users/michaelbinkley/desktop/RTCstuffs/tmpSmall/permutations_real.txt\")        \n",
    "        os.system(\"bgzip /users/michaelbinkley/desktop/RTCstuffs/tmpsmall/GTExExpfile_realeQTL.bed\")\n",
    "        os.system(\"tabix -p bed /users/michaelbinkley/desktop/RTCstuffs/tmpsmall/GTExExpfile_realeQTL.bed.gz\")\n",
    "        os.system(\"QTLtools rtc --vcf /users/michaelbinkley/desktop/GTEx/chr22_subset_gtex.vcf.gz --bed /users/michaelbinkley/desktop/RTCstuffs/tmpsmall/GTExExpfile_realeQTL.bed.gz --hotspot /users/michaelbinkley/desktop/qtltools_test/hotspots.bed --gwas-cis /users/michaelbinkley/desktop/RTCstuffs/bestGWAS_var.txt /users/michaelbinkley/desktop/RTCstuffs/tmpSmall/permutations_real.txt --normal --out rtc_results_realeQTL.txt\")\n",
    "\n",
    "\n",
    "\n",
    "        \n",
    "        \n",
    "\n",
    "\n",
    "\n",
    "        #permlist2 = ASR.run_perm_real(paramDict, geneName, chrNum, pos, tissue)\n",
    "\n",
    "\n",
    "        #outlist2 = outlist2 + permlist2\n",
    "                        \n",
    "    #fileOUT = open(\"RTCperm_real_eQTLs.txt\", \"w\")\n",
    "    #for k in outlist2:\n",
    "        #fileOUT.write(\"\\t\".join([str(x) for x in k]) + \"\\n\")       \n",
    "    #fileOUT.close()\n",
    "    #fileIN.close()    \n",
    "permutate_eQTL_real()"
   ]
  },
  {
   "cell_type": "code",
   "execution_count": null,
   "metadata": {
    "collapsed": false
   },
   "outputs": [],
   "source": [
    "\n"
   ]
  },
  {
   "cell_type": "code",
   "execution_count": null,
   "metadata": {
    "collapsed": false
   },
   "outputs": [],
   "source": [
    "\n",
    "\n"
   ]
  },
  {
   "cell_type": "code",
   "execution_count": null,
   "metadata": {
    "collapsed": false
   },
   "outputs": [],
   "source": []
  },
  {
   "cell_type": "code",
   "execution_count": null,
   "metadata": {
    "collapsed": false
   },
   "outputs": [],
   "source": [
    "\n"
   ]
  },
  {
   "cell_type": "code",
   "execution_count": null,
   "metadata": {
    "collapsed": false
   },
   "outputs": [],
   "source": [
    "\n"
   ]
  },
  {
   "cell_type": "code",
   "execution_count": null,
   "metadata": {
    "collapsed": false
   },
   "outputs": [],
   "source": []
  },
  {
   "cell_type": "code",
   "execution_count": null,
   "metadata": {
    "collapsed": false
   },
   "outputs": [],
   "source": []
  },
  {
   "cell_type": "code",
   "execution_count": 47,
   "metadata": {
    "collapsed": false
   },
   "outputs": [],
   "source": [
    "dframe3 = pd.read_csv(\"/users/michaelbinkley/desktop/RTCstuffs/RTCperm25.txt\", sep =' ',header=(0))\n",
    "#dframe3 = pd.read_csv(\"/users/michaelbinkley/desktop/qtltools_test/rtc_results.txt\", sep=\"\\t\", encoding=\"utf8\")\n"
   ]
  },
  {
   "cell_type": "code",
   "execution_count": 48,
   "metadata": {
    "collapsed": false
   },
   "outputs": [
    {
     "data": {
      "text/html": [
       "<div>\n",
       "<table border=\"1\" class=\"dataframe\">\n",
       "  <thead>\n",
       "    <tr style=\"text-align: right;\">\n",
       "      <th></th>\n",
       "      <th>Value</th>\n",
       "    </tr>\n",
       "  </thead>\n",
       "  <tbody>\n",
       "    <tr>\n",
       "      <th>0</th>\n",
       "      <td>0.952854</td>\n",
       "    </tr>\n",
       "    <tr>\n",
       "      <th>1</th>\n",
       "      <td>1.000000</td>\n",
       "    </tr>\n",
       "    <tr>\n",
       "      <th>2</th>\n",
       "      <td>1.000000</td>\n",
       "    </tr>\n",
       "    <tr>\n",
       "      <th>3</th>\n",
       "      <td>1.000000</td>\n",
       "    </tr>\n",
       "    <tr>\n",
       "      <th>4</th>\n",
       "      <td>0.831266</td>\n",
       "    </tr>\n",
       "  </tbody>\n",
       "</table>\n",
       "</div>"
      ],
      "text/plain": [
       "      Value\n",
       "0  0.952854\n",
       "1  1.000000\n",
       "2  1.000000\n",
       "3  1.000000\n",
       "4  0.831266"
      ]
     },
     "execution_count": 48,
     "metadata": {},
     "output_type": "execute_result"
    }
   ],
   "source": [
    "dframe3.head()"
   ]
  },
  {
   "cell_type": "code",
   "execution_count": 49,
   "metadata": {
    "collapsed": false
   },
   "outputs": [
    {
     "data": {
      "text/plain": [
       "(array([  2.,   0.,   0.,   2.,   0.,   0.,   3.,   0.,   2.,  16.]),\n",
       " array([ 0.0248139 ,  0.12233251,  0.21985112,  0.31736973,  0.41488834,\n",
       "         0.51240695,  0.60992556,  0.70744417,  0.80496278,  0.90248139,  1.        ]),\n",
       " <a list of 10 Patch objects>)"
      ]
     },
     "execution_count": 49,
     "metadata": {},
     "output_type": "execute_result"
    },
    {
     "data": {
      "image/png": "[encoded data removed]",
      "text/plain": [
       "<matplotlib.figure.Figure at 0x1258cb240>"
      ]
     },
     "metadata": {},
     "output_type": "display_data"
    }
   ],
   "source": [
    "plt.hist(dframe3.Value,bins=10)"
   ]
  },
  {
   "cell_type": "code",
   "execution_count": null,
   "metadata": {
    "collapsed": false
   },
   "outputs": [],
   "source": []
  },
  {
   "cell_type": "code",
   "execution_count": null,
   "metadata": {
    "collapsed": false
   },
   "outputs": [],
   "source": []
  },
  {
   "cell_type": "code",
   "execution_count": null,
   "metadata": {
    "collapsed": false,
    "scrolled": false
   },
   "outputs": [],
   "source": []
  },
  {
   "cell_type": "code",
   "execution_count": 35,
   "metadata": {
    "collapsed": false
   },
   "outputs": [
    {
     "name": "stdout",
     "output_type": "stream",
     "text": [
      "\tGetting dosage vector for : 22 40407887 /Users/michaelbinkley/Desktop/GTEx/\n",
      "\tGetting header\n",
      "\tStillok\n",
      "[0.6620541667499952, 0.1901311651846145, -0.43072729929545756, -0.712443032389489, -0.5312607573635746, 1.2418667918433206, -0.06968492031845568, -1.332975991985993, -0.6013317483706249, 0.21042839424792484, 0.6132931230857989, 1.4949762716640178, -0.2718800053992609, 1.2636680250691246, 2.147593883556041, 0.5312607573635744, 0.4637077514571792, 0.16991197283324513, -0.452659911230046, 0.24104039388602685, 0.41983885990487646, 0.2512933688732672, -1.8557299227201098, 0.029845242919239425, 0.23081269611355665, 0.33437680758881416, 0.07965966955253276, -1.1999500758833568, 0.28221614706250825, -0.12967268178277752, -0.3982089211336604, -0.890838396496015, -0.22060908646341357, 0.8053202128239452, -0.20026946614337313, 0.04975520920829814, -0.463707751457179, 1.1797611176118612, 1.4367337867138037, -0.9516592123227108, 0.6744897501960817, -1.1219004674623523, 0.06968492031845568, -0.441667047158058, 1.0162217327405565, -0.649720134224582, -0.9361298239726299, 1.526103353763713, 0.08964235107576254, 0.5427505169302943, -0.3449143925332653, -0.6620541667499952, 0.7647096737863871, -0.24104039388602685, -1.286087006152469, -0.2104283942479247, 2.05703832289668, 0.27188000539926077, 0.18001236979270496, 0.967421566101701, 0.9834280199496832, 1.382994127100638, -0.28221614706250814, -0.09963397403659778, 0.8331468660796099, -0.967421566101701, 1.3575605292840327, -2.260188991329375, 1.0501464321596574, -0.019895187598079702, -0.725322886830771, -1.309171716785777, -0.13971029888186212, -1.1600419029553108, -1.1797611176118612, -1.526103353763713, -1.7098068965379007, 0.819154251121989, 0.20026946614337326, 0.3767637174864514, 0.5776624083836064, -0.6132931230857991, -1.754381965883599, 0.4526599112300461, -0.5427505169302942, -0.36610635680056963, 0.44166704715805777, -0.7781036069292223, 0.5659488219328631, 0.6374841609623771, -2.147593883556042, 0.7124430323894889, 1.6296541958303505, 0.3661063568005698, 0.4748124827500927, -2.514954877802528, 1.1999500758833568, -0.8616341201741723, -0.14976201244462692, 0.30298044805620655, -0.48597607790223374, -0.2925825285624372, 0.890838396496015, 0.5084880591093566, -0.16991197283324513, -1.4367337867138037, -0.8331468660796096, 0.5543123797466221, -0.41983885990487646, -1.3575605292840327, 0.0, 0.8616341201741723, 0.22060908646341357, -0.7647096737863871, -0.6744897501960817, -1.2636680250691246, -0.32387622276879213, -2.514954877802528, 0.1598288807032709, 0.9057288940619034, 0.7383242062666205, 0.6253428964607912, -0.30298044805620655, -0.19013116518461465, -0.5198407089408869, -1.5932188180230507, -0.5776624083836064, 1.332975991985993, 1.59321881802305, -2.0570383228966804, 0.12967268178277766, 0.32387622276879213, 2.6547590333403273, -0.7514515438490051, 0.8761428492468408, 0.4089999708509596, 0.7781036069292223, -1.5587835495029956, 0.019895187598079563, 0.2615728296513017, 0.49720057068155404, -0.7916386077433746, -0.3767637174864512, 1.465233792685523, 0.7253228868307712, 1.7543819658835997, -1.22064034884735, 0.7514515438490051, 0.48597607790223374, 0.14976201244462692, 0.7916386077433746, -0.23081269611355665, 1.0330354662092913, 1.409355218118507, 1.309171716785777, 0.5894557978497783, 1.0675705238781412, -1.8027430907391904, -1.6296541958303505, -0.6996802965145729, -1.465233792685523, -0.49720057068155404, 0.3982089211336604, 0.9208229763683788, 0.11964811303984217, 1.8027430907391908, 0.009947101631022222, 1.7098068965379012, 0.6013317483706249, 0.5198407089408866, -0.33437680758881416, -0.05971709978532289, -0.8191542511219893, -0.5084880591093566, 0.31341122924989406, -0.5894557978497783, 1.9145058250555569, 1.140763739234598, 0.43072729929545744, -1.1034281680166917, 1.558783549502995, -0.7383242062666205, 0.9516592123227111, -0.8473045398955408, -0.1598288807032709, 1.8557299227201098, 0.2925825285624374, -0.07965966955253276, -1.4949762716640178, 0.13971029888186212, 0.9361298239726298, -0.9834280199496832, -0.554312379746622, -0.8761428492468408, -0.6374841609623769, -1.2418667918433202, -0.387464044551579, 0.03979825397785931, -1.382994127100638, 0.8473045398955408, 2.411822295883333, 1.0853249080767586, -0.2512933688732672, 0.6497201342245823, -0.039798253977859174, -0.08964235107576254, 0.9996904864891372, 1.9807523966472789, -0.31341122924989406, -0.029845242919239564, -1.6683911939470795, -1.0853249080767589, -0.9208229763683788, 0.05971709978532289, 1.286087006152469, -0.10963555387076616, -0.35549041783953095, -0.4748124827500927, 0.387464044551579, 1.1219004674623523, 0.09963397403659764, -0.4089999708509596, -1.9145058250555573, 1.1600419029553108, 1.668391193947079, 0.6996802965145729, -1.0675705238781414, 0.3449143925332651, -0.11964811303984203, 0.10963555387076603, -0.6870305263016266, -0.9996904864891372, -1.0162217327405565, -0.1800123697927051, -0.8053202128239452, -0.26157282965130185, 2.2601889913293767, 0.3554904178395308, -0.9057288940619034, -0.5659488219328631, -1.9807523966472789, 1.1034281680166922, 0.6870305263016266, -1.4093552181185076, 1.2206403488473496, -1.140763739234598, -0.009947101631022222, -1.0501464321596574, -1.0330354662092913, -0.049755209208298, -0.6253428964607914]\n",
      "ENSG00000172404.4\n"
     ]
    }
   ],
   "source": [
    "### RUn this for the real eQTL, this does not use residuals or calculate residuals.\n",
    "import load_params as LP\n",
    "import eqtl_funcs as EF\n",
    "\n",
    "#geneName = \"ENSG00000172404.4\"\n",
    "#chrNum = \"22\"\n",
    "#pos = \"40407887\"\n",
    "#tissue = \"Breast_Mammary_Tissue\"\n",
    "#22_40407887_G_A_b37\n",
    "\n",
    "expV2, indivVector2 = EF.get_eqtl_stats_real(chrNum, pos, geneName, tissue, paramDict)  \n",
    "\n",
    "#print(slope)\n",
    "#print(intercept)\n",
    "#print(residuals)\n",
    "print(expV2)\n",
    "\n",
    "def output_gene_info_real(geneName, paramDict, chrNum, pos, tissue):\n",
    "    \n",
    "    fileIN = open(paramDict[\"tmpDir\"] + '/chrname.txt')\n",
    "    selected = list()\n",
    "    for i in fileIN: \n",
    "        i = i.rstrip().split('\\t')\n",
    "        \n",
    "        if i[3]== geneName:\n",
    "            selected = i\n",
    "            break\n",
    "            \n",
    "    return selected\n",
    "\n",
    "  \n",
    "def output_header2_real(indivVector2): \n",
    "\n",
    "            \n",
    "            \n",
    "    header = \"\\t\".join(['#chr',  'start', 'end' , 'gene' , 'length' , 'strand'] + [str(x) for x in indivVector2] )\n",
    "    return header\n",
    "\n",
    "    fileIN.close()\n",
    "\n",
    "def output_bed_real(indivVector2, expV2, filepath, geneName, paramDict, chrNum, pos, tissue):\n",
    "    selected = output_gene_info_real(geneName, paramDict)\n",
    "    header = output_header2_real(indivVector2)\n",
    "    with open(filepath, 'w') as outfile:\n",
    "        outfile.write(header + \"\\n\")\n",
    "        geneLocation = selected\n",
    "        outfile.write(\"\\t\".join([str(x) for x in geneLocation]) + \"\\t\" + \"\\t\".join([str(x) for x in expV2]) + \"\\n\")\n",
    "print(geneName)        \n",
    "#output_bed_real(indivVector2, expV2, paramDict[\"tmpSmall\"] + \"/GTExExpfile_realeQTL.bed\", geneName, paramDict)\n",
    "\n",
    "\n",
    "\n"
   ]
  },
  {
   "cell_type": "code",
   "execution_count": 13,
   "metadata": {
    "collapsed": false
   },
   "outputs": [
    {
     "data": {
      "text/plain": [
       "0"
      ]
     },
     "execution_count": 13,
     "metadata": {},
     "output_type": "execute_result"
    }
   ],
   "source": [
    "##not sure we even need to index the PP file\n",
    "\n",
    "import os\n",
    "\n",
    "os.system(\"bgzip /users/michaelbinkley/desktop/RTCstuffs/tmpsmall/GTExExpfile_realeQTL.bed\")\n",
    "os.system(\"tabix -p bed /users/michaelbinkley/desktop/RTCstuffs/tmpsmall/GTExExpfile_realeQTL.bed.gz\")\n",
    "\n"
   ]
  },
  {
   "cell_type": "code",
   "execution_count": 52,
   "metadata": {
    "collapsed": false
   },
   "outputs": [
    {
     "data": {
      "text/plain": [
       "0"
      ]
     },
     "execution_count": 52,
     "metadata": {},
     "output_type": "execute_result"
    }
   ],
   "source": [
    "import os\n",
    "\n",
    "\n",
    "os.system(\"QTLtools rtc --vcf /users/michaelbinkley/desktop/GTEx/chr22_subset_gtex.vcf.gz --bed /users/michaelbinkley/desktop/RTCstuffs/tmpsmall/GTExExpfile_realeQTL.bed.gz --hotspot /users/michaelbinkley/desktop/qtltools_test/hotspots.bed --gwas-cis /users/michaelbinkley/desktop/RTCstuffs/bestGWAS_var.txt /users/michaelbinkley/desktop/RTCstuffs/tmpSmall/permutations_real.txt --normal --out rtc_results_realeQTL.txt\")\n",
    "\n"
   ]
  },
  {
   "cell_type": "code",
   "execution_count": 6,
   "metadata": {
    "collapsed": false
   },
   "outputs": [
    {
     "name": "stdout",
     "output_type": "stream",
     "text": [
      "['22', '40382500', '40525500', '22_40469249_G_C', '40469249.0', '8.312e-15']\n"
     ]
    }
   ],
   "source": [
    "def prep_real_GWAS(outfilename):\n",
    "    fileIN = open(\"bestGWAS.txt\")\n",
    "\n",
    "    fileOUT = open(outfilename, \"w\")\n",
    "\n",
    "    for i in fileIN:\n",
    "        #i = i[0]\n",
    "        \n",
    "        i=i.rstrip().split(\"\\t\")\n",
    "        if len(i)<6: continue\n",
    "        print(i)\n",
    "        varG = str(i[3]) \n",
    "\n",
    "        fileOUT.write(str(varG) + \"_b37\" + \"\\t\" + \"Cancer\"  )\n",
    "\n",
    "    fileOUT.close()\n",
    "    fileIN.close()\n",
    "#prep_real_GWAS(\"bestGWAS_var.txt\")\n",
    "\n",
    "def prep_real_eQTL(outfilename):\n",
    "    fileIN = open(\"/users/michaelbinkley/desktop/RTCstuffs/besteQTLs.txt\" )\n",
    "    fileOUT = open(outfilename, \"w\")\n",
    "    for i in fileIN:\n",
    "        i=i.rstrip().split(\"\\t\")\n",
    "        varG = str(i[0])\n",
    "        fileOUT.write(str(varG) + \"\\n\")\n",
    "\n",
    "    fileOUT.close()\n",
    "    fileIN.close()\n",
    "#prep_real_eQTL(\"besteQTL_var.txt\")"
   ]
  },
  {
   "cell_type": "code",
   "execution_count": 9,
   "metadata": {
    "collapsed": true
   },
   "outputs": [],
   "source": [
    "def prepare_perm_file_real(outfilename):  \n",
    "    fileIN = open('/users/michaelbinkley/desktop/RTCstuffs/tmpsmall/GTExExpfile.bed')\n",
    "    causalvar = open(\"besteQTL_var.txt\")\n",
    "    fileIN.readline()\n",
    "    fileOUT = open(outfilename, \"w\")\n",
    "    for j in causalvar: \n",
    "        j = j.rstrip().split('\\t')\n",
    "        cvar = j[0]\n",
    "    for i in fileIN: \n",
    "        i = i.rstrip().split('\\t')\n",
    "        gene = i[3]\n",
    "        chrn = i[0]\n",
    "        start = i[1]\n",
    "        end = i[2]\n",
    "        dist = i[4]\n",
    "        sense = i[5]\n",
    "        \n",
    "        fileOUT.write(\"\\t\".join([ str(gene), str(chrn),  str(start) , str(end), sense, dist, dist, str(cvar), chrn , 'NA', 'NA', 'NA', 'NA', 'NA', 'NA', 'NA', 'NA', 'NA', 'NA', 'NA' ] ) + \"\\n\")\n",
    "\n",
    "    fileIN.close()\n",
    "    fileOUT.close()\n",
    "\n",
    "    \n",
    "#prepare_perm_file_real( \"/users/michaelbinkley/desktop/RTCstuffs/tmpSmall/permutations_real.txt\")\n",
    "  "
   ]
  },
  {
   "cell_type": "code",
   "execution_count": 30,
   "metadata": {
    "collapsed": false
   },
   "outputs": [
    {
     "name": "stdout",
     "output_type": "stream",
     "text": [
      "\tGetting dosage vector for : 22 40407887 /Users/michaelbinkley/Desktop/GTEx/\n",
      "\tGetting header\n",
      "\tStillok\n",
      "[0.6620541667499952, 0.1901311651846145, -0.43072729929545756, -0.712443032389489, -0.5312607573635746, 1.2418667918433206, -0.06968492031845568, -1.332975991985993, -0.6013317483706249, 0.21042839424792484, 0.6132931230857989, 1.4949762716640178, -0.2718800053992609, 1.2636680250691246, 2.147593883556041, 0.5312607573635744, 0.4637077514571792, 0.16991197283324513, -0.452659911230046, 0.24104039388602685, 0.41983885990487646, 0.2512933688732672, -1.8557299227201098, 0.029845242919239425, 0.23081269611355665, 0.33437680758881416, 0.07965966955253276, -1.1999500758833568, 0.28221614706250825, -0.12967268178277752, -0.3982089211336604, -0.890838396496015, -0.22060908646341357, 0.8053202128239452, -0.20026946614337313, 0.04975520920829814, -0.463707751457179, 1.1797611176118612, 1.4367337867138037, -0.9516592123227108, 0.6744897501960817, -1.1219004674623523, 0.06968492031845568, -0.441667047158058, 1.0162217327405565, -0.649720134224582, -0.9361298239726299, 1.526103353763713, 0.08964235107576254, 0.5427505169302943, -0.3449143925332653, -0.6620541667499952, 0.7647096737863871, -0.24104039388602685, -1.286087006152469, -0.2104283942479247, 2.05703832289668, 0.27188000539926077, 0.18001236979270496, 0.967421566101701, 0.9834280199496832, 1.382994127100638, -0.28221614706250814, -0.09963397403659778, 0.8331468660796099, -0.967421566101701, 1.3575605292840327, -2.260188991329375, 1.0501464321596574, -0.019895187598079702, -0.725322886830771, -1.309171716785777, -0.13971029888186212, -1.1600419029553108, -1.1797611176118612, -1.526103353763713, -1.7098068965379007, 0.819154251121989, 0.20026946614337326, 0.3767637174864514, 0.5776624083836064, -0.6132931230857991, -1.754381965883599, 0.4526599112300461, -0.5427505169302942, -0.36610635680056963, 0.44166704715805777, -0.7781036069292223, 0.5659488219328631, 0.6374841609623771, -2.147593883556042, 0.7124430323894889, 1.6296541958303505, 0.3661063568005698, 0.4748124827500927, -2.514954877802528, 1.1999500758833568, -0.8616341201741723, -0.14976201244462692, 0.30298044805620655, -0.48597607790223374, -0.2925825285624372, 0.890838396496015, 0.5084880591093566, -0.16991197283324513, -1.4367337867138037, -0.8331468660796096, 0.5543123797466221, -0.41983885990487646, -1.3575605292840327, 0.0, 0.8616341201741723, 0.22060908646341357, -0.7647096737863871, -0.6744897501960817, -1.2636680250691246, -0.32387622276879213, -2.514954877802528, 0.1598288807032709, 0.9057288940619034, 0.7383242062666205, 0.6253428964607912, -0.30298044805620655, -0.19013116518461465, -0.5198407089408869, -1.5932188180230507, -0.5776624083836064, 1.332975991985993, 1.59321881802305, -2.0570383228966804, 0.12967268178277766, 0.32387622276879213, 2.6547590333403273, -0.7514515438490051, 0.8761428492468408, 0.4089999708509596, 0.7781036069292223, -1.5587835495029956, 0.019895187598079563, 0.2615728296513017, 0.49720057068155404, -0.7916386077433746, -0.3767637174864512, 1.465233792685523, 0.7253228868307712, 1.7543819658835997, -1.22064034884735, 0.7514515438490051, 0.48597607790223374, 0.14976201244462692, 0.7916386077433746, -0.23081269611355665, 1.0330354662092913, 1.409355218118507, 1.309171716785777, 0.5894557978497783, 1.0675705238781412, -1.8027430907391904, -1.6296541958303505, -0.6996802965145729, -1.465233792685523, -0.49720057068155404, 0.3982089211336604, 0.9208229763683788, 0.11964811303984217, 1.8027430907391908, 0.009947101631022222, 1.7098068965379012, 0.6013317483706249, 0.5198407089408866, -0.33437680758881416, -0.05971709978532289, -0.8191542511219893, -0.5084880591093566, 0.31341122924989406, -0.5894557978497783, 1.9145058250555569, 1.140763739234598, 0.43072729929545744, -1.1034281680166917, 1.558783549502995, -0.7383242062666205, 0.9516592123227111, -0.8473045398955408, -0.1598288807032709, 1.8557299227201098, 0.2925825285624374, -0.07965966955253276, -1.4949762716640178, 0.13971029888186212, 0.9361298239726298, -0.9834280199496832, -0.554312379746622, -0.8761428492468408, -0.6374841609623769, -1.2418667918433202, -0.387464044551579, 0.03979825397785931, -1.382994127100638, 0.8473045398955408, 2.411822295883333, 1.0853249080767586, -0.2512933688732672, 0.6497201342245823, -0.039798253977859174, -0.08964235107576254, 0.9996904864891372, 1.9807523966472789, -0.31341122924989406, -0.029845242919239564, -1.6683911939470795, -1.0853249080767589, -0.9208229763683788, 0.05971709978532289, 1.286087006152469, -0.10963555387076616, -0.35549041783953095, -0.4748124827500927, 0.387464044551579, 1.1219004674623523, 0.09963397403659764, -0.4089999708509596, -1.9145058250555573, 1.1600419029553108, 1.668391193947079, 0.6996802965145729, -1.0675705238781414, 0.3449143925332651, -0.11964811303984203, 0.10963555387076603, -0.6870305263016266, -0.9996904864891372, -1.0162217327405565, -0.1800123697927051, -0.8053202128239452, -0.26157282965130185, 2.2601889913293767, 0.3554904178395308, -0.9057288940619034, -0.5659488219328631, -1.9807523966472789, 1.1034281680166922, 0.6870305263016266, -1.4093552181185076, 1.2206403488473496, -1.140763739234598, -0.009947101631022222, -1.0501464321596574, -1.0330354662092913, -0.049755209208298, -0.6253428964607914]\n",
      "ENSG00000172404.4\n"
     ]
    }
   ],
   "source": [
    "import os\n",
    "import load_params as LP\n",
    "import prepsteps as PS\n",
    "import allstepsH as AS\n",
    "import eqtl_funcs as EF\n",
    "import gtex_funcs as GF\n",
    "import deprecated_funcs as DF\n",
    "import allstepslist as ASL\n",
    "import runRTC as rrtc\n",
    "import numpy as np\n",
    "\n",
    "import load_params as LP\n",
    "import eqtl_funcs as EF\n",
    "\n",
    "\n",
    "\n",
    "def prep_real_GWAS(outfilename):\n",
    "    fileIN = open(\"bestGWAS.txt\")\n",
    "\n",
    "    fileOUT = open(outfilename, \"w\")\n",
    "\n",
    "    for i in fileIN:\n",
    "        #i = i[0]\n",
    "        \n",
    "        i=i.rstrip().split(\"\\t\")\n",
    "        if len(i)<6: continue\n",
    "        print(i)\n",
    "        varG = str(i[3]) \n",
    "\n",
    "        fileOUT.write(str(varG) + \"_b37\" + \"\\t\" + \"Cancer\"  )\n",
    "\n",
    "    fileOUT.close()\n",
    "    fileIN.close()\n",
    "#prep_real_GWAS(\"bestGWAS_var.txt\")\n",
    "\n",
    "\n",
    "expV2, indivVector2 = EF.get_eqtl_stats_real(chrNum, pos, geneName, tissue, paramDict)  \n",
    "\n",
    "#print(slope)\n",
    "#print(intercept)\n",
    "#print(residuals)\n",
    "print(expV2)\n",
    "\n",
    "def output_gene_info_real(geneName, paramDict, chrNum, pos, tissue):\n",
    "    \n",
    "    fileIN = open(paramDict[\"tmpDir\"] + '/chrname.txt')\n",
    "    selected = list()\n",
    "    for i in fileIN: \n",
    "        i = i.rstrip().split('\\t')\n",
    "        \n",
    "        if i[3]== geneName:\n",
    "            selected = i\n",
    "            break\n",
    "            \n",
    "    return selected\n",
    "\n",
    "  \n",
    "def output_header2_real(indivVector2, geneName, chrNum, pos, tissue): \n",
    "\n",
    "            \n",
    "            \n",
    "    header = \"\\t\".join(['#chr',  'start', 'end' , 'gene' , 'length' , 'strand'] + [str(x) for x in indivVector2] )\n",
    "    return header\n",
    "\n",
    "    fileIN.close()\n",
    "\n",
    "def output_bed_real(indivVector2, expV2, filepath, geneName, paramDict, chrNum, pos, tissue):\n",
    "    selected = output_gene_info_real(geneName, paramDict, chrNum, pos, tissue)\n",
    "    header = output_header2_real(indivVector2, geneName, chrNum, pos, tissue)\n",
    "    with open(filepath, 'w') as outfile:\n",
    "        outfile.write(header + \"\\n\")\n",
    "        geneLocation = selected\n",
    "        outfile.write(\"\\t\".join([str(x) for x in geneLocation]) + \"\\t\" + \"\\t\".join([str(x) for x in expV2]) + \"\\n\")\n",
    "print(geneName)        \n",
    "#output_bed_real(indivVector2, expV2, paramDict[\"tmpSmall\"] + \"/GTExExpfile_realeQTL.bed\", geneName, paramDict, chrNum, pos, tissue)\n",
    "\n",
    "\n",
    "\n",
    "\n",
    "\n",
    "\n",
    "\n",
    "def run_perm_real(paramDict, geneName, chrNum, pos, tissue):\n",
    "    numperm = 1\n",
    "    outlist = list()\n",
    "\n",
    "    for i in range(numperm):\n",
    "      \n",
    "        prep_real_GWAS(\"bestGWAS_var.txt\")\n",
    "        output_bed_real(indivVector2, expV2, paramDict[\"tmpSmall\"] + \"/GTExExpfile_realeQTL.bed\", geneName, paramDict, chrNum, pos, tissue)\n",
    "        prepare_perm_file_real( \"/users/michaelbinkley/desktop/RTCstuffs/tmpSmall/permutations_real.txt\")\n",
    "        os.system(\"bgzip /users/michaelbinkley/desktop/RTCstuffs/tmpsmall/GTExExpfile_realeQTL.bed\")\n",
    "        os.system(\"tabix -p bed /users/michaelbinkley/desktop/RTCstuffs/tmpsmall/GTExExpfile_realeQTL.bed.gz\")\n",
    "\n",
    "\n",
    "\n",
    "        run_real_eQTL()\n",
    "        \n",
    "        fileIN = open('/users/michaelbinkley/desktop/RTCstuffs/rtc_results_realeQTL.txt')\n",
    "        fileIN.readline()\n",
    "        genes = list()\n",
    "        for j in fileIN:\n",
    "            g = j.rstrip().split(\" \")\n",
    "            name = g[19]\n",
    "\n",
    "            #genes.append(name)\n",
    "            outlist.append([geneName, chrNum, pos, tissue, name])\n",
    "            #first = (j[0]) \n",
    "        \n",
    "        fileIN.close()\n",
    "    return outlist\n",
    "    #print((genes))                         \n",
    "    #fileOUT = open(\"RTCperm_H1\" + str(numperm) + \".txt\", \"w\")\n",
    "    #for k in outlist:\n",
    "        #fileOUT.write(k + \"\\n\")       \n",
    "    #fileOUT.close()\n",
    "\n",
    "\n",
    "def prepare_perm_file_real(outfilename):  \n",
    "    fileIN = open('/users/michaelbinkley/desktop/RTCstuffs/tmpsmall/GTExExpfile.bed')\n",
    "    causalvar = open(\"besteQTL_var.txt\")\n",
    "    fileIN.readline()\n",
    "    fileOUT = open(outfilename, \"w\")\n",
    "    for j in causalvar: \n",
    "        j = j.rstrip().split('\\t')\n",
    "        cvar = j[0]\n",
    "    for i in fileIN: \n",
    "        i = i.rstrip().split('\\t')\n",
    "        gene = i[3]\n",
    "        chrn = i[0]\n",
    "        start = i[1]\n",
    "        end = i[2]\n",
    "        dist = i[4]\n",
    "        sense = i[5]\n",
    "        \n",
    "        fileOUT.write(\"\\t\".join([ str(gene), str(chrn),  str(start) , str(end), sense, dist, dist, str(cvar), chrn , 'NA', 'NA', 'NA', 'NA', 'NA', 'NA', 'NA', 'NA', 'NA', 'NA', 'NA' ] ) + \"\\n\")\n",
    "\n",
    "    fileIN.close()\n",
    "    fileOUT.close()\n",
    "\n",
    "    \n",
    "#prepare_perm_file_real( \"/users/michaelbinkley/desktop/RTCstuffs/tmpSmall/permutations_real.txt\")\n",
    "  \n",
    "\n"
   ]
  },
  {
   "cell_type": "code",
   "execution_count": null,
   "metadata": {
    "collapsed": true
   },
   "outputs": [],
   "source": []
  },
  {
   "cell_type": "code",
   "execution_count": null,
   "metadata": {
    "collapsed": true
   },
   "outputs": [],
   "source": []
  },
  {
   "cell_type": "code",
   "execution_count": null,
   "metadata": {
    "collapsed": true
   },
   "outputs": [],
   "source": []
  }
 ],
 "metadata": {
  "kernelspec": {
   "display_name": "Python 3",
   "language": "python",
   "name": "python3"
  },
  "language_info": {
   "codemirror_mode": {
    "name": "ipython",
    "version": 3
   },
   "file_extension": ".py",
   "mimetype": "text/x-python",
   "name": "python",
   "nbconvert_exporter": "python",
   "pygments_lexer": "ipython3",
   "version": "3.5.4"
  }
 },
 "nbformat": 4,
 "nbformat_minor": 1
}
