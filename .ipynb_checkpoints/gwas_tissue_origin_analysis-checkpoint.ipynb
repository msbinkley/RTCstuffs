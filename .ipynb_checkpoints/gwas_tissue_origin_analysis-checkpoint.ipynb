{
 "cells": [
  {
   "cell_type": "code",
   "execution_count": 1,
   "metadata": {},
   "outputs": [],
   "source": [
    "#### REMEMBER TO GIT PULL!  ####\n",
    "\n",
    "#Loading and importing necessary tools. \n",
    "%load_ext autoreload \n",
    "%autoreload 2\n",
    "import sys, os\n",
    "sys.path.append(\"scripts\")\n",
    "import load_params as LP\n",
    "\n",
    "# Comment and uncomment these two lines for when you are working on this notebook. \n",
    "#param_file = \"param_files/ryo_local.csv\"\n",
    "param_file = \"param_files/binkley_local.csv\" \n",
    "\n",
    "paramDict = LP.load_param_file(param_file)"
   ]
  },
  {
   "cell_type": "code",
   "execution_count": 3,
   "metadata": {},
   "outputs": [
    {
     "name": "stdout",
     "output_type": "stream",
     "text": [
      "/Users/michaelbinkley/Desktop/GTEx/\n",
      "/Users/michaelbinkley/Desktop/GTEx/gtex.v7.expression.bed\n"
     ]
    }
   ],
   "source": [
    "import simulation_funcs as SF\n",
    "#import gwas_funcs as GWF\n",
    "#import gtex_funcs as GTF\n",
    "\n",
    "#GTF.get_list_of_strongest_eqtl()\n",
    "#GWF.get_list_of_gwas()\n",
    "\n",
    "#SF.create_coldspot_file()\n",
    "#SF.get_colocalized_coldspot()\n",
    "\n",
    "print(paramDict[\"gtexDir\"])\n",
    "print(paramDict[\"gtexDir\"] + \"gtex.v7.expression.bed\")\n",
    "#print(paramDict[\"tmpDir\"])"
   ]
  },
  {
   "cell_type": "code",
   "execution_count": null,
   "metadata": {},
   "outputs": [],
   "source": []
  }
 ],
 "metadata": {
  "kernelspec": {
   "display_name": "Python 3",
   "language": "python",
   "name": "python3"
  },
  "language_info": {
   "codemirror_mode": {
    "name": "ipython",
    "version": 3
   },
   "file_extension": ".py",
   "mimetype": "text/x-python",
   "name": "python",
   "nbconvert_exporter": "python",
   "pygments_lexer": "ipython3",
   "version": "3.6.3"
  }
 },
 "nbformat": 4,
 "nbformat_minor": 2
}
