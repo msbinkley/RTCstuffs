{
 "cells": [
  {
   "cell_type": "code",
   "execution_count": 1,
   "metadata": {
    "collapsed": true
   },
   "outputs": [],
   "source": [
    "#### REMEMBER TO GIT PULL!  ####\n",
    "#### Add this block to all jupyter files ####\n",
    "\n",
    "#Loading and importing necessary tools. \n",
    "%load_ext autoreload \n",
    "%autoreload 2\n",
    "import sys, os\n",
    "sys.path.append(\"scripts\")\n",
    "import load_params as LP\n",
    "\n",
    "# Comment and uncomment these two lines for when you are working on this notebook. \n",
    "#param_file = \"param_files/ryo_local.csv\"\n",
    "param_file = \"param_files/binkley_local.csv\" \n",
    "\n",
    "paramDict = LP.load_param_file(param_file)"
   ]
  },
  {
   "cell_type": "code",
   "execution_count": 3,
   "metadata": {},
   "outputs": [
    {
     "name": "stdout",
     "output_type": "stream",
     "text": [
      "/Users/michaelbinkley/Desktop/GTEx/\n",
      "/Users/michaelbinkley/Desktop/GTEx/gtex.v7.expression.bed\n"
     ]
    }
   ],
   "source": [
    "import simulation_funcs as SF\n",
    "#import gwas_funcs as GWF\n",
    "#import gtex_funcs as GTF\n",
    "\n",
    "#GTF.get_list_of_strongest_eqtl()\n",
    "#GWF.get_list_of_gwas()\n",
    "\n",
    "#SF.create_coldspot_file()\n",
    "#SF.get_colocalized_coldspot()\n",
    "\n",
    "print(paramDict[\"gtexDir\"])\n",
    "print(paramDict[\"gtexDir\"] + \"gtex.v7.expression.bed\")\n",
    "#print(paramDict[\"tmpDir\"])"
   ]
  },
  {
   "cell_type": "code",
   "execution_count": 1,
   "metadata": {
    "collapsed": true
   },
   "outputs": [],
   "source": [
    "import seaborn as sns\n",
    "import matplotlib as mpl\n",
    "import matplotlib.pyplot as plt\n",
    "%matplotlib inline\n",
    "import scipy\n",
    "from scipy import stats\n",
    "import sys\n",
    "import numpy as np\n",
    "import pandas as pd\n",
    "from pandas import Series,DataFrame\n",
    "import sys\n",
    "import codecs\n",
    " \n",
    "\n",
    "from random import sample\n",
    "\n",
    "import seaborn as sns\n",
    "sns.set_style('whitegrid')\n",
    "\n",
    "# guarantee unicode string\n",
    "_u = lambda t: t.decode('UTF-8', 'replace') if isinstance(t, str) else t\n",
    "_uu = lambda *tt: tuple(_u(t) for t in tt) \n",
    "# guarantee byte string in UTF8 encoding\n",
    "_u8 = lambda t: t.encode('UTF-8', 'replace') if isinstance(t, unicode) else t\n",
    "_uu8 = lambda *tt: tuple(_u8(t) for t in tt) \n",
    "\n"
   ]
  },
  {
   "cell_type": "code",
   "execution_count": 5,
   "metadata": {},
   "outputs": [
    {
     "data": {
      "text/plain": [
       "0"
      ]
     },
     "execution_count": 5,
     "metadata": {},
     "output_type": "execute_result"
    }
   ],
   "source": [
    "import os\n",
    "os.system(\"plink --vcf sample_input/genotypes.vcf.gz\")"
   ]
  },
  {
   "cell_type": "code",
   "execution_count": null,
   "metadata": {},
   "outputs": [],
   "source": []
  }
 ],
 "metadata": {
  "kernelspec": {
   "display_name": "Python 3",
   "language": "python",
   "name": "python3"
  },
  "language_info": {
   "codemirror_mode": {
    "name": "ipython",
    "version": 3
   },
   "file_extension": ".py",
   "mimetype": "text/x-python",
   "name": "python",
   "nbconvert_exporter": "python",
   "pygments_lexer": "ipython3",
   "version": "3.6.3"
  }
 },
 "nbformat": 4,
 "nbformat_minor": 2
}
