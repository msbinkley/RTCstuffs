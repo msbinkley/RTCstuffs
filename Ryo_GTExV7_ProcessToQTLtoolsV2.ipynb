{
 "cells": [
  {
   "cell_type": "code",
   "execution_count": 5,
   "metadata": {
    "collapsed": false
   },
   "outputs": [
    {
     "name": "stdout",
     "output_type": "stream",
     "text": [
      "The autoreload extension is already loaded. To reload it, use:\n",
      "  %reload_ext autoreload\n"
     ]
    }
   ],
   "source": [
    "#### REMEMBER TO GIT PULL!  ####\n",
    "#### Add this block to all jupyter files ####\n",
    "\n",
    "#Loading and importing necessary tools. \n",
    "%load_ext autoreload \n",
    "%autoreload 2\n",
    "import sys, os\n",
    "sys.path.append(\"scripts\")\n",
    "import load_params as LP\n",
    "\n",
    "# Comment and uncomment these two lines for when you are working on this notebook. \n",
    "#param_file = \"param_files/ryo_local.csv\"\n",
    "param_file = \"param_files/binkley_local.csv\" \n",
    "\n",
    "paramDict = LP.load_param_file(param_file)"
   ]
  },
  {
   "cell_type": "code",
   "execution_count": 2,
   "metadata": {
    "collapsed": true
   },
   "outputs": [],
   "source": [
    "import seaborn as sns\n",
    "import matplotlib as mpl\n",
    "import matplotlib.pyplot as plt\n",
    "%matplotlib inline\n",
    "import scipy\n",
    "from scipy import stats\n",
    "import sys\n",
    "import numpy as np\n",
    "import pandas as pd\n",
    "from pandas import Series,DataFrame\n",
    "import sys\n",
    "import codecs\n",
    " \n",
    "\n",
    "from random import sample\n",
    "\n",
    "import seaborn as sns\n",
    "sns.set_style('whitegrid')\n",
    "\n",
    "# guarantee unicode string\n",
    "_u = lambda t: t.decode('UTF-8', 'replace') if isinstance(t, str) else t\n",
    "_uu = lambda *tt: tuple(_u(t) for t in tt) \n",
    "# guarantee byte string in UTF8 encoding\n",
    "_u8 = lambda t: t.encode('UTF-8', 'replace') if isinstance(t, unicode) else t\n",
    "_uu8 = lambda *tt: tuple(_u8(t) for t in tt) \n",
    "\n",
    "\n"
   ]
  },
  {
   "cell_type": "code",
   "execution_count": 3,
   "metadata": {
    "collapsed": true
   },
   "outputs": [],
   "source": [
    "#####This will be the iterative step"
   ]
  },
  {
   "cell_type": "code",
   "execution_count": 4,
   "metadata": {
    "collapsed": true
   },
   "outputs": [],
   "source": [
    "###Leave more blank space"
   ]
  },
  {
   "cell_type": "code",
   "execution_count": 3,
   "metadata": {
    "collapsed": true
   },
   "outputs": [],
   "source": [
    "# import custom functions\n",
    "import deprecated_funcs as DF\n"
   ]
  },
  {
   "cell_type": "code",
   "execution_count": 6,
   "metadata": {
    "collapsed": false
   },
   "outputs": [
    {
     "ename": "NameError",
     "evalue": "name 'paramDict' is not defined",
     "output_type": "error",
     "traceback": [
      "\u001b[0;31m---------------------------------------------------------------------------\u001b[0m",
      "\u001b[0;31mNameError\u001b[0m                                 Traceback (most recent call last)",
      "\u001b[0;32m<ipython-input-6-c836c425f3d3>\u001b[0m in \u001b[0;36m<module>\u001b[0;34m()\u001b[0m\n\u001b[1;32m      1\u001b[0m \u001b[0;31m# Potentially deprecated functions.\u001b[0m\u001b[0;34m\u001b[0m\u001b[0;34m\u001b[0m\u001b[0m\n\u001b[1;32m      2\u001b[0m \u001b[0;34m\u001b[0m\u001b[0m\n\u001b[0;32m----> 3\u001b[0;31m \u001b[0mDF\u001b[0m\u001b[0;34m.\u001b[0m\u001b[0moutput_coldspot\u001b[0m\u001b[0;34m(\u001b[0m\u001b[0;34m'coldspotlist.txt'\u001b[0m\u001b[0;34m)\u001b[0m\u001b[0;34m\u001b[0m\u001b[0m\n\u001b[0m\u001b[1;32m      4\u001b[0m \u001b[0mDF\u001b[0m\u001b[0;34m.\u001b[0m\u001b[0mextract_best_eqtl\u001b[0m\u001b[0;34m(\u001b[0m\u001b[0;34m)\u001b[0m\u001b[0;34m\u001b[0m\u001b[0m\n",
      "\u001b[0;32m/Users/michaelbinkley/Desktop/RTCstuffs/scripts/deprecated_funcs.py\u001b[0m in \u001b[0;36moutput_coldspot\u001b[0;34m(outfilename)\u001b[0m\n\u001b[1;32m      4\u001b[0m     '''\n\u001b[1;32m      5\u001b[0m \u001b[0;34m\u001b[0m\u001b[0m\n\u001b[0;32m----> 6\u001b[0;31m     \u001b[0megene\u001b[0m \u001b[0;34m=\u001b[0m \u001b[0mopen\u001b[0m\u001b[0;34m(\u001b[0m\u001b[0mparamDict\u001b[0m\u001b[0;34m[\u001b[0m\u001b[0;34m\"gtexDir\"\u001b[0m\u001b[0;34m]\u001b[0m \u001b[0;34m+\u001b[0m \u001b[0;34m'/QTLinterest.txt'\u001b[0m\u001b[0;34m)\u001b[0m\u001b[0;34m\u001b[0m\u001b[0m\n\u001b[0m\u001b[1;32m      7\u001b[0m     \u001b[0megene\u001b[0m\u001b[0;34m.\u001b[0m\u001b[0mreadline\u001b[0m\u001b[0;34m(\u001b[0m\u001b[0;34m)\u001b[0m\u001b[0;34m\u001b[0m\u001b[0m\n\u001b[1;32m      8\u001b[0m \u001b[0;34m\u001b[0m\u001b[0m\n",
      "\u001b[0;31mNameError\u001b[0m: name 'paramDict' is not defined"
     ]
    }
   ],
   "source": [
    "# Potentially deprecated functions. \n",
    "\n",
    "DF.output_coldspot('coldspotlist.txt')\n",
    "DF.extract_best_eqtl()"
   ]
  },
  {
   "cell_type": "code",
   "execution_count": 9,
   "metadata": {
    "collapsed": false
   },
   "outputs": [],
   "source": [
    "#### This step outputs the cold spots and returns the list \n",
    "\n",
    "def ID_hotspots(outfilename): \n",
    "    fileIN = open(paramDict[\"gtexDir\"] + 'coldspots.txt')\n",
    "    hotspots = list()\n",
    "    fileOUT = open(outfilename, \"w\")\n",
    "    for i in fileIN: \n",
    "        i = i.rstrip().split('\\t')\n",
    "\n",
    "        \n",
    "        Chr = i[0]\n",
    "        for num in i[0]: #Get rid of \"chr in the file\"\n",
    "            if num in \"chr\":\n",
    "                Chr = Chr.replace(num, '')       \n",
    "        start = int(i[1])\n",
    "        end = int(i[2])\n",
    "        middle = str(i[3])\n",
    "        bound = str (i[4])\n",
    "        hotspots.append([Chr, start, end, middle, bound])\n",
    "        #hotspots.append(start)\n",
    "        #hotspots.append(end)\n",
    "        #hotspots.append(middle)\n",
    "        fileOUT.write(Chr + \"\\t\" + str(start) + \"\\t\" + str(end) + \"\\t\" + str(middle)  +  \"\\t\" + str(bound) + \"\\n\")\n",
    "    fileIN.close()\n",
    "    fileOUT.close()\n",
    "    return hotspots\n",
    "#ID_hotspots('coldspots2.txt')\n",
    "\n"
   ]
  },
  {
   "cell_type": "code",
   "execution_count": 14,
   "metadata": {
    "collapsed": false
   },
   "outputs": [
    {
     "data": {
      "text/plain": [
       "[['22', '40382500', '40525500']]"
      ]
     },
     "execution_count": 14,
     "metadata": {},
     "output_type": "execute_result"
    }
   ],
   "source": [
    "#####OUtputs cold spot for given eqtl\n",
    "def find_variant_coldspot(outfilename):\n",
    "    fileIN = open( \"besteQTLs.txt\" )\n",
    "    \n",
    "    fileOUT = open(outfilename, \"w\")\n",
    "    hspots = ID_hotspots('coldspots2.txt')\n",
    "\n",
    "\n",
    "\n",
    "    for i in fileIN:\n",
    "        \n",
    "        i = i.rstrip().split('\\t')\n",
    "        gene = str(i[0])\n",
    "        chrnum = str(i[1])\n",
    "        snp = (i[3])\n",
    "        position = float(i[2])\n",
    "        pvalue = float(i[4])\n",
    "        \n",
    "        for  Chr, start, (end), middle, (bound) in hspots:\n",
    "            if Chr  != chrnum :\n",
    "                continue\n",
    "            else: \n",
    "                if position < float(bound) and position > float(end): \n",
    "                    #distance = abs(position - middle)\n",
    "                    fileOUT.write(\"\\t\".join([ str(Chr), str(start), str(end), str(middle), str(bound) , gene, snp, str(position), str(pvalue)] ) + \"\\n\")\n",
    "                else: \n",
    "                    continue\n",
    "    fileIN.close()\n",
    "    fileOUT.close()\n",
    "\n",
    "find_variant_coldspot('eQTLcoldspot.txt')\n",
    "\n",
    "#### This step can probably be truncated \n",
    "def output_selected_coldspots(outfilename):\n",
    "    fileIN = open ('eQTLcoldspot.txt')\n",
    "    fileOUT = open(outfilename, \"w\")\n",
    "    selectedcoldspots = list()\n",
    "    \n",
    "    for i in fileIN:\n",
    "        \n",
    "        i = i.rstrip().split('\\t')\n",
    "        Chr = str(i[0])\n",
    "        end = str(i[2])\n",
    "        bound = str(i[4])\n",
    "        \n",
    "    \n",
    "\n",
    "        fileOUT.write(\"\\t\".join([ str(Chr),  str(end),  str(bound)] ) + \"\\n\")\n",
    "        selectedcoldspots.append([ str(Chr),  str(end),  str(bound)])                    \n",
    "    \n",
    "    fileIN.close()\n",
    "    fileOUT.close()\n",
    "    return selectedcoldspots\n",
    "output_selected_coldspots('selectedcoldspots.txt')\n",
    "\n",
    "\n"
   ]
  },
  {
   "cell_type": "code",
   "execution_count": 15,
   "metadata": {
    "collapsed": false
   },
   "outputs": [],
   "source": [
    "###THis outputs a file with GWAS variants in our cold spots of interest that colocalize\n",
    "def find_variant_coldspot(outfilename):\n",
    "    fileIN = open(paramDict[\"gtexDir\"] +'/oncoarray_bcac_public_release_oct17.txt')\n",
    "    fileIN.readline()\n",
    "    fileOUT = open(outfilename, \"w\")\n",
    "\n",
    "\n",
    "    cspots = output_selected_coldspots('selectedcoldspots.txt')\n",
    "\n",
    "    for i in fileIN:\n",
    "        \n",
    "        i = i.rstrip().split('\\t')\n",
    "        gene = str(i[0])\n",
    "        chrnum = str(i[2])\n",
    "        #snp = (i[3])\n",
    "        position = float(i[3])\n",
    "        pvalue = float(i[9])\n",
    "        if pvalue<10e-9:\n",
    "            for  (Chr), (end), (bound) in cspots:\n",
    "                if Chr  != chrnum:\n",
    "                    continue\n",
    "                else: \n",
    "                    if position < float(bound) and position > float(end): \n",
    "                    #distance = abs(position - middle)\n",
    "                        fileOUT.write(\"\\t\".join([ str(Chr), str(end),  str(bound) , gene, str(position), str(pvalue)] ) + \"\\n\")\n",
    "                    else: \n",
    "                        continue\n",
    "    fileIN.close()\n",
    "    fileOUT.close()\n",
    "find_variant_coldspot(\"gwasColdSpot.txt\")\n",
    "\n"
   ]
  },
  {
   "cell_type": "code",
   "execution_count": 16,
   "metadata": {
    "collapsed": false
   },
   "outputs": [
    {
     "data": {
      "text/plain": [
       "[['22', 40382500.0, 40525500.0]]"
      ]
     },
     "execution_count": 16,
     "metadata": {},
     "output_type": "execute_result"
    }
   ],
   "source": [
    "#####This step outputs the selected cold spot\n",
    "def output_selected_coldspots(outfilename):\n",
    "    fileIN = open ('selectedcoldspots.txt')\n",
    "    fileOUT = open(outfilename, \"w\")\n",
    "    selectedcoldspots2 = list()\n",
    "    \n",
    "    for i in fileIN:\n",
    "        \n",
    "        i = i.rstrip().split('\\t')\n",
    "        Chr = str(i[0])\n",
    "        end = float(i[1])\n",
    "        bound = float(i[2])\n",
    "        selectedcoldspots2.append([ (Chr),  (end),  (bound)])              \n",
    "    \n",
    "\n",
    "        fileOUT.write(\"\\t\".join([ str(Chr),  str(end),  str(bound)] ) + \"\\n\")\n",
    "              \n",
    "    \n",
    "    fileIN.close()\n",
    "    fileOUT.close()\n",
    "    return selectedcoldspots2\n",
    "output_selected_coldspots('preVCF.txt')\n",
    "\n"
   ]
  },
  {
   "cell_type": "code",
   "execution_count": 34,
   "metadata": {
    "collapsed": true
   },
   "outputs": [],
   "source": [
    "#####This step has many readlines, it outputs all variants in the cold spot\n",
    "\n",
    "def filter_vcf(outfilename): \n",
    "    fileIN = open(paramDict[\"gtexDir\"] +'/chr22_subset_gtex.vcf')\n",
    "    \n",
    "    selectedcoldspots2 = output_selected_coldspots('preVCF.txt')\n",
    "    fileOUT = open(outfilename, \"w\")\n",
    "    \n",
    "    for i in fileIN:\n",
    "        line= fileIN.readline()\n",
    "        if line[0]==\"#\":\n",
    "            continue\n",
    "\n",
    "        i = i.rstrip().split('\\t')\n",
    "        \n",
    "        chrnum = str(i[0])\n",
    "        position = float(i[1])\n",
    "\n",
    "\n",
    "        for  Chr, end, bound in selectedcoldspots2:\n",
    "            if (Chr)  == chrnum:\n",
    "                if position > end  and position < bound:  \n",
    "\n",
    "                    fileOUT.write(\"\\t\".join([str(x) for x in i] ) + \"\\n\")                    \n",
    "                else: \n",
    "                    continue\n",
    "      \n",
    "    fileIN.close()\n",
    "    fileOUT.close()\n",
    "filter_vcf('filteredgenotype.txt')\n",
    "\n"
   ]
  },
  {
   "cell_type": "code",
   "execution_count": 10,
   "metadata": {
    "collapsed": false
   },
   "outputs": [],
   "source": [
    "######This step randomly picks an eQTL in the coldspot and the position\n",
    "\n",
    "def select_rand_variant(outfilename, paramDict): \n",
    "    fileIN = open('filteredgenotype.txt')\n",
    "    fileOUT = open(outfilename, \"w\")\n",
    "    rnd = list()\n",
    "    for i in fileIN:\n",
    "\n",
    "        i = i.rstrip().split('\\t')\n",
    "        rnd.append(i[2])\n",
    "\n",
    "    rand = sample(rnd[0:],1)\n",
    "\n",
    "    for i in rand:\n",
    "        fileOUT.write(\"\\t\".join([str(x) for x in rand] ) +  \"\\n\")\n",
    "\n",
    "    fileOUT.close()\n",
    "    fileIN.close()\n",
    "    return rand\n",
    "select_rand_variant(paramDict[\"gtexDir\"] + \"eQTLcausal.txt\", paramDict)\n",
    "\n",
    "def output_pos_rand_variant(outfilename, paramDict): \n",
    "    fileIN = open('filteredgenotype.txt')\n",
    "    fileOUT = open(outfilename, \"w\")\n",
    "    sand = open(paramDict[\"gtexDir\"] +  'eQTLcausal.txt')\n",
    "    for i in sand: \n",
    "        i = i.rstrip().split('\\t') \n",
    "        rand = str(i[0])\n",
    "\n",
    "    for j in fileIN: \n",
    "        j = j.rstrip().split('\\t')\n",
    "        SNP = str(j[2])\n",
    "        random = str(rand)\n",
    "\n",
    "        if SNP == random: \n",
    "\n",
    "            fileOUT.write(str(j[1]) + \"\\n\")\n",
    "            break\n",
    "    fileOUT.close()\n",
    "    fileIN.close()\n",
    "output_pos_rand_variant(paramDict[\"gtexDir\"] + \"eQTLcausalpos.txt\", paramDict)    "
   ]
  },
  {
   "cell_type": "code",
   "execution_count": 11,
   "metadata": {
    "collapsed": false
   },
   "outputs": [],
   "source": [
    "#####This step randomly picks a GWAScausal in the coldspot\n",
    "\n",
    "def select_rand_variant(outfilename): \n",
    "    fileIN = open('filteredgenotype.txt')\n",
    "    fileOUT = open(outfilename, \"w\")\n",
    "    rnd = list()\n",
    "    for i in fileIN:\n",
    "\n",
    "        i = i.rstrip().split('\\t')\n",
    "        rnd.append(i[2])\n",
    "    rand = sample(rnd[0:],1)\n",
    "\n",
    "    for i in rand:\n",
    "        fileOUT.write(\"\\t\".join([str(x) for x in rand] ) +  \"\\n\")\n",
    "    fileOUT.close()\n",
    "    fileIN.close()\n",
    "select_rand_variant(paramDict[\"gtexDir\"] + \"GWAScausal.txt\")\n",
    "\n",
    "def output_pos_rand_variant(outfilename, paramDict): \n",
    "    fileIN = open('filteredgenotype.txt')\n",
    "    fileOUT = open(outfilename, \"w\")\n",
    "    sand = open(paramDict[\"gtexDir\"] +  'GWAScausal.txt')\n",
    "    for i in sand: \n",
    "        i = i.rstrip().split('\\t') \n",
    "        rand = str(i[0])\n",
    "\n",
    "    for j in fileIN: \n",
    "        j = j.rstrip().split('\\t')\n",
    "        SNP = str(j[2])\n",
    "        random = str(rand)\n",
    "\n",
    "        if SNP == random: \n",
    "\n",
    "            fileOUT.write(str(j[1]) + \"\\n\")\n",
    "            break\n",
    "    fileOUT.close()\n",
    "    fileIN.close()\n",
    "output_pos_rand_variant(paramDict[\"gtexDir\"] + \"GWAScausalpos.txt\", paramDict)    \n"
   ]
  },
  {
   "cell_type": "code",
   "execution_count": 12,
   "metadata": {
    "collapsed": false
   },
   "outputs": [
    {
     "data": {
      "text/plain": [
       "512"
      ]
     },
     "execution_count": 12,
     "metadata": {},
     "output_type": "execute_result"
    }
   ],
   "source": [
    "import os\n",
    "\n",
    "os.system(\"plink --vcf chr22_subset_gtex.vcf --show-tags eQTLcausal.txt --tag-r2 0.5\")"
   ]
  },
  {
   "cell_type": "code",
   "execution_count": 13,
   "metadata": {
    "collapsed": false
   },
   "outputs": [
    {
     "data": {
      "text/plain": [
       "512"
      ]
     },
     "execution_count": 13,
     "metadata": {},
     "output_type": "execute_result"
    }
   ],
   "source": [
    "import os\n",
    "\n",
    "os.system(\"plink --vcf chr22_subset_gtex.vcf --show-tags GWAScausal.txt --tag-r2 0.5\")"
   ]
  },
  {
   "cell_type": "code",
   "execution_count": 14,
   "metadata": {
    "collapsed": true
   },
   "outputs": [],
   "source": [
    "### This will be the GWAS to run the RTC score \n",
    "def select_rand_variant(outfilename): \n",
    "    fileIN = open(paramDict[\"gtexDir\"] +  '/plink.tags')\n",
    "    fileOUT = open(outfilename, \"w\")\n",
    "    rnd = list()\n",
    "    for i in fileIN:\n",
    "\n",
    "        i = i.rstrip().split('\\t')\n",
    "        rnd.append(i[0])\n",
    "    rand = sample(rnd[0:],1)\n",
    "\n",
    "    for i in rand:\n",
    "        fileOUT.write(\"\\t\".join([str(x) for x in rand] ) +  \"\\n\")\n",
    "    fileOUT.close()\n",
    "    fileIN.close()\n",
    "select_rand_variant(paramDict[\"gtexDir\"] + \"linkedGWAS.txt\")\n",
    "\n",
    "def output_pos_rand_variant(outfilename, paramDict): \n",
    "    fileIN = open('filteredgenotype.txt')\n",
    "    fileOUT = open(outfilename, \"w\")\n",
    "    sand = open(paramDict[\"gtexDir\"] +  'linkedGWAS.txt')\n",
    "    for i in sand: \n",
    "        i = i.rstrip().split('\\t') \n",
    "        rand = str(i[0])\n",
    "\n",
    "    for j in fileIN: \n",
    "        j = j.rstrip().split('\\t')\n",
    "        SNP = str(j[2])\n",
    "        random = str(rand)\n",
    "\n",
    "        if SNP == random: \n",
    "\n",
    "            fileOUT.write(str(j[1]) + \"\\n\")\n",
    "            break\n",
    "    fileOUT.close()\n",
    "    fileIN.close()\n",
    "output_pos_rand_variant(paramDict[\"gtexDir\"] + \"linkedGWASpos.txt\", paramDict)    \n",
    "\n"
   ]
  },
  {
   "cell_type": "code",
   "execution_count": 15,
   "metadata": {
    "collapsed": true
   },
   "outputs": [],
   "source": [
    "###This will be the eQTL to run the RTC score \n",
    "def select_rand_variant(outfilename): \n",
    "    fileIN = open(paramDict[\"gtexDir\"] +  '/plink.tags')\n",
    "    fileOUT = open(outfilename, \"w\")\n",
    "    rnd = list()\n",
    "    for i in fileIN:\n",
    "\n",
    "        i = i.rstrip().split('\\t')\n",
    "        rnd.append(i[0])\n",
    "    rand = sample(rnd[0:],1)\n",
    "\n",
    "    for i in rand:\n",
    "        fileOUT.write(\"\\t\".join([str(x) for x in rand] ) +  \"\\n\")\n",
    "    fileOUT.close()\n",
    "    fileIN.close()\n",
    "select_rand_variant(paramDict[\"gtexDir\"] + \"linkedeQTL.txt\")\n",
    "\n",
    "def output_pos_rand_variant(outfilename, paramDict): \n",
    "    fileIN = open('filteredgenotype.txt')\n",
    "    fileOUT = open(outfilename, \"w\")\n",
    "    sand = open(paramDict[\"gtexDir\"] +  'linkedeQTL.txt')\n",
    "    for i in sand: \n",
    "        i = i.rstrip().split('\\t') \n",
    "        rand = str(i[0])\n",
    "\n",
    "    for j in fileIN: \n",
    "        j = j.rstrip().split('\\t')\n",
    "        SNP = str(j[2])\n",
    "        random = str(rand)\n",
    "\n",
    "        if SNP == random: \n",
    "\n",
    "            fileOUT.write(str(j[1]) + \"\\n\")\n",
    "            break\n",
    "    fileOUT.close()\n",
    "    fileIN.close()\n",
    "output_pos_rand_variant(paramDict[\"gtexDir\"] + \"linkedeQTLpos.txt\", paramDict)    "
   ]
  },
  {
   "cell_type": "code",
   "execution_count": 22,
   "metadata": {
    "collapsed": false
   },
   "outputs": [
    {
     "name": "stdout",
     "output_type": "stream",
     "text": [
      "\tGetting dosage vector for : 22 40051275 /Users/michaelbinkley/Desktop/GTEx/\n",
      "\tGetting header\n"
     ]
    },
    {
     "ename": "TypeError",
     "evalue": "cannot perform reduce with flexible type",
     "output_type": "error",
     "traceback": [
      "\u001b[0;31m---------------------------------------------------------------------------\u001b[0m",
      "\u001b[0;31mTypeError\u001b[0m                                 Traceback (most recent call last)",
      "\u001b[0;32m<ipython-input-22-e6a0b818666d>\u001b[0m in \u001b[0;36m<module>\u001b[0;34m()\u001b[0m\n\u001b[1;32m      9\u001b[0m \u001b[0;34m\u001b[0m\u001b[0m\n\u001b[1;32m     10\u001b[0m \u001b[0;34m\u001b[0m\u001b[0m\n\u001b[0;32m---> 11\u001b[0;31m \u001b[0mslope\u001b[0m\u001b[0;34m,\u001b[0m \u001b[0mintercept\u001b[0m\u001b[0;34m,\u001b[0m  \u001b[0mresiduals\u001b[0m \u001b[0;34m=\u001b[0m \u001b[0mEF\u001b[0m\u001b[0;34m.\u001b[0m\u001b[0mget_eqtl_stats\u001b[0m\u001b[0;34m(\u001b[0m\u001b[0mchrNum\u001b[0m\u001b[0;34m,\u001b[0m \u001b[0mpos\u001b[0m\u001b[0;34m,\u001b[0m \u001b[0mgeneName\u001b[0m\u001b[0;34m,\u001b[0m \u001b[0mtissue\u001b[0m\u001b[0;34m,\u001b[0m \u001b[0mparamDict\u001b[0m\u001b[0;34m)\u001b[0m\u001b[0;34m\u001b[0m\u001b[0m\n\u001b[0m\u001b[1;32m     12\u001b[0m \u001b[0;34m\u001b[0m\u001b[0m\n\u001b[1;32m     13\u001b[0m \u001b[0mprint\u001b[0m\u001b[0;34m(\u001b[0m\u001b[0mslope\u001b[0m\u001b[0;34m)\u001b[0m\u001b[0;34m\u001b[0m\u001b[0m\n",
      "\u001b[0;32m/Users/michaelbinkley/Desktop/RTCstuffs/scripts/eqtl_funcs.py\u001b[0m in \u001b[0;36mget_eqtl_stats\u001b[0;34m(chrNum, pos, geneName, tissue, paramDict)\u001b[0m\n\u001b[1;32m     23\u001b[0m     \u001b[0mgenoVector\u001b[0m \u001b[0;34m=\u001b[0m \u001b[0mGF\u001b[0m\u001b[0;34m.\u001b[0m\u001b[0mfilter_and_sort_genotype_vector\u001b[0m\u001b[0;34m(\u001b[0m\u001b[0mgenoVector\u001b[0m\u001b[0;34m,\u001b[0m \u001b[0mindivGenoVector\u001b[0m\u001b[0;34m,\u001b[0m \u001b[0mindivExpVector\u001b[0m\u001b[0;34m)\u001b[0m\u001b[0;34m\u001b[0m\u001b[0m\n\u001b[1;32m     24\u001b[0m \u001b[0;34m\u001b[0m\u001b[0m\n\u001b[0;32m---> 25\u001b[0;31m     \u001b[0mresults\u001b[0m \u001b[0;34m=\u001b[0m \u001b[0mscipy\u001b[0m\u001b[0;34m.\u001b[0m\u001b[0mstats\u001b[0m\u001b[0;34m.\u001b[0m\u001b[0mlinregress\u001b[0m\u001b[0;34m(\u001b[0m\u001b[0mgenoVector\u001b[0m\u001b[0;34m,\u001b[0m\u001b[0mexpVector\u001b[0m\u001b[0;34m)\u001b[0m\u001b[0;34m\u001b[0m\u001b[0m\n\u001b[0m\u001b[1;32m     26\u001b[0m     \u001b[0mresiduals\u001b[0m \u001b[0;34m=\u001b[0m \u001b[0mOF\u001b[0m\u001b[0;34m.\u001b[0m\u001b[0mcalculate_residuals\u001b[0m\u001b[0;34m(\u001b[0m\u001b[0mgenoVector\u001b[0m\u001b[0;34m,\u001b[0m \u001b[0mexpVector\u001b[0m\u001b[0;34m,\u001b[0m \u001b[0mresults\u001b[0m\u001b[0;34m.\u001b[0m\u001b[0mslope\u001b[0m\u001b[0;34m,\u001b[0m \u001b[0mresults\u001b[0m\u001b[0;34m.\u001b[0m\u001b[0mintercept\u001b[0m\u001b[0;34m)\u001b[0m\u001b[0;34m\u001b[0m\u001b[0m\n\u001b[1;32m     27\u001b[0m \u001b[0;34m\u001b[0m\u001b[0m\n",
      "\u001b[0;32m/Users/michaelbinkley/anaconda/lib/python3.5/site-packages/scipy/stats/_stats_mstats_common.py\u001b[0m in \u001b[0;36mlinregress\u001b[0;34m(x, y)\u001b[0m\n\u001b[1;32m     73\u001b[0m \u001b[0;34m\u001b[0m\u001b[0m\n\u001b[1;32m     74\u001b[0m     \u001b[0mn\u001b[0m \u001b[0;34m=\u001b[0m \u001b[0mlen\u001b[0m\u001b[0;34m(\u001b[0m\u001b[0mx\u001b[0m\u001b[0;34m)\u001b[0m\u001b[0;34m\u001b[0m\u001b[0m\n\u001b[0;32m---> 75\u001b[0;31m     \u001b[0mxmean\u001b[0m \u001b[0;34m=\u001b[0m \u001b[0mnp\u001b[0m\u001b[0;34m.\u001b[0m\u001b[0mmean\u001b[0m\u001b[0;34m(\u001b[0m\u001b[0mx\u001b[0m\u001b[0;34m,\u001b[0m \u001b[0;32mNone\u001b[0m\u001b[0;34m)\u001b[0m\u001b[0;34m\u001b[0m\u001b[0m\n\u001b[0m\u001b[1;32m     76\u001b[0m     \u001b[0mymean\u001b[0m \u001b[0;34m=\u001b[0m \u001b[0mnp\u001b[0m\u001b[0;34m.\u001b[0m\u001b[0mmean\u001b[0m\u001b[0;34m(\u001b[0m\u001b[0my\u001b[0m\u001b[0;34m,\u001b[0m \u001b[0;32mNone\u001b[0m\u001b[0;34m)\u001b[0m\u001b[0;34m\u001b[0m\u001b[0m\n\u001b[1;32m     77\u001b[0m \u001b[0;34m\u001b[0m\u001b[0m\n",
      "\u001b[0;32m/Users/michaelbinkley/anaconda/lib/python3.5/site-packages/numpy/core/fromnumeric.py\u001b[0m in \u001b[0;36mmean\u001b[0;34m(a, axis, dtype, out, keepdims)\u001b[0m\n\u001b[1;32m   2876\u001b[0m \u001b[0;34m\u001b[0m\u001b[0m\n\u001b[1;32m   2877\u001b[0m     return _methods._mean(a, axis=axis, dtype=dtype,\n\u001b[0;32m-> 2878\u001b[0;31m                           out=out, keepdims=keepdims)\n\u001b[0m\u001b[1;32m   2879\u001b[0m \u001b[0;34m\u001b[0m\u001b[0m\n\u001b[1;32m   2880\u001b[0m \u001b[0;34m\u001b[0m\u001b[0m\n",
      "\u001b[0;32m/Users/michaelbinkley/anaconda/lib/python3.5/site-packages/numpy/core/_methods.py\u001b[0m in \u001b[0;36m_mean\u001b[0;34m(a, axis, dtype, out, keepdims)\u001b[0m\n\u001b[1;32m     63\u001b[0m         \u001b[0mdtype\u001b[0m \u001b[0;34m=\u001b[0m \u001b[0mmu\u001b[0m\u001b[0;34m.\u001b[0m\u001b[0mdtype\u001b[0m\u001b[0;34m(\u001b[0m\u001b[0;34m'f8'\u001b[0m\u001b[0;34m)\u001b[0m\u001b[0;34m\u001b[0m\u001b[0m\n\u001b[1;32m     64\u001b[0m \u001b[0;34m\u001b[0m\u001b[0m\n\u001b[0;32m---> 65\u001b[0;31m     \u001b[0mret\u001b[0m \u001b[0;34m=\u001b[0m \u001b[0mumr_sum\u001b[0m\u001b[0;34m(\u001b[0m\u001b[0marr\u001b[0m\u001b[0;34m,\u001b[0m \u001b[0maxis\u001b[0m\u001b[0;34m,\u001b[0m \u001b[0mdtype\u001b[0m\u001b[0;34m,\u001b[0m \u001b[0mout\u001b[0m\u001b[0;34m,\u001b[0m \u001b[0mkeepdims\u001b[0m\u001b[0;34m)\u001b[0m\u001b[0;34m\u001b[0m\u001b[0m\n\u001b[0m\u001b[1;32m     66\u001b[0m     \u001b[0;32mif\u001b[0m \u001b[0misinstance\u001b[0m\u001b[0;34m(\u001b[0m\u001b[0mret\u001b[0m\u001b[0;34m,\u001b[0m \u001b[0mmu\u001b[0m\u001b[0;34m.\u001b[0m\u001b[0mndarray\u001b[0m\u001b[0;34m)\u001b[0m\u001b[0;34m:\u001b[0m\u001b[0;34m\u001b[0m\u001b[0m\n\u001b[1;32m     67\u001b[0m         ret = um.true_divide(\n",
      "\u001b[0;31mTypeError\u001b[0m: cannot perform reduce with flexible type"
     ]
    }
   ],
   "source": [
    "### RUn this for the real eQTL\n",
    "import load_params as LP\n",
    "import eqtl_funcs as EF\n",
    "\n",
    "geneName = \"ENSG00000230415.1\"\n",
    "chrNum = \"22\"\n",
    "pos = \"40051275\"\n",
    "tissue = \"Breast_Mammary_Tissue\"\n",
    "\n",
    "\n",
    "slope, intercept,  residuals = EF.get_eqtl_stats(chrNum, pos, geneName, tissue, paramDict)  \n",
    "\n",
    "print(slope)\n",
    "print(intercept)\n",
    "print(residuals)\n",
    "\n"
   ]
  },
  {
   "cell_type": "code",
   "execution_count": 21,
   "metadata": {
    "collapsed": true
   },
   "outputs": [],
   "source": [
    "\n",
    "\n",
    "def calculate_pp(slope_r, intercept, residuals, chrNum, pos, indivVector, paramDict):\n",
    "    '''\n",
    "    Calculates pseudophenotype for SNP at chrnum and pos, given slope,intersect, residuals. \n",
    "    IndivVector - ensures that the we are using the same individuals for this calculation as when the slope, intercept, and residuals were calculated.\n",
    "    \n",
    "    '''\n",
    "    permutedResiduals = random.sample(list(residuals), len(residuals))\n",
    "    genoVector, indivGenoVector = GF.get_dos_vector(chrNum, pos, paramDict[\"vcfDir\"])\n",
    "    filteredGenoVector, indivVector = GF.filter_and_sort_genotype_vector(genoVector, indivGenoVector, indivVector)\n",
    "    pp = float(slope_r)*np.array(filteredGenoVector) + permutedResiduals + intercept   \n",
    "    return pp\n",
    "\n"
   ]
  },
  {
   "cell_type": "code",
   "execution_count": 23,
   "metadata": {
    "collapsed": false
   },
   "outputs": [
    {
     "name": "stdout",
     "output_type": "stream",
     "text": [
      "\tGetting dosage vector for : 22 40051275 /Users/michaelbinkley/Desktop/GTEx/\n",
      "\tGetting header\n"
     ]
    },
    {
     "ename": "TypeError",
     "evalue": "cannot perform reduce with flexible type",
     "output_type": "error",
     "traceback": [
      "\u001b[0;31m---------------------------------------------------------------------------\u001b[0m",
      "\u001b[0;31mTypeError\u001b[0m                                 Traceback (most recent call last)",
      "\u001b[0;32m<ipython-input-23-86fc883fdf4b>\u001b[0m in \u001b[0;36m<module>\u001b[0;34m()\u001b[0m\n\u001b[1;32m     14\u001b[0m \u001b[0;34m\u001b[0m\u001b[0m\n\u001b[1;32m     15\u001b[0m \u001b[0;34m\u001b[0m\u001b[0m\n\u001b[0;32m---> 16\u001b[0;31m \u001b[0mslope_r\u001b[0m\u001b[0;34m,\u001b[0m \u001b[0mintercept\u001b[0m\u001b[0;34m,\u001b[0m  \u001b[0mresiduals\u001b[0m\u001b[0;34m,\u001b[0m \u001b[0mindivVector\u001b[0m \u001b[0;34m=\u001b[0m \u001b[0mEF\u001b[0m\u001b[0;34m.\u001b[0m\u001b[0mget_eqtl_stats\u001b[0m\u001b[0;34m(\u001b[0m\u001b[0mchrNum\u001b[0m\u001b[0;34m,\u001b[0m \u001b[0mpos\u001b[0m\u001b[0;34m,\u001b[0m \u001b[0mgeneName\u001b[0m\u001b[0;34m,\u001b[0m \u001b[0mtissue\u001b[0m\u001b[0;34m,\u001b[0m \u001b[0mparamDict\u001b[0m\u001b[0;34m)\u001b[0m\u001b[0;34m\u001b[0m\u001b[0m\n\u001b[0m\u001b[1;32m     17\u001b[0m \u001b[0;34m\u001b[0m\u001b[0m\n\u001b[1;32m     18\u001b[0m \u001b[0mchrNumLinked\u001b[0m \u001b[0;34m=\u001b[0m \u001b[0;34m\"22\"\u001b[0m\u001b[0;34m\u001b[0m\u001b[0m\n",
      "\u001b[0;32m/Users/michaelbinkley/Desktop/RTCstuffs/scripts/eqtl_funcs.py\u001b[0m in \u001b[0;36mget_eqtl_stats\u001b[0;34m(chrNum, pos, geneName, tissue, paramDict)\u001b[0m\n\u001b[1;32m     23\u001b[0m     \u001b[0mgenoVector\u001b[0m \u001b[0;34m=\u001b[0m \u001b[0mGF\u001b[0m\u001b[0;34m.\u001b[0m\u001b[0mfilter_and_sort_genotype_vector\u001b[0m\u001b[0;34m(\u001b[0m\u001b[0mgenoVector\u001b[0m\u001b[0;34m,\u001b[0m \u001b[0mindivGenoVector\u001b[0m\u001b[0;34m,\u001b[0m \u001b[0mindivExpVector\u001b[0m\u001b[0;34m)\u001b[0m\u001b[0;34m\u001b[0m\u001b[0m\n\u001b[1;32m     24\u001b[0m \u001b[0;34m\u001b[0m\u001b[0m\n\u001b[0;32m---> 25\u001b[0;31m     \u001b[0mresults\u001b[0m \u001b[0;34m=\u001b[0m \u001b[0mscipy\u001b[0m\u001b[0;34m.\u001b[0m\u001b[0mstats\u001b[0m\u001b[0;34m.\u001b[0m\u001b[0mlinregress\u001b[0m\u001b[0;34m(\u001b[0m\u001b[0mgenoVector\u001b[0m\u001b[0;34m,\u001b[0m\u001b[0mexpVector\u001b[0m\u001b[0;34m)\u001b[0m\u001b[0;34m\u001b[0m\u001b[0m\n\u001b[0m\u001b[1;32m     26\u001b[0m     \u001b[0mresiduals\u001b[0m \u001b[0;34m=\u001b[0m \u001b[0mOF\u001b[0m\u001b[0;34m.\u001b[0m\u001b[0mcalculate_residuals\u001b[0m\u001b[0;34m(\u001b[0m\u001b[0mgenoVector\u001b[0m\u001b[0;34m,\u001b[0m \u001b[0mexpVector\u001b[0m\u001b[0;34m,\u001b[0m \u001b[0mresults\u001b[0m\u001b[0;34m.\u001b[0m\u001b[0mslope\u001b[0m\u001b[0;34m,\u001b[0m \u001b[0mresults\u001b[0m\u001b[0;34m.\u001b[0m\u001b[0mintercept\u001b[0m\u001b[0;34m)\u001b[0m\u001b[0;34m\u001b[0m\u001b[0m\n\u001b[1;32m     27\u001b[0m \u001b[0;34m\u001b[0m\u001b[0m\n",
      "\u001b[0;32m/Users/michaelbinkley/anaconda/lib/python3.5/site-packages/scipy/stats/_stats_mstats_common.py\u001b[0m in \u001b[0;36mlinregress\u001b[0;34m(x, y)\u001b[0m\n\u001b[1;32m     73\u001b[0m \u001b[0;34m\u001b[0m\u001b[0m\n\u001b[1;32m     74\u001b[0m     \u001b[0mn\u001b[0m \u001b[0;34m=\u001b[0m \u001b[0mlen\u001b[0m\u001b[0;34m(\u001b[0m\u001b[0mx\u001b[0m\u001b[0;34m)\u001b[0m\u001b[0;34m\u001b[0m\u001b[0m\n\u001b[0;32m---> 75\u001b[0;31m     \u001b[0mxmean\u001b[0m \u001b[0;34m=\u001b[0m \u001b[0mnp\u001b[0m\u001b[0;34m.\u001b[0m\u001b[0mmean\u001b[0m\u001b[0;34m(\u001b[0m\u001b[0mx\u001b[0m\u001b[0;34m,\u001b[0m \u001b[0;32mNone\u001b[0m\u001b[0;34m)\u001b[0m\u001b[0;34m\u001b[0m\u001b[0m\n\u001b[0m\u001b[1;32m     76\u001b[0m     \u001b[0mymean\u001b[0m \u001b[0;34m=\u001b[0m \u001b[0mnp\u001b[0m\u001b[0;34m.\u001b[0m\u001b[0mmean\u001b[0m\u001b[0;34m(\u001b[0m\u001b[0my\u001b[0m\u001b[0;34m,\u001b[0m \u001b[0;32mNone\u001b[0m\u001b[0;34m)\u001b[0m\u001b[0;34m\u001b[0m\u001b[0m\n\u001b[1;32m     77\u001b[0m \u001b[0;34m\u001b[0m\u001b[0m\n",
      "\u001b[0;32m/Users/michaelbinkley/anaconda/lib/python3.5/site-packages/numpy/core/fromnumeric.py\u001b[0m in \u001b[0;36mmean\u001b[0;34m(a, axis, dtype, out, keepdims)\u001b[0m\n\u001b[1;32m   2876\u001b[0m \u001b[0;34m\u001b[0m\u001b[0m\n\u001b[1;32m   2877\u001b[0m     return _methods._mean(a, axis=axis, dtype=dtype,\n\u001b[0;32m-> 2878\u001b[0;31m                           out=out, keepdims=keepdims)\n\u001b[0m\u001b[1;32m   2879\u001b[0m \u001b[0;34m\u001b[0m\u001b[0m\n\u001b[1;32m   2880\u001b[0m \u001b[0;34m\u001b[0m\u001b[0m\n",
      "\u001b[0;32m/Users/michaelbinkley/anaconda/lib/python3.5/site-packages/numpy/core/_methods.py\u001b[0m in \u001b[0;36m_mean\u001b[0;34m(a, axis, dtype, out, keepdims)\u001b[0m\n\u001b[1;32m     63\u001b[0m         \u001b[0mdtype\u001b[0m \u001b[0;34m=\u001b[0m \u001b[0mmu\u001b[0m\u001b[0;34m.\u001b[0m\u001b[0mdtype\u001b[0m\u001b[0;34m(\u001b[0m\u001b[0;34m'f8'\u001b[0m\u001b[0;34m)\u001b[0m\u001b[0;34m\u001b[0m\u001b[0m\n\u001b[1;32m     64\u001b[0m \u001b[0;34m\u001b[0m\u001b[0m\n\u001b[0;32m---> 65\u001b[0;31m     \u001b[0mret\u001b[0m \u001b[0;34m=\u001b[0m \u001b[0mumr_sum\u001b[0m\u001b[0;34m(\u001b[0m\u001b[0marr\u001b[0m\u001b[0;34m,\u001b[0m \u001b[0maxis\u001b[0m\u001b[0;34m,\u001b[0m \u001b[0mdtype\u001b[0m\u001b[0;34m,\u001b[0m \u001b[0mout\u001b[0m\u001b[0;34m,\u001b[0m \u001b[0mkeepdims\u001b[0m\u001b[0;34m)\u001b[0m\u001b[0;34m\u001b[0m\u001b[0m\n\u001b[0m\u001b[1;32m     66\u001b[0m     \u001b[0;32mif\u001b[0m \u001b[0misinstance\u001b[0m\u001b[0;34m(\u001b[0m\u001b[0mret\u001b[0m\u001b[0;34m,\u001b[0m \u001b[0mmu\u001b[0m\u001b[0;34m.\u001b[0m\u001b[0mndarray\u001b[0m\u001b[0;34m)\u001b[0m\u001b[0;34m:\u001b[0m\u001b[0;34m\u001b[0m\u001b[0m\n\u001b[1;32m     67\u001b[0m         ret = um.true_divide(\n",
      "\u001b[0;31mTypeError\u001b[0m: cannot perform reduce with flexible type"
     ]
    }
   ],
   "source": [
    "### run this for the simulated, use the position from the rand_linked functions\n",
    "import eqtl_funcs as EF\n",
    "import random\n",
    "random.seed(0)\n",
    "\n",
    "param_file = \"param_files/binkley_local.csv\" \n",
    "\n",
    "paramDict = LP.load_param_file(param_file)\n",
    "\n",
    "geneName = \"ENSG00000230415.1\"\n",
    "chrNum = \"22\"\n",
    "pos = \"40051275\"\n",
    "tissue = \"Breast_Mammary_Tissue\"\n",
    "\n",
    "\n",
    "slope_r, intercept,  residuals, indivVector = EF.get_eqtl_stats(chrNum, pos, geneName, tissue, paramDict)  \n",
    "  \n",
    "chrNumLinked = \"22\"\n",
    "posLinked = output_pos_rand_variant(paramDict[\"gtexDir\"] + \"linkedeQTLpos.txt\", paramDict)   \n",
    "\n",
    "pp = calculate_pp(slope_r, intercept, residuals, chrNumLinked, posLinked, indivVector, paramDict)\n"
   ]
  },
  {
   "cell_type": "code",
   "execution_count": null,
   "metadata": {
    "collapsed": false
   },
   "outputs": [],
   "source": []
  },
  {
   "cell_type": "code",
   "execution_count": null,
   "metadata": {
    "collapsed": false
   },
   "outputs": [],
   "source": []
  },
  {
   "cell_type": "code",
   "execution_count": null,
   "metadata": {
    "collapsed": false
   },
   "outputs": [],
   "source": [
    "\n",
    "    \n",
    "    \n",
    "\n",
    "   \n",
    "\n",
    "\n",
    "    "
   ]
  },
  {
   "cell_type": "code",
   "execution_count": 24,
   "metadata": {
    "collapsed": false
   },
   "outputs": [
    {
     "name": "stdout",
     "output_type": "stream",
     "text": [
      "ENSG00000230415.1\n"
     ]
    },
    {
     "ename": "NameError",
     "evalue": "name 'indivVector' is not defined",
     "output_type": "error",
     "traceback": [
      "\u001b[0;31m---------------------------------------------------------------------------\u001b[0m",
      "\u001b[0;31mNameError\u001b[0m                                 Traceback (most recent call last)",
      "\u001b[0;32m<ipython-input-24-53c353cec9fe>\u001b[0m in \u001b[0;36m<module>\u001b[0;34m()\u001b[0m\n\u001b[1;32m     32\u001b[0m         \u001b[0moutfile\u001b[0m\u001b[0;34m.\u001b[0m\u001b[0mwrite\u001b[0m\u001b[0;34m(\u001b[0m\u001b[0;34m\"\\t\"\u001b[0m\u001b[0;34m.\u001b[0m\u001b[0mjoin\u001b[0m\u001b[0;34m(\u001b[0m\u001b[0;34m[\u001b[0m\u001b[0mstr\u001b[0m\u001b[0;34m(\u001b[0m\u001b[0mx\u001b[0m\u001b[0;34m)\u001b[0m \u001b[0;32mfor\u001b[0m \u001b[0mx\u001b[0m \u001b[0;32min\u001b[0m \u001b[0mgeneLocation\u001b[0m\u001b[0;34m]\u001b[0m\u001b[0;34m)\u001b[0m \u001b[0;34m+\u001b[0m \u001b[0;34m\"\\t\"\u001b[0m \u001b[0;34m+\u001b[0m \u001b[0;34m\"\\t\"\u001b[0m\u001b[0;34m.\u001b[0m\u001b[0mjoin\u001b[0m\u001b[0;34m(\u001b[0m\u001b[0;34m[\u001b[0m\u001b[0mstr\u001b[0m\u001b[0;34m(\u001b[0m\u001b[0mx\u001b[0m\u001b[0;34m)\u001b[0m \u001b[0;32mfor\u001b[0m \u001b[0mx\u001b[0m \u001b[0;32min\u001b[0m \u001b[0mexpVector\u001b[0m\u001b[0;34m]\u001b[0m\u001b[0;34m)\u001b[0m \u001b[0;34m+\u001b[0m \u001b[0;34m\"\\n\"\u001b[0m\u001b[0;34m)\u001b[0m\u001b[0;34m\u001b[0m\u001b[0m\n\u001b[1;32m     33\u001b[0m \u001b[0mprint\u001b[0m\u001b[0;34m(\u001b[0m\u001b[0mgeneName\u001b[0m\u001b[0;34m)\u001b[0m\u001b[0;34m\u001b[0m\u001b[0m\n\u001b[0;32m---> 34\u001b[0;31m \u001b[0moutput_bed\u001b[0m\u001b[0;34m(\u001b[0m\u001b[0mindivVector\u001b[0m\u001b[0;34m,\u001b[0m \u001b[0mpp\u001b[0m\u001b[0;34m,\u001b[0m \u001b[0mparamDict\u001b[0m\u001b[0;34m[\u001b[0m\u001b[0;34m\"tmpSmall\"\u001b[0m\u001b[0;34m]\u001b[0m \u001b[0;34m+\u001b[0m \u001b[0;34m\"/GTExExpfile.bed\"\u001b[0m\u001b[0;34m,\u001b[0m \u001b[0mgeneName\u001b[0m\u001b[0;34m,\u001b[0m \u001b[0mparamDict\u001b[0m\u001b[0;34m)\u001b[0m\u001b[0;34m\u001b[0m\u001b[0m\n\u001b[0m\u001b[1;32m     35\u001b[0m \u001b[0;34m\u001b[0m\u001b[0m\n\u001b[1;32m     36\u001b[0m \u001b[0;34m\u001b[0m\u001b[0m\n",
      "\u001b[0;31mNameError\u001b[0m: name 'indivVector' is not defined"
     ]
    }
   ],
   "source": [
    "\n",
    "\n",
    "def output_gene_info(geneName, paramDict):\n",
    "    \n",
    "    fileIN = open(paramDict[\"tmpDir\"] + '/chrname2.txt')\n",
    "    selected = list()\n",
    "    for i in fileIN: \n",
    "        i = i.rstrip().split('\\t')\n",
    "        \n",
    "        if i[3]== geneName:\n",
    "            selected = i\n",
    "            break\n",
    "            \n",
    "    return selected\n",
    "\n",
    "  \n",
    "def output_header(indVector): \n",
    "\n",
    "            \n",
    "            \n",
    "    header = \"\\t\".join(['chr',  'start', 'end' , 'gene' , 'length' , 'strand'] + [str(x) for x in indVector] )\n",
    "    return header\n",
    "\n",
    "    fileIN.close()\n",
    "\n",
    "def output_bed(indivVector, expVector, filepath, geneName, paramDict):\n",
    "    selected = output_gene_info(geneName, paramDict)\n",
    "    header = output_header(indivVector)\n",
    "    with open(filepath, 'w') as outfile:\n",
    "        outfile.write(header + \"\\n\")\n",
    "        geneLocation = selected\n",
    "        outfile.write(\"\\t\".join([str(x) for x in geneLocation]) + \"\\t\" + \"\\t\".join([str(x) for x in expVector]) + \"\\n\")\n",
    "print(geneName)        \n",
    "output_bed(indivVector, pp, paramDict[\"tmpSmall\"] + \"/GTExExpfile.bed\", geneName, paramDict)\n",
    "\n",
    "\n",
    "\n",
    "\n"
   ]
  },
  {
   "cell_type": "code",
   "execution_count": 32,
   "metadata": {
    "collapsed": false
   },
   "outputs": [
    {
     "data": {
      "text/plain": [
       "0"
      ]
     },
     "execution_count": 32,
     "metadata": {},
     "output_type": "execute_result"
    }
   ],
   "source": [
    "### Seems to be an error when indexing with the header, but worked after removing the header, \n",
    "##not sure we even need to index the PP file\n",
    "\n",
    "import os\n",
    "\n",
    "os.system(\"bgzip /users/michaelbinkley/desktop/RTCstuffs/tmpsmall/GTExExpfile2.bed\")\n",
    "os.system(\"tabix -p bed /users/michaelbinkley/desktop/RTCstuffs/tmpsmall/GTExExpfile2.bed.gz\")\n"
   ]
  },
  {
   "cell_type": "code",
   "execution_count": 35,
   "metadata": {
    "collapsed": false
   },
   "outputs": [
    {
     "data": {
      "text/plain": [
       "256"
      ]
     },
     "execution_count": 35,
     "metadata": {},
     "output_type": "execute_result"
    }
   ],
   "source": [
    "#### Calc RTC score \n",
    "\n",
    "import os\n",
    "\n",
    "os.system(\"QTLtools rtc --vcf genotypes.chr22.vcf.gz --bed /users/michaelbinkley/desktop/RTCstuffs/tmpsmall/GTExExpfile2.bed.gz --cov genes.covariates.pc50.txt.gz --hotspot hotspots_b37_hg19.bed --gwas-cis GWAS.b37.txt permutations_all.significant.txt --normal --out rtc_results.txt\")\n",
    "\n"
   ]
  },
  {
   "cell_type": "code",
   "execution_count": null,
   "metadata": {
    "collapsed": true
   },
   "outputs": [],
   "source": []
  }
 ],
 "metadata": {
  "kernelspec": {
   "display_name": "Python 3",
   "language": "python",
   "name": "python3"
  },
  "language_info": {
   "codemirror_mode": {
    "name": "ipython",
    "version": 3
   },
   "file_extension": ".py",
   "mimetype": "text/x-python",
   "name": "python",
   "nbconvert_exporter": "python",
   "pygments_lexer": "ipython3",
   "version": "3.5.4"
  }
 },
 "nbformat": 4,
 "nbformat_minor": 1
}
