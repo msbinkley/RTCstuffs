{
 "cells": [
  {
   "cell_type": "code",
   "execution_count": 1,
   "metadata": {
    "collapsed": true
   },
   "outputs": [],
   "source": [
    "#### REMEMBER TO GIT PULL!  ####\n",
    "#### Add this block to all jupyter files ####\n",
    "\n",
    "#Loading and importing necessary tools. \n",
    "%load_ext autoreload \n",
    "%autoreload 2\n",
    "import sys, os\n",
    "sys.path.append(\"scripts\")\n",
    "import load_params as LP\n",
    "\n",
    "# Comment and uncomment these two lines for when you are working on this notebook. \n",
    "#param_file = \"param_files/ryo_local.csv\"\n",
    "param_file = \"param_files/binkley_local.csv\" \n",
    "\n",
    "paramDict = LP.load_param_file(param_file)"
   ]
  },
  {
   "cell_type": "code",
   "execution_count": 2,
   "metadata": {
    "collapsed": true
   },
   "outputs": [],
   "source": [
    "import seaborn as sns\n",
    "import matplotlib as mpl\n",
    "import matplotlib.pyplot as plt\n",
    "%matplotlib inline\n",
    "import scipy\n",
    "from scipy import stats\n",
    "import sys\n",
    "import numpy as np\n",
    "import pandas as pd\n",
    "from pandas import Series,DataFrame\n",
    "import sys\n",
    "import codecs\n",
    " \n",
    "\n",
    "from random import sample\n",
    "\n",
    "import seaborn as sns\n",
    "sns.set_style('whitegrid')\n",
    "\n",
    "# guarantee unicode string\n",
    "_u = lambda t: t.decode('UTF-8', 'replace') if isinstance(t, str) else t\n",
    "_uu = lambda *tt: tuple(_u(t) for t in tt) \n",
    "# guarantee byte string in UTF8 encoding\n",
    "_u8 = lambda t: t.encode('UTF-8', 'replace') if isinstance(t, unicode) else t\n",
    "_uu8 = lambda *tt: tuple(_u8(t) for t in tt) \n",
    "\n",
    "\n"
   ]
  },
  {
   "cell_type": "code",
   "execution_count": 3,
   "metadata": {
    "collapsed": true
   },
   "outputs": [],
   "source": [
    "#####This will be the iterative step"
   ]
  },
  {
   "cell_type": "code",
   "execution_count": null,
   "metadata": {
    "collapsed": true
   },
   "outputs": [],
   "source": [
    "def ID_hotspots(outfilename): \n",
    "    fileIN = open(paramDict[\"gtexDir\"] + '/Users/michaelbinkley/Desktop/GTEx/hotspots_b37_hg19.bed')\n",
    "    hotspots = list()\n",
    "    fileOUT = open(outfilename, \"w\")\n",
    "    for i in fileIN: \n",
    "        i = i.rstrip().split('\\t')\n",
    "\n",
    "        \n",
    "        Chr = i[0]\n",
    "        for num in i[0]: #Get rid of \"chr in the file\"\n",
    "            if num in \"chr\":\n",
    "                Chr = Chr.replace(num, '')       \n",
    "        start = int(i[1])\n",
    "        end = int(i[2])\n",
    "        middle = ((start+end)/2)\n",
    "        hotspots.append(Chr)\n",
    "        hotspots.append(start)\n",
    "        hotspots.append(end)\n",
    "        hotspots.append(middle)\n",
    "        fileOUT.write(Chr + \"\\t\" + str(start) + \"\\t\" + str(end) + \"\\t\" + str(middle)  + \"\\n\")\n",
    "    fileIN.close()\n",
    "    fileOUT.close()\n",
    "    return hotspots\n",
    "ID_hotspots('hotspots.txt')"
   ]
  }
 ],
 "metadata": {
  "kernelspec": {
   "display_name": "Python 3",
   "language": "python",
   "name": "python3"
  },
  "language_info": {
   "codemirror_mode": {
    "name": "ipython",
    "version": 3
   },
   "file_extension": ".py",
   "mimetype": "text/x-python",
   "name": "python",
   "nbconvert_exporter": "python",
   "pygments_lexer": "ipython3",
   "version": "3.5.4"
  }
 },
 "nbformat": 4,
 "nbformat_minor": 0
}
