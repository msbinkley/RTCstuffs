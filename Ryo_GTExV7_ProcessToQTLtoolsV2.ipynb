{
 "cells": [
  {
   "cell_type": "code",
   "execution_count": 1,
   "metadata": {
    "collapsed": false
   },
   "outputs": [],
   "source": [
    "#### REMEMBER TO GIT PULL!  ####\n",
    "#### Add this block to all jupyter files ####\n",
    "\n",
    "#Loading and importing necessary tools. \n",
    "%load_ext autoreload \n",
    "%autoreload 2\n",
    "import sys, os\n",
    "sys.path.append(\"scripts\")\n",
    "import load_params as LP\n",
    "\n",
    "# Comment and uncomment these two lines for when you are working on this notebook. \n",
    "#param_file = \"param_files/ryo_local.csv\"\n",
    "param_file = \"param_files/binkley_local.csv\" \n",
    "\n",
    "paramDict = LP.load_param_file(param_file)"
   ]
  },
  {
   "cell_type": "code",
   "execution_count": 2,
   "metadata": {
    "collapsed": true
   },
   "outputs": [],
   "source": [
    "import seaborn as sns\n",
    "import matplotlib as mpl\n",
    "import matplotlib.pyplot as plt\n",
    "%matplotlib inline\n",
    "import scipy\n",
    "from scipy import stats\n",
    "import sys\n",
    "import numpy as np\n",
    "import pandas as pd\n",
    "from pandas import Series,DataFrame\n",
    "import sys\n",
    "import codecs\n",
    " \n",
    "\n",
    "from random import sample\n",
    "\n",
    "import seaborn as sns\n",
    "sns.set_style('whitegrid')\n",
    "\n",
    "# guarantee unicode string\n",
    "_u = lambda t: t.decode('UTF-8', 'replace') if isinstance(t, str) else t\n",
    "_uu = lambda *tt: tuple(_u(t) for t in tt) \n",
    "# guarantee byte string in UTF8 encoding\n",
    "_u8 = lambda t: t.encode('UTF-8', 'replace') if isinstance(t, unicode) else t\n",
    "_uu8 = lambda *tt: tuple(_u8(t) for t in tt) \n",
    "\n",
    "\n"
   ]
  },
  {
   "cell_type": "code",
   "execution_count": 3,
   "metadata": {
    "collapsed": true
   },
   "outputs": [],
   "source": [
    "#####This will be the iterative step"
   ]
  },
  {
   "cell_type": "code",
   "execution_count": 4,
   "metadata": {
    "collapsed": true
   },
   "outputs": [],
   "source": [
    "###Leave more blank space"
   ]
  },
  {
   "cell_type": "code",
   "execution_count": 3,
   "metadata": {
    "collapsed": true
   },
   "outputs": [],
   "source": [
    "# import custom functions\n",
    "import deprecated_funcs as DF\n"
   ]
  },
  {
   "cell_type": "code",
   "execution_count": 6,
   "metadata": {
    "collapsed": false
   },
   "outputs": [
    {
     "ename": "NameError",
     "evalue": "name 'paramDict' is not defined",
     "output_type": "error",
     "traceback": [
      "\u001b[0;31m---------------------------------------------------------------------------\u001b[0m",
      "\u001b[0;31mNameError\u001b[0m                                 Traceback (most recent call last)",
      "\u001b[0;32m<ipython-input-6-c836c425f3d3>\u001b[0m in \u001b[0;36m<module>\u001b[0;34m()\u001b[0m\n\u001b[1;32m      1\u001b[0m \u001b[0;31m# Potentially deprecated functions.\u001b[0m\u001b[0;34m\u001b[0m\u001b[0;34m\u001b[0m\u001b[0m\n\u001b[1;32m      2\u001b[0m \u001b[0;34m\u001b[0m\u001b[0m\n\u001b[0;32m----> 3\u001b[0;31m \u001b[0mDF\u001b[0m\u001b[0;34m.\u001b[0m\u001b[0moutput_coldspot\u001b[0m\u001b[0;34m(\u001b[0m\u001b[0;34m'coldspotlist.txt'\u001b[0m\u001b[0;34m)\u001b[0m\u001b[0;34m\u001b[0m\u001b[0m\n\u001b[0m\u001b[1;32m      4\u001b[0m \u001b[0mDF\u001b[0m\u001b[0;34m.\u001b[0m\u001b[0mextract_best_eqtl\u001b[0m\u001b[0;34m(\u001b[0m\u001b[0;34m)\u001b[0m\u001b[0;34m\u001b[0m\u001b[0m\n",
      "\u001b[0;32m/Users/michaelbinkley/Desktop/RTCstuffs/scripts/deprecated_funcs.py\u001b[0m in \u001b[0;36moutput_coldspot\u001b[0;34m(outfilename)\u001b[0m\n\u001b[1;32m      4\u001b[0m     '''\n\u001b[1;32m      5\u001b[0m \u001b[0;34m\u001b[0m\u001b[0m\n\u001b[0;32m----> 6\u001b[0;31m     \u001b[0megene\u001b[0m \u001b[0;34m=\u001b[0m \u001b[0mopen\u001b[0m\u001b[0;34m(\u001b[0m\u001b[0mparamDict\u001b[0m\u001b[0;34m[\u001b[0m\u001b[0;34m\"gtexDir\"\u001b[0m\u001b[0;34m]\u001b[0m \u001b[0;34m+\u001b[0m \u001b[0;34m'/QTLinterest.txt'\u001b[0m\u001b[0;34m)\u001b[0m\u001b[0;34m\u001b[0m\u001b[0m\n\u001b[0m\u001b[1;32m      7\u001b[0m     \u001b[0megene\u001b[0m\u001b[0;34m.\u001b[0m\u001b[0mreadline\u001b[0m\u001b[0;34m(\u001b[0m\u001b[0;34m)\u001b[0m\u001b[0;34m\u001b[0m\u001b[0m\n\u001b[1;32m      8\u001b[0m \u001b[0;34m\u001b[0m\u001b[0m\n",
      "\u001b[0;31mNameError\u001b[0m: name 'paramDict' is not defined"
     ]
    }
   ],
   "source": [
    "# Potentially deprecated functions. \n",
    "\n",
    "DF.output_coldspot('coldspotlist.txt')\n",
    "DF.extract_best_eqtl()"
   ]
  },
  {
   "cell_type": "code",
   "execution_count": 9,
   "metadata": {
    "collapsed": false
   },
   "outputs": [],
   "source": [
    "#### This step outputs the cold spots and returns the list \n",
    "\n",
    "def ID_hotspots(outfilename): \n",
    "    fileIN = open(paramDict[\"gtexDir\"] + 'coldspots.txt')\n",
    "    hotspots = list()\n",
    "    fileOUT = open(outfilename, \"w\")\n",
    "    for i in fileIN: \n",
    "        i = i.rstrip().split('\\t')\n",
    "\n",
    "        \n",
    "        Chr = i[0]\n",
    "        for num in i[0]: #Get rid of \"chr in the file\"\n",
    "            if num in \"chr\":\n",
    "                Chr = Chr.replace(num, '')       \n",
    "        start = int(i[1])\n",
    "        end = int(i[2])\n",
    "        middle = str(i[3])\n",
    "        bound = str (i[4])\n",
    "        hotspots.append([Chr, start, end, middle, bound])\n",
    "        #hotspots.append(start)\n",
    "        #hotspots.append(end)\n",
    "        #hotspots.append(middle)\n",
    "        fileOUT.write(Chr + \"\\t\" + str(start) + \"\\t\" + str(end) + \"\\t\" + str(middle)  +  \"\\t\" + str(bound) + \"\\n\")\n",
    "    fileIN.close()\n",
    "    fileOUT.close()\n",
    "    return hotspots\n",
    "#ID_hotspots('coldspots2.txt')\n",
    "\n"
   ]
  },
  {
   "cell_type": "code",
   "execution_count": 14,
   "metadata": {
    "collapsed": false
   },
   "outputs": [
    {
     "data": {
      "text/plain": [
       "[['22', '40382500', '40525500']]"
      ]
     },
     "execution_count": 14,
     "metadata": {},
     "output_type": "execute_result"
    }
   ],
   "source": [
    "#####OUtputs cold spot for given eqtl\n",
    "def find_variant_coldspot(outfilename):\n",
    "    fileIN = open( \"besteQTLs.txt\" )\n",
    "    \n",
    "    fileOUT = open(outfilename, \"w\")\n",
    "    hspots = ID_hotspots('coldspots2.txt')\n",
    "\n",
    "\n",
    "\n",
    "    for i in fileIN:\n",
    "        \n",
    "        i = i.rstrip().split('\\t')\n",
    "        gene = str(i[0])\n",
    "        chrnum = str(i[1])\n",
    "        snp = (i[3])\n",
    "        position = float(i[2])\n",
    "        pvalue = float(i[4])\n",
    "        \n",
    "        for  Chr, start, (end), middle, (bound) in hspots:\n",
    "            if Chr  != chrnum :\n",
    "                continue\n",
    "            else: \n",
    "                if position < float(bound) and position > float(end): \n",
    "                    #distance = abs(position - middle)\n",
    "                    fileOUT.write(\"\\t\".join([ str(Chr), str(start), str(end), str(middle), str(bound) , gene, snp, str(position), str(pvalue)] ) + \"\\n\")\n",
    "                else: \n",
    "                    continue\n",
    "    fileIN.close()\n",
    "    fileOUT.close()\n",
    "\n",
    "find_variant_coldspot('eQTLcoldspot.txt')\n",
    "\n",
    "#### This step can probably be truncated \n",
    "def output_selected_coldspots(outfilename):\n",
    "    fileIN = open ('eQTLcoldspot.txt')\n",
    "    fileOUT = open(outfilename, \"w\")\n",
    "    selectedcoldspots = list()\n",
    "    \n",
    "    for i in fileIN:\n",
    "        \n",
    "        i = i.rstrip().split('\\t')\n",
    "        Chr = str(i[0])\n",
    "        end = str(i[2])\n",
    "        bound = str(i[4])\n",
    "        \n",
    "    \n",
    "\n",
    "        fileOUT.write(\"\\t\".join([ str(Chr),  str(end),  str(bound)] ) + \"\\n\")\n",
    "        selectedcoldspots.append([ str(Chr),  str(end),  str(bound)])                    \n",
    "    \n",
    "    fileIN.close()\n",
    "    fileOUT.close()\n",
    "    return selectedcoldspots\n",
    "output_selected_coldspots('selectedcoldspots.txt')\n",
    "\n",
    "\n"
   ]
  },
  {
   "cell_type": "code",
   "execution_count": 15,
   "metadata": {
    "collapsed": false
   },
   "outputs": [],
   "source": [
    "###THis outputs a file with GWAS variants in our cold spots of interest that colocalize\n",
    "def find_variant_coldspot(outfilename):\n",
    "    fileIN = open(paramDict[\"gtexDir\"] +'/oncoarray_bcac_public_release_oct17.txt')\n",
    "    fileIN.readline()\n",
    "    fileOUT = open(outfilename, \"w\")\n",
    "\n",
    "\n",
    "    cspots = output_selected_coldspots('selectedcoldspots.txt')\n",
    "\n",
    "    for i in fileIN:\n",
    "        \n",
    "        i = i.rstrip().split('\\t')\n",
    "        gene = str(i[0])\n",
    "        chrnum = str(i[2])\n",
    "        #snp = (i[3])\n",
    "        position = float(i[3])\n",
    "        pvalue = float(i[9])\n",
    "        if pvalue<10e-9:\n",
    "            for  (Chr), (end), (bound) in cspots:\n",
    "                if Chr  != chrnum:\n",
    "                    continue\n",
    "                else: \n",
    "                    if position < float(bound) and position > float(end): \n",
    "                    #distance = abs(position - middle)\n",
    "                        fileOUT.write(\"\\t\".join([ str(Chr), str(end),  str(bound) , gene, str(position), str(pvalue)] ) + \"\\n\")\n",
    "                    else: \n",
    "                        continue\n",
    "    fileIN.close()\n",
    "    fileOUT.close()\n",
    "find_variant_coldspot(\"gwasColdSpot.txt\")\n",
    "\n"
   ]
  },
  {
   "cell_type": "code",
   "execution_count": 16,
   "metadata": {
    "collapsed": false
   },
   "outputs": [
    {
     "data": {
      "text/plain": [
       "[['22', 40382500.0, 40525500.0]]"
      ]
     },
     "execution_count": 16,
     "metadata": {},
     "output_type": "execute_result"
    }
   ],
   "source": [
    "#####This step outputs the selected cold spot\n",
    "def output_selected_coldspots(outfilename):\n",
    "    fileIN = open ('selectedcoldspots.txt')\n",
    "    fileOUT = open(outfilename, \"w\")\n",
    "    selectedcoldspots2 = list()\n",
    "    \n",
    "    for i in fileIN:\n",
    "        \n",
    "        i = i.rstrip().split('\\t')\n",
    "        Chr = str(i[0])\n",
    "        end = float(i[1])\n",
    "        bound = float(i[2])\n",
    "        selectedcoldspots2.append([ (Chr),  (end),  (bound)])              \n",
    "    \n",
    "\n",
    "        fileOUT.write(\"\\t\".join([ str(Chr),  str(end),  str(bound)] ) + \"\\n\")\n",
    "              \n",
    "    \n",
    "    fileIN.close()\n",
    "    fileOUT.close()\n",
    "    return selectedcoldspots2\n",
    "output_selected_coldspots('preVCF.txt')\n",
    "\n"
   ]
  },
  {
   "cell_type": "code",
   "execution_count": 34,
   "metadata": {
    "collapsed": true
   },
   "outputs": [],
   "source": [
    "#####This step has many readlines, it outputs all variants in the cold spot\n",
    "\n",
    "def filter_vcf(outfilename): \n",
    "    fileIN = open(paramDict[\"gtexDir\"] +'/chr22_subset_gtex.vcf')\n",
    "    \n",
    "    selectedcoldspots2 = output_selected_coldspots('preVCF.txt')\n",
    "    fileOUT = open(outfilename, \"w\")\n",
    "    \n",
    "    for i in fileIN:\n",
    "        line= fileIN.readline()\n",
    "        if line[0]==\"#\":\n",
    "            continue\n",
    "\n",
    "        i = i.rstrip().split('\\t')\n",
    "        \n",
    "        chrnum = str(i[0])\n",
    "        position = float(i[1])\n",
    "\n",
    "\n",
    "        for  Chr, end, bound in selectedcoldspots2:\n",
    "            if (Chr)  == chrnum:\n",
    "                if position > end  and position < bound:  \n",
    "\n",
    "                    fileOUT.write(\"\\t\".join([str(x) for x in i] ) + \"\\n\")                    \n",
    "                else: \n",
    "                    continue\n",
    "      \n",
    "    fileIN.close()\n",
    "    fileOUT.close()\n",
    "filter_vcf('filteredgenotype.txt')\n",
    "\n"
   ]
  },
  {
   "cell_type": "code",
   "execution_count": 10,
   "metadata": {
    "collapsed": false
   },
   "outputs": [],
   "source": [
    "######This step randomly picks an eQTL in the coldspot and the position\n",
    "\n",
    "def select_rand_variant(outfilename, paramDict): \n",
    "    fileIN = open('filteredgenotype.txt')\n",
    "    fileOUT = open(outfilename, \"w\")\n",
    "    rnd = list()\n",
    "    for i in fileIN:\n",
    "\n",
    "        i = i.rstrip().split('\\t')\n",
    "        rnd.append(i[2])\n",
    "\n",
    "    rand = sample(rnd[0:],1)\n",
    "\n",
    "    for i in rand:\n",
    "        fileOUT.write(\"\\t\".join([str(x) for x in rand] ) +  \"\\n\")\n",
    "\n",
    "    fileOUT.close()\n",
    "    fileIN.close()\n",
    "    return rand\n",
    "select_rand_variant(paramDict[\"gtexDir\"] + \"eQTLcausal.txt\", paramDict)\n",
    "\n",
    "def output_pos_rand_variant(outfilename, paramDict): \n",
    "    fileIN = open('filteredgenotype.txt')\n",
    "    fileOUT = open(outfilename, \"w\")\n",
    "    sand = open(paramDict[\"gtexDir\"] +  'eQTLcausal.txt')\n",
    "    for i in sand: \n",
    "        i = i.rstrip().split('\\t') \n",
    "        rand = str(i[0])\n",
    "\n",
    "    for j in fileIN: \n",
    "        j = j.rstrip().split('\\t')\n",
    "        SNP = str(j[2])\n",
    "        random = str(rand)\n",
    "\n",
    "        if SNP == random: \n",
    "\n",
    "            fileOUT.write(str(j[1]) + \"\\n\")\n",
    "            break\n",
    "    fileOUT.close()\n",
    "    fileIN.close()\n",
    "output_pos_rand_variant(paramDict[\"gtexDir\"] + \"eQTLcausalpos.txt\", paramDict)    "
   ]
  },
  {
   "cell_type": "code",
   "execution_count": 11,
   "metadata": {
    "collapsed": false
   },
   "outputs": [],
   "source": [
    "#####This step randomly picks a GWAScausal in the coldspot\n",
    "\n",
    "def select_rand_variant(outfilename): \n",
    "    fileIN = open('filteredgenotype.txt')\n",
    "    fileOUT = open(outfilename, \"w\")\n",
    "    rnd = list()\n",
    "    for i in fileIN:\n",
    "\n",
    "        i = i.rstrip().split('\\t')\n",
    "        rnd.append(i[2])\n",
    "    rand = sample(rnd[0:],1)\n",
    "\n",
    "    for i in rand:\n",
    "        fileOUT.write(\"\\t\".join([str(x) for x in rand] ) +  \"\\n\")\n",
    "    fileOUT.close()\n",
    "    fileIN.close()\n",
    "select_rand_variant(paramDict[\"gtexDir\"] + \"GWAScausal.txt\")\n",
    "\n",
    "def output_pos_rand_variant(outfilename, paramDict): \n",
    "    fileIN = open('filteredgenotype.txt')\n",
    "    fileOUT = open(outfilename, \"w\")\n",
    "    sand = open(paramDict[\"gtexDir\"] +  'GWAScausal.txt')\n",
    "    for i in sand: \n",
    "        i = i.rstrip().split('\\t') \n",
    "        rand = str(i[0])\n",
    "\n",
    "    for j in fileIN: \n",
    "        j = j.rstrip().split('\\t')\n",
    "        SNP = str(j[2])\n",
    "        random = str(rand)\n",
    "\n",
    "        if SNP == random: \n",
    "\n",
    "            fileOUT.write(str(j[1]) + \"\\n\")\n",
    "            break\n",
    "    fileOUT.close()\n",
    "    fileIN.close()\n",
    "output_pos_rand_variant(paramDict[\"gtexDir\"] + \"GWAScausalpos.txt\", paramDict)    \n"
   ]
  },
  {
   "cell_type": "code",
   "execution_count": 12,
   "metadata": {
    "collapsed": false
   },
   "outputs": [
    {
     "data": {
      "text/plain": [
       "512"
      ]
     },
     "execution_count": 12,
     "metadata": {},
     "output_type": "execute_result"
    }
   ],
   "source": [
    "import os\n",
    "\n",
    "os.system(\"plink --vcf chr22_subset_gtex.vcf --show-tags eQTLcausal.txt --tag-r2 0.5\")"
   ]
  },
  {
   "cell_type": "code",
   "execution_count": 13,
   "metadata": {
    "collapsed": false
   },
   "outputs": [
    {
     "data": {
      "text/plain": [
       "512"
      ]
     },
     "execution_count": 13,
     "metadata": {},
     "output_type": "execute_result"
    }
   ],
   "source": [
    "import os\n",
    "\n",
    "os.system(\"plink --vcf chr22_subset_gtex.vcf --show-tags GWAScausal.txt --tag-r2 0.5\")"
   ]
  },
  {
   "cell_type": "code",
   "execution_count": 27,
   "metadata": {
    "collapsed": false
   },
   "outputs": [
    {
     "data": {
      "text/plain": [
       "[]"
      ]
     },
     "execution_count": 27,
     "metadata": {},
     "output_type": "execute_result"
    }
   ],
   "source": [
    "### This will be the GWAS to run the RTC score \n",
    "def select_rand_variant(outfilename): \n",
    "    fileIN = open(paramDict[\"gtexDir\"] +  '/plink.tags')\n",
    "    fileOUT = open(outfilename, \"w\")\n",
    "    rnd = list()\n",
    "    for i in fileIN:\n",
    "\n",
    "        i = i.rstrip().split('\\t')\n",
    "        rnd.append(i[0])\n",
    "    rand = sample(rnd[0:],1)\n",
    "\n",
    "    for i in rand:\n",
    "        fileOUT.write(\"\\t\".join([str(x) for x in rand] ) +  \"\\n\")\n",
    "    fileOUT.close()\n",
    "    fileIN.close()\n",
    "select_rand_variant(paramDict[\"gtexDir\"] + \"linkedGWAS.txt\")\n",
    "\n",
    "def output_pos_rand_variant(outfilename, paramDict): \n",
    "    fileIN = open('filteredgenotype.txt')\n",
    "    fileOUT = open(outfilename, \"w\")\n",
    "    sand = open(paramDict[\"gtexDir\"] +  'linkedGWAS.txt')\n",
    "    posI = list()\n",
    "    for i in sand: \n",
    "        i = i.rstrip().split('\\t') \n",
    "        rand = str(i[0])\n",
    "\n",
    "    for j in fileIN: \n",
    "        j = j.rstrip().split('\\t')\n",
    "        SNP = str(j[2])\n",
    "        random = str(rand)\n",
    "\n",
    "        if SNP == random: \n",
    "\n",
    "            fileOUT.write(str(j[1]) + \"\\n\")\n",
    "            posI.append(j[1])\n",
    "            break\n",
    "    return posI\n",
    "    fileOUT.close()\n",
    "    fileIN.close()\n",
    "output_pos_rand_variant(paramDict[\"gtexDir\"] + \"linkedGWASpos.txt\", paramDict)    \n",
    "\n"
   ]
  },
  {
   "cell_type": "code",
   "execution_count": 31,
   "metadata": {
    "collapsed": false
   },
   "outputs": [
    {
     "data": {
      "text/plain": [
       "'40479570'"
      ]
     },
     "execution_count": 31,
     "metadata": {},
     "output_type": "execute_result"
    }
   ],
   "source": [
    "###This will be the eQTL to run the RTC score \n",
    "def select_rand_variant(outfilename): \n",
    "    fileIN = open(paramDict[\"gtexDir\"] +  '/plink.tags')\n",
    "    fileOUT = open(outfilename, \"w\")\n",
    "    rnd = list()\n",
    "    for i in fileIN:\n",
    "\n",
    "        i = i.rstrip().split('\\t')\n",
    "        rnd.append(i[0])\n",
    "    rand = sample(rnd[0:],1)\n",
    "\n",
    "    for i in rand:\n",
    "        fileOUT.write(\"\\t\".join([str(x) for x in rand] ) +  \"\\n\")\n",
    "    fileOUT.close()\n",
    "    fileIN.close()\n",
    "select_rand_variant(paramDict[\"gtexDir\"] + \"linkedeQTL.txt\")\n",
    "\n",
    "def output_pos_rand_variant(outfilename, paramDict): \n",
    "    fileIN = open('filteredgenotype.txt')\n",
    "    fileOUT = open(outfilename, \"w\")\n",
    "    sand = open(paramDict[\"gtexDir\"] +  'linkedeQTL.txt')\n",
    "    posI = \"BLAH\" \n",
    "    for i in sand: \n",
    "        i = i.rstrip().split('\\t') \n",
    "        rand = str(i[0])\n",
    "\n",
    "    for j in fileIN: \n",
    "        j = j.rstrip().split('\\t')\n",
    "        SNP = str(j[2])\n",
    "        random = str(rand)\n",
    "\n",
    "        if SNP == random: \n",
    "\n",
    "            fileOUT.write(str(j[1]) + \"\\n\")\n",
    "            posI = j[1]\n",
    "            break\n",
    "    return posI\n",
    "    fileOUT.close()\n",
    "    fileIN.close()\n",
    "output_pos_rand_variant(paramDict[\"gtexDir\"] + \"linkedeQTLpos.txt\", paramDict)    "
   ]
  },
  {
   "cell_type": "code",
   "execution_count": 19,
   "metadata": {
    "collapsed": false
   },
   "outputs": [
    {
     "name": "stdout",
     "output_type": "stream",
     "text": [
      "\tGetting dosage vector for : 22 40051275 /Users/michaelbinkley/Desktop/GTEx/\n",
      "\tGetting header\n",
      "\t calculate residuals\n",
      "-0.0496456198632\n",
      "0.0587440203162\n",
      "[-0.77860703  1.39810775 -0.09874075 -0.34096017 -0.29382959  0.75299025\n",
      " -0.283329    1.26118757 -1.86148711  1.19085168  0.78254021  1.74399907\n",
      "  0.02091565  1.48587787 -0.46175831 -0.47929349  0.79622181  0.16019533\n",
      "  1.65929279  0.51891839 -1.53520175  1.56665057 -1.42468657 -2.15669228\n",
      "  0.81739883 -2.66385743 -0.85640294 -0.14958395 -1.34207439  0.81005585\n",
      "  1.11280207 -0.44542886 -1.20904848  0.83820614  1.90540742 -0.56341078\n",
      " -0.06869112  1.84663152  1.58412042  0.71622449  0.47687768  0.87369409\n",
      " -0.48391088 -0.21952679  0.1306119  -0.97651997  0.24081669  2.13849548\n",
      "  1.42763539 -0.34691683  0.46038608  1.6205558  -1.7189053   0.69026735\n",
      "  0.26115631 -1.39618657  1.45613539  0.60419472  1.2504277  -1.01040323\n",
      "  0.90218134 -0.40111983 -1.04217204 -0.42893726  0.76900521 -1.56788195\n",
      "  1.27698861 -1.00878889 -0.01894577  0.72757775  0.32276337  0.14018119\n",
      " -1.13099887  1.32387759  0.93138562 -0.86518167 -0.72154143  1.07358269\n",
      "  0.67958019 -0.37215525 -1.8151827  -0.4398257   0.61574573  0.6905819\n",
      " -0.35401279 -0.22102561  0.11023214 -1.41630455 -0.8999368  -0.51758646\n",
      " -1.58910698 -0.5022033   1.25456962 -0.12936475 -0.64658256 -0.94522822\n",
      "  0.12057428 -0.22970749 -1.36791574  0.04065681  0.97667704 -0.77380807\n",
      "  0.69270752 -0.1884167   0.29388205  0.23067838 -2.0164911  -0.80073701\n",
      " -1.07666892  0.10026432  2.4027239   1.04468415  0.32872002  1.971654\n",
      " -0.11846112  0.65295577  0.4216289  -0.23875639  0.6162445   0.95832317\n",
      " -1.23850514  0.58329774 -0.5985542   0.28348413 -1.22312081 -1.5526716\n",
      " -1.41845362  0.54521398 -0.28097841  0.44954719  0.23194199 -0.76054994\n",
      " -0.73442129  0.25097561 -0.3149432  -0.76477299  0.28617037  0.16081357\n",
      "  0.36442344  0.47251674  0.67803138  0.38292303  0.48810217  1.54968515\n",
      "  0.44356151  0.63000302 -1.94020518  0.50425497 -0.62150695 -1.72713521\n",
      " -0.05874402 -0.05885361 -0.62469284  0.37492403  0.25247443  0.2217143\n",
      "  0.99059209  0.89291519 -0.29978441 -0.26039177 -0.37520476  1.18131096\n",
      "  0.38911052  2.09758554 -1.06288095 -2.4209207  -0.61043015 -0.3362165\n",
      " -0.78720201  0.59223335  1.44990244 -0.03894364 -1.97324985 -0.92992138\n",
      "  0.34639202 -0.7087787  -1.18009313 -1.76348037 -0.58479568 -0.45665335\n",
      " -1.29518541 -0.74577455 -0.03911245 -0.1488087   0.30431283  0.97432962\n",
      "  1.37389573  1.28241401 -1.34244691  0.10053715 -1.00959921  0.91172458\n",
      " -0.0291377  -0.10921479 -0.60917291  0.94627611  0.02074684  1.10811774\n",
      "  0.51074231 -0.05908675  1.10129788 -0.58676081 -2.26928739 -0.2399111\n",
      " -0.69777699 -0.89189089  0.19030923 -1.50407467 -0.30168093  0.15073048\n",
      " -1.09442331  0.02065203 -0.07910089 -1.04213387  2.64566063 -0.04889665\n",
      " -0.46774399 -0.42316053  0.22055959  1.09069365  0.24219497  0.41606846\n",
      "  0.49938966  1.74528357 -0.11873395  1.7007085  -0.15972225 -1.20131957\n",
      "  1.17066272 -0.68358815 -0.11928166  0.30736234 -1.02532013  0.01079679\n",
      " -0.3576617   0.75561127 -0.54035916 -0.26243323  1.05676895 -0.62239152\n",
      "  0.2627816   0.3180197  -0.88524125 -0.87073252  2.25109059 -1.11949468\n",
      "  0.05049432  1.07622651 -1.10021652  0.08054395  0.55685042]\n"
     ]
    }
   ],
   "source": [
    "### RUn this for the real eQTL\n",
    "import load_params as LP\n",
    "import eqtl_funcs as EF\n",
    "\n",
    "geneName = \"ENSG00000230415.1\"\n",
    "chrNum = \"22\"\n",
    "pos = \"40051275\"\n",
    "tissue = \"Breast_Mammary_Tissue\"\n",
    "\n",
    "\n",
    "slope, intercept,  residuals, indivVector = EF.get_eqtl_stats(chrNum, pos, geneName, tissue, paramDict)  \n",
    "\n",
    "print(slope)\n",
    "print(intercept)\n",
    "print(residuals)\n",
    "\n"
   ]
  },
  {
   "cell_type": "code",
   "execution_count": 21,
   "metadata": {
    "collapsed": true
   },
   "outputs": [],
   "source": [
    "\n",
    "\n",
    "def calculate_pp(slope_r, intercept, residuals, chrNum, pos, indivVector, paramDict):\n",
    "    '''\n",
    "    Calculates pseudophenotype for SNP at chrnum and pos, given slope,intersect, residuals. \n",
    "    IndivVector - ensures that the we are using the same individuals for this calculation as when the slope, intercept, and residuals were calculated.\n",
    "    \n",
    "    '''\n",
    "    permutedResiduals = random.sample(list(residuals), len(residuals))\n",
    "    genoVector, indivGenoVector = GF.get_dos_vector(chrNum, pos, paramDict[\"vcfDir\"])\n",
    "    filteredGenoVector, indivVector = GF.filter_and_sort_genotype_vector(genoVector, indivGenoVector, indivVector)\n",
    "    pp = float(slope_r)*np.array(filteredGenoVector) + permutedResiduals + intercept   \n",
    "    return pp\n",
    "\n"
   ]
  },
  {
   "cell_type": "code",
   "execution_count": 32,
   "metadata": {
    "collapsed": false
   },
   "outputs": [
    {
     "name": "stdout",
     "output_type": "stream",
     "text": [
      "\tGetting dosage vector for : 22 40051275 /Users/michaelbinkley/Desktop/GTEx/\n",
      "\tGetting header\n",
      "\t calculate residuals\n",
      "position 40479570\n",
      "\tGetting dosage vector for : 22 40479570 /Users/michaelbinkley/Desktop/GTEx/\n",
      "\tGetting header\n"
     ]
    }
   ],
   "source": [
    "### run this for the simulated, use the position from the rand_linked functions\n",
    "import eqtl_funcs as EF\n",
    "import gtex_funcs as GF\n",
    "import random\n",
    "random.seed(0)\n",
    "\n",
    "param_file = \"param_files/binkley_local.csv\" \n",
    "\n",
    "paramDict = LP.load_param_file(param_file)\n",
    "\n",
    "geneName = \"ENSG00000230415.1\"\n",
    "chrNum = \"22\"\n",
    "pos = \"40051275\"\n",
    "tissue = \"Breast_Mammary_Tissue\"\n",
    "\n",
    "\n",
    "slope_r, intercept,  residuals, indivVector = EF.get_eqtl_stats(chrNum, pos, geneName, tissue, paramDict)  \n",
    "\n",
    "\n",
    "chrNumLinked = \"22\"\n",
    "### THIS is the position of the randomly selected\n",
    "posLinked = output_pos_rand_variant(paramDict[\"gtexDir\"] + \"linkedeQTLpos.txt\", paramDict)   \n",
    "\n",
    "print(\"position\", posLinked)\n",
    "\n",
    "pp = calculate_pp(slope_r, intercept, residuals, chrNumLinked, posLinked, indivVector, paramDict)\n"
   ]
  },
  {
   "cell_type": "code",
   "execution_count": null,
   "metadata": {
    "collapsed": false
   },
   "outputs": [],
   "source": []
  },
  {
   "cell_type": "code",
   "execution_count": null,
   "metadata": {
    "collapsed": false
   },
   "outputs": [],
   "source": []
  },
  {
   "cell_type": "code",
   "execution_count": null,
   "metadata": {
    "collapsed": false
   },
   "outputs": [],
   "source": [
    "\n",
    "    \n",
    "    \n",
    "\n",
    "   \n",
    "\n",
    "\n",
    "    "
   ]
  },
  {
   "cell_type": "code",
   "execution_count": 36,
   "metadata": {
    "collapsed": false
   },
   "outputs": [
    {
     "name": "stdout",
     "output_type": "stream",
     "text": [
      "ENSG00000230415.1\n"
     ]
    }
   ],
   "source": [
    "\n",
    "\n",
    "def output_gene_info(geneName, paramDict):\n",
    "    \n",
    "    fileIN = open(paramDict[\"tmpDir\"] + '/chrname2.txt')\n",
    "    selected = list()\n",
    "    for i in fileIN: \n",
    "        i = i.rstrip().split('\\t')\n",
    "        \n",
    "        if i[3]== geneName:\n",
    "            selected = i\n",
    "            break\n",
    "            \n",
    "    return selected\n",
    "\n",
    "  \n",
    "def output_header(indVector): \n",
    "\n",
    "            \n",
    "            \n",
    "    header = \"\\t\".join(['#chr',  'start', 'end' , 'gene' , 'length' , 'strand'] + [str(x) for x in indVector] )\n",
    "    return header\n",
    "\n",
    "    fileIN.close()\n",
    "\n",
    "def output_bed(indivVector, expVector, filepath, geneName, paramDict):\n",
    "    selected = output_gene_info(geneName, paramDict)\n",
    "    header = output_header(indivVector)\n",
    "    with open(filepath, 'w') as outfile:\n",
    "        outfile.write(header + \"\\n\")\n",
    "        geneLocation = selected\n",
    "        outfile.write(\"\\t\".join([str(x) for x in geneLocation]) + \"\\t\" + \"\\t\".join([str(x) for x in expVector]) + \"\\n\")\n",
    "print(geneName)        \n",
    "output_bed(indivVector, pp, paramDict[\"tmpSmall\"] + \"/GTExExpfile.bed\", geneName, paramDict)\n",
    "\n",
    "\n",
    "\n",
    "\n"
   ]
  },
  {
   "cell_type": "code",
   "execution_count": 38,
   "metadata": {
    "collapsed": false
   },
   "outputs": [
    {
     "data": {
      "text/plain": [
       "256"
      ]
     },
     "execution_count": 38,
     "metadata": {},
     "output_type": "execute_result"
    }
   ],
   "source": [
    "### Seems to be an error when indexing with the header, but worked after removing the header, \n",
    "##not sure we even need to index the PP file\n",
    "\n",
    "import os\n",
    "\n",
    "os.system(\"bgzip /users/michaelbinkley/desktop/RTCstuffs/tmpsmall/GTExExpfile.bed\")\n",
    "os.system(\"tabix -p bed /users/michaelbinkley/desktop/RTCstuffs/tmpsmall/GTExExpfile.bed.gz\")\n"
   ]
  },
  {
   "cell_type": "code",
   "execution_count": 40,
   "metadata": {
    "collapsed": false
   },
   "outputs": [
    {
     "data": {
      "text/plain": [
       "512"
      ]
     },
     "execution_count": 40,
     "metadata": {},
     "output_type": "execute_result"
    }
   ],
   "source": [
    "#### Calc RTC score \n",
    "\n",
    "import os\n",
    "\n",
    "\n",
    "os.system(\"QTLtools rtc --vcf /users/michaelbinkley/desktop/GTEx/chr22_subset_gtex.vcf.gz' --bed /users/michaelbinkley/desktop/RTCstuffs/tmpsmall/GTExExpfile.bed.gz --hotspot hotspots_b37_hg19.bed --gwas-cis GWAS.b37.txt permutations_all.significant.txt --normal --out rtc_results.txt\")\n",
    "\n"
   ]
  },
  {
   "cell_type": "code",
   "execution_count": null,
   "metadata": {
    "collapsed": true
   },
   "outputs": [],
   "source": [
    "#### For a given eQTL (the best eqtl for a given gene) run simulation with the most sign gwas hit in coldspot\n",
    "#### TRIAL 1 - use the best overall eQTL within any coldspot for a given gene"
   ]
  }
 ],
 "metadata": {
  "kernelspec": {
   "display_name": "Python 3",
   "language": "python",
   "name": "python3"
  },
  "language_info": {
   "codemirror_mode": {
    "name": "ipython",
    "version": 3
   },
   "file_extension": ".py",
   "mimetype": "text/x-python",
   "name": "python",
   "nbconvert_exporter": "python",
   "pygments_lexer": "ipython3",
   "version": "3.5.4"
  }
 },
 "nbformat": 4,
 "nbformat_minor": 1
}
